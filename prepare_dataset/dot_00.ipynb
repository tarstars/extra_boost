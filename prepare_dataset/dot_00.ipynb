{
 "cells": [
  {
   "cell_type": "markdown",
   "id": "59160d43-85eb-4933-9c8c-c0f240b3a2ce",
   "metadata": {},
   "source": [
    "# Imports"
   ]
  },
  {
   "cell_type": "code",
   "execution_count": 485,
   "id": "1fc3e19d-2a68-4500-afce-efa521dca3f2",
   "metadata": {},
   "outputs": [],
   "source": [
    "from io import StringIO\n",
    "\n",
    "from catboost import CatBoostRegressor, Pool\n",
    "from glob import glob\n",
    "from googlesearch import search\n",
    "from SPARQLWrapper import SPARQLWrapper, JSON\n",
    "from sklearn.model_selection import train_test_split\n",
    "\n",
    "import matplotlib.pyplot as plt\n",
    "import re\n",
    "import pandas as pd\n",
    "import zipfile"
   ]
  },
  {
   "cell_type": "markdown",
   "id": "ae16ec44-dd8e-4a60-bd0c-30692a67f391",
   "metadata": {},
   "source": [
    "# Merge files into one"
   ]
  },
  {
   "cell_type": "code",
   "execution_count": 319,
   "id": "ece68cde-0543-4c47-9aae-a0354b2b0bb4",
   "metadata": {},
   "outputs": [],
   "source": [
    "df_dot = pd.concat(\n",
    "    pd.read_csv(zipfile.ZipFile(filename, 'r').open(\"T_T100D_SEGMENT_US_CARRIER_ONLY.csv\")) \n",
    "    for filename in glob(\"/home/tass/database/app_in_the_air/demand_predictions/dot_raw/with_seats*\")\n",
    ")"
   ]
  },
  {
   "cell_type": "code",
   "execution_count": 320,
   "id": "3d2ea3e4-23f2-4cf3-becd-a19168512a66",
   "metadata": {},
   "outputs": [
    {
     "data": {
      "text/plain": [
       "0    2011\n",
       "0    2012\n",
       "0    2013\n",
       "0    2014\n",
       "0    2015\n",
       "0    2016\n",
       "0    2017\n",
       "0    2018\n",
       "0    2019\n",
       "0    2020\n",
       "0    2021\n",
       "0    2022\n",
       "Name: YEAR, dtype: int64"
      ]
     },
     "execution_count": 320,
     "metadata": {},
     "output_type": "execute_result"
    }
   ],
   "source": [
    "df_dot[\"YEAR\"].drop_duplicates().sort_values()"
   ]
  },
  {
   "cell_type": "markdown",
   "id": "8b6a3469-c60d-46b6-9f1d-b5b6d3fd2f93",
   "metadata": {},
   "source": [
    "# Load dataset"
   ]
  },
  {
   "cell_type": "raw",
   "id": "0f4380ba-faef-4bb8-bb3b-b2bb87699fa7",
   "metadata": {},
   "source": [
    "df_dot = pd.read_parquet(\"/home/tass/database/app_in_the_air/demand_predictions/dot_raw/dot.parquet\")"
   ]
  },
  {
   "cell_type": "code",
   "execution_count": 321,
   "id": "89b5d72a-15c5-4f26-a8b3-5796d3584cb6",
   "metadata": {},
   "outputs": [
    {
     "data": {
      "text/plain": [
       "(3986656, 13)"
      ]
     },
     "execution_count": 321,
     "metadata": {},
     "output_type": "execute_result"
    }
   ],
   "source": [
    "df_dot.shape"
   ]
  },
  {
   "cell_type": "code",
   "execution_count": 322,
   "id": "4041ad69-370a-4e02-a322-9f5d58a838ad",
   "metadata": {},
   "outputs": [
    {
     "data": {
      "text/html": [
       "<div>\n",
       "<style scoped>\n",
       "    .dataframe tbody tr th:only-of-type {\n",
       "        vertical-align: middle;\n",
       "    }\n",
       "\n",
       "    .dataframe tbody tr th {\n",
       "        vertical-align: top;\n",
       "    }\n",
       "\n",
       "    .dataframe thead th {\n",
       "        text-align: right;\n",
       "    }\n",
       "</style>\n",
       "<table border=\"1\" class=\"dataframe\">\n",
       "  <thead>\n",
       "    <tr style=\"text-align: right;\">\n",
       "      <th></th>\n",
       "      <th>SEATS</th>\n",
       "      <th>PASSENGERS</th>\n",
       "      <th>UNIQUE_CARRIER</th>\n",
       "      <th>UNIQUE_CARRIER_NAME</th>\n",
       "      <th>ORIGIN_AIRPORT_ID</th>\n",
       "      <th>ORIGIN</th>\n",
       "      <th>ORIGIN_CITY_NAME</th>\n",
       "      <th>DEST_AIRPORT_ID</th>\n",
       "      <th>DEST</th>\n",
       "      <th>DEST_CITY_NAME</th>\n",
       "      <th>AIRCRAFT_TYPE</th>\n",
       "      <th>YEAR</th>\n",
       "      <th>MONTH</th>\n",
       "    </tr>\n",
       "  </thead>\n",
       "  <tbody>\n",
       "    <tr>\n",
       "      <th>0</th>\n",
       "      <td>0.0</td>\n",
       "      <td>0.0</td>\n",
       "      <td>WN</td>\n",
       "      <td>Southwest Airlines Co.</td>\n",
       "      <td>15016</td>\n",
       "      <td>STL</td>\n",
       "      <td>St. Louis, MO</td>\n",
       "      <td>14492</td>\n",
       "      <td>RDU</td>\n",
       "      <td>Raleigh/Durham, NC</td>\n",
       "      <td>614</td>\n",
       "      <td>2019</td>\n",
       "      <td>6</td>\n",
       "    </tr>\n",
       "    <tr>\n",
       "      <th>1</th>\n",
       "      <td>0.0</td>\n",
       "      <td>0.0</td>\n",
       "      <td>5V</td>\n",
       "      <td>Tatonduk Outfitters Limited d/b/a Everts Air A...</td>\n",
       "      <td>10184</td>\n",
       "      <td>AET</td>\n",
       "      <td>Allakaket, AK</td>\n",
       "      <td>11630</td>\n",
       "      <td>FAI</td>\n",
       "      <td>Fairbanks, AK</td>\n",
       "      <td>150</td>\n",
       "      <td>2019</td>\n",
       "      <td>8</td>\n",
       "    </tr>\n",
       "  </tbody>\n",
       "</table>\n",
       "</div>"
      ],
      "text/plain": [
       "   SEATS  PASSENGERS UNIQUE_CARRIER  \\\n",
       "0    0.0         0.0             WN   \n",
       "1    0.0         0.0             5V   \n",
       "\n",
       "                                 UNIQUE_CARRIER_NAME  ORIGIN_AIRPORT_ID  \\\n",
       "0                             Southwest Airlines Co.              15016   \n",
       "1  Tatonduk Outfitters Limited d/b/a Everts Air A...              10184   \n",
       "\n",
       "  ORIGIN ORIGIN_CITY_NAME  DEST_AIRPORT_ID DEST      DEST_CITY_NAME  \\\n",
       "0    STL    St. Louis, MO            14492  RDU  Raleigh/Durham, NC   \n",
       "1    AET    Allakaket, AK            11630  FAI       Fairbanks, AK   \n",
       "\n",
       "   AIRCRAFT_TYPE  YEAR  MONTH  \n",
       "0            614  2019      6  \n",
       "1            150  2019      8  "
      ]
     },
     "execution_count": 322,
     "metadata": {},
     "output_type": "execute_result"
    }
   ],
   "source": [
    "df_dot.head(2)"
   ]
  },
  {
   "cell_type": "code",
   "execution_count": 323,
   "id": "80563bd4-461a-4a8a-a357-5da84e26987f",
   "metadata": {},
   "outputs": [],
   "source": [
    "df_city_names = df_dot[\"ORIGIN_CITY_NAME\"].drop_duplicates()"
   ]
  },
  {
   "cell_type": "code",
   "execution_count": 324,
   "id": "3e2057cd-c207-4f87-a842-acb45d0d7ccd",
   "metadata": {},
   "outputs": [
    {
     "data": {
      "text/plain": [
       "0            St. Louis, MO\n",
       "1            Allakaket, AK\n",
       "2          King Salmon, AK\n",
       "4            Anchorage, AK\n",
       "33               Aniak, AK\n",
       "35             Atqasuk, AK\n",
       "36              Bethel, AK\n",
       "43             Seattle, WA\n",
       "45              Barrow, AK\n",
       "48               Chino, CA\n",
       "49              Dayton, OH\n",
       "51          Dillingham, AK\n",
       "58            Unalaska, AK\n",
       "59             El Paso, TX\n",
       "61             Emmonak, AK\n",
       "64           Fairbanks, AK\n",
       "69    East Farmingdale, NY\n",
       "70          Fort Yukon, AK\n",
       "71              Galena, AK\n",
       "75             Iliamna, AK\n",
       "Name: ORIGIN_CITY_NAME, dtype: object"
      ]
     },
     "execution_count": 324,
     "metadata": {},
     "output_type": "execute_result"
    }
   ],
   "source": [
    "df_city_names.head(20)"
   ]
  },
  {
   "cell_type": "code",
   "execution_count": 325,
   "id": "ff2f3834-470f-4451-b812-8648255a152c",
   "metadata": {},
   "outputs": [
    {
     "data": {
      "text/plain": [
       "(68170, 2)"
      ]
     },
     "execution_count": 325,
     "metadata": {},
     "output_type": "execute_result"
    }
   ],
   "source": [
    "df_dot[[\"ORIGIN_CITY_NAME\", \"DEST_CITY_NAME\"]].drop_duplicates().shape"
   ]
  },
  {
   "cell_type": "code",
   "execution_count": 326,
   "id": "56766175-4842-436e-a7be-c50a524911f9",
   "metadata": {},
   "outputs": [
    {
     "data": {
      "text/plain": [
       "(1756,)"
      ]
     },
     "execution_count": 326,
     "metadata": {},
     "output_type": "execute_result"
    }
   ],
   "source": [
    "df_city_names.shape"
   ]
  },
  {
   "cell_type": "markdown",
   "id": "e22dd2c8-1429-4402-9df3-23cb88de0e31",
   "metadata": {},
   "source": [
    "# State codes"
   ]
  },
  {
   "cell_type": "code",
   "execution_count": 327,
   "id": "f613cb9c-c3af-4cfb-af80-5b8d1695218d",
   "metadata": {},
   "outputs": [],
   "source": [
    "state_codes = \"\"\"Alabama\tAL\tKentucky\tKY\tOhio\tOH\n",
    "Alaska\tAK\tLouisiana\tLA\tOklahoma\tOK\n",
    "Arizona\tAZ\tMaine\tME\tOregon\tOR\n",
    "Arkansas\tAR\tMaryland\tMD\tPennsylvania\tPA\n",
    "American Samoa\tAS\tMassachusetts\tMA\tPuerto Rico\tPR\n",
    "California\tCA\tMichigan\tMI\tRhode Island\tRI\n",
    "Colorado\tCO\tMinnesota\tMN\tSouth Carolina\tSC\n",
    "Connecticut\tCT\tMississippi\tMS\tSouth Dakota\tSD\n",
    "Delaware\tDE\tMissouri\tMO\tTennessee\tTN\n",
    "District of Columbia\tDC\tMontana\tMT\tTexas\tTX\n",
    "Florida\tFL\tNebraska\tNE\tTrust Territories\tTT\n",
    "Georgia\tGA\tNevada\tNV\tUtah\tUT\n",
    "Guam\tGU\tNew Hampshire\tNH\tVermont\tVT\n",
    "Hawaii\tHI\tNew Jersey\tNJ\tVirginia\tVA\n",
    "Idaho\tID\tNew Mexico\tNM\tVirgin Islands\tVI\n",
    "Illinois\tIL\tNew York\tNY\tWashington\tWA\n",
    "Indiana\tIN\tNorth Carolina\tNC\tWest Virginia\tWV\n",
    "Iowa\tIA\tNorth Dakota\tND\tWisconsin\tWI\n",
    "Kansas\tKS\tNorthern Mariana Islands\tCM\tWyoming\tWY\"\"\""
   ]
  },
  {
   "cell_type": "code",
   "execution_count": 328,
   "id": "a8a6b4df-456d-46c4-ab96-92eacaa9961f",
   "metadata": {},
   "outputs": [],
   "source": [
    "df_state_codes = pd.read_csv(StringIO(state_codes), sep=\"\\t\", header=None)"
   ]
  },
  {
   "cell_type": "code",
   "execution_count": 329,
   "id": "20cec4f8-8e48-4d6c-be10-c07bae6c5f43",
   "metadata": {},
   "outputs": [],
   "source": [
    "df_two_columns_codes = pd.concat((\n",
    "    df_state_codes.iloc[:, :2].rename(columns={0: \"state\", 1: \"abbreviation\"}), \n",
    "    df_state_codes.iloc[:, 2:4].rename(columns={2: \"state\", 3: \"abbreviation\"}), \n",
    "    df_state_codes.iloc[:, 4:6].rename(columns={4: \"state\", 5: \"abbreviation\"})), ignore_index=False) "
   ]
  },
  {
   "cell_type": "code",
   "execution_count": 330,
   "id": "9cd92105-c675-42dd-8e9f-41ed65b0f84d",
   "metadata": {
    "tags": []
   },
   "outputs": [],
   "source": [
    "full2short = dict(df_two_columns_codes.itertuples(index=False, name=None))"
   ]
  },
  {
   "cell_type": "code",
   "execution_count": 331,
   "id": "2740e5d2-b986-4c59-867e-321a5ca9ceb6",
   "metadata": {
    "tags": []
   },
   "outputs": [],
   "source": [
    "short2full = dict(map(lambda x: (x[1], x[0]), df_two_columns_codes.itertuples(index=False, name=None)))"
   ]
  },
  {
   "cell_type": "markdown",
   "id": "985a6b40-a1f5-4eab-b0fb-15e0748ffeb8",
   "metadata": {},
   "source": [
    "# Population dataset"
   ]
  },
  {
   "cell_type": "code",
   "execution_count": 332,
   "id": "69df7cb4-f9d9-4c07-ab83-e857c9835c9b",
   "metadata": {},
   "outputs": [
    {
     "name": "stderr",
     "output_type": "stream",
     "text": [
      "/mnt/envs/env38/lib/python3.8/site-packages/IPython/core/interactiveshell.py:3457: DtypeWarning: Columns (1) have mixed types.Specify dtype option on import or set low_memory=False.\n",
      "  exec(code_obj, self.user_global_ns, self.user_ns)\n"
     ]
    }
   ],
   "source": [
    "df_population = pd.read_csv(\"/home/tass/database/app_in_the_air/demand_predictions/dot_raw/UNdata_Export_20220412_221849008.csv\")"
   ]
  },
  {
   "cell_type": "code",
   "execution_count": 333,
   "id": "d361c262-eaca-4e4a-bc7a-4b8e5359b365",
   "metadata": {},
   "outputs": [
    {
     "data": {
      "text/html": [
       "<div>\n",
       "<style scoped>\n",
       "    .dataframe tbody tr th:only-of-type {\n",
       "        vertical-align: middle;\n",
       "    }\n",
       "\n",
       "    .dataframe tbody tr th {\n",
       "        vertical-align: top;\n",
       "    }\n",
       "\n",
       "    .dataframe thead th {\n",
       "        text-align: right;\n",
       "    }\n",
       "</style>\n",
       "<table border=\"1\" class=\"dataframe\">\n",
       "  <thead>\n",
       "    <tr style=\"text-align: right;\">\n",
       "      <th></th>\n",
       "      <th>Country or Area</th>\n",
       "      <th>Year</th>\n",
       "      <th>Area</th>\n",
       "      <th>Sex</th>\n",
       "      <th>City</th>\n",
       "      <th>City type</th>\n",
       "      <th>Record Type</th>\n",
       "      <th>Reliability</th>\n",
       "      <th>Source Year</th>\n",
       "      <th>Value</th>\n",
       "      <th>Value Footnotes</th>\n",
       "    </tr>\n",
       "  </thead>\n",
       "  <tbody>\n",
       "    <tr>\n",
       "      <th>0</th>\n",
       "      <td>Åland Islands</td>\n",
       "      <td>2020</td>\n",
       "      <td>Total</td>\n",
       "      <td>Both Sexes</td>\n",
       "      <td>MARIEHAMN</td>\n",
       "      <td>City proper</td>\n",
       "      <td>Estimate - de jure</td>\n",
       "      <td>Final figure, complete</td>\n",
       "      <td>2021.0</td>\n",
       "      <td>11692.0</td>\n",
       "      <td>1</td>\n",
       "    </tr>\n",
       "    <tr>\n",
       "      <th>1</th>\n",
       "      <td>Åland Islands</td>\n",
       "      <td>2020</td>\n",
       "      <td>Total</td>\n",
       "      <td>Male</td>\n",
       "      <td>MARIEHAMN</td>\n",
       "      <td>City proper</td>\n",
       "      <td>Estimate - de jure</td>\n",
       "      <td>Final figure, complete</td>\n",
       "      <td>2021.0</td>\n",
       "      <td>5599.5</td>\n",
       "      <td>1</td>\n",
       "    </tr>\n",
       "    <tr>\n",
       "      <th>2</th>\n",
       "      <td>Åland Islands</td>\n",
       "      <td>2020</td>\n",
       "      <td>Total</td>\n",
       "      <td>Female</td>\n",
       "      <td>MARIEHAMN</td>\n",
       "      <td>City proper</td>\n",
       "      <td>Estimate - de jure</td>\n",
       "      <td>Final figure, complete</td>\n",
       "      <td>2021.0</td>\n",
       "      <td>6092.0</td>\n",
       "      <td>1</td>\n",
       "    </tr>\n",
       "    <tr>\n",
       "      <th>3</th>\n",
       "      <td>Åland Islands</td>\n",
       "      <td>2019</td>\n",
       "      <td>Total</td>\n",
       "      <td>Both Sexes</td>\n",
       "      <td>MARIEHAMN</td>\n",
       "      <td>City proper</td>\n",
       "      <td>Estimate - de jure</td>\n",
       "      <td>Final figure, complete</td>\n",
       "      <td>2020.0</td>\n",
       "      <td>11711.0</td>\n",
       "      <td>1</td>\n",
       "    </tr>\n",
       "  </tbody>\n",
       "</table>\n",
       "</div>"
      ],
      "text/plain": [
       "  Country or Area  Year   Area         Sex       City    City type  \\\n",
       "0   Åland Islands  2020  Total  Both Sexes  MARIEHAMN  City proper   \n",
       "1   Åland Islands  2020  Total        Male  MARIEHAMN  City proper   \n",
       "2   Åland Islands  2020  Total      Female  MARIEHAMN  City proper   \n",
       "3   Åland Islands  2019  Total  Both Sexes  MARIEHAMN  City proper   \n",
       "\n",
       "          Record Type             Reliability  Source Year    Value  \\\n",
       "0  Estimate - de jure  Final figure, complete       2021.0  11692.0   \n",
       "1  Estimate - de jure  Final figure, complete       2021.0   5599.5   \n",
       "2  Estimate - de jure  Final figure, complete       2021.0   6092.0   \n",
       "3  Estimate - de jure  Final figure, complete       2020.0  11711.0   \n",
       "\n",
       "  Value Footnotes  \n",
       "0               1  \n",
       "1               1  \n",
       "2               1  \n",
       "3               1  "
      ]
     },
     "execution_count": 333,
     "metadata": {},
     "output_type": "execute_result"
    }
   ],
   "source": [
    "df_population.head(4)"
   ]
  },
  {
   "cell_type": "code",
   "execution_count": 334,
   "id": "35adede7-99a9-43c9-8167-a6254ac45fe4",
   "metadata": {},
   "outputs": [],
   "source": [
    "df_pop_filt = (df_population\n",
    "                .query(\"Year == 2020 and Sex == 'Both Sexes'\")[[\"Country or Area\", \"Area\", \"City\", \"Value\"]]\n",
    "              )"
   ]
  },
  {
   "cell_type": "code",
   "execution_count": 335,
   "id": "8397bf30-238b-4f3e-b60d-d7d5fa6fe407",
   "metadata": {},
   "outputs": [
    {
     "data": {
      "text/html": [
       "<div>\n",
       "<style scoped>\n",
       "    .dataframe tbody tr th:only-of-type {\n",
       "        vertical-align: middle;\n",
       "    }\n",
       "\n",
       "    .dataframe tbody tr th {\n",
       "        vertical-align: top;\n",
       "    }\n",
       "\n",
       "    .dataframe thead th {\n",
       "        text-align: right;\n",
       "    }\n",
       "</style>\n",
       "<table border=\"1\" class=\"dataframe\">\n",
       "  <thead>\n",
       "    <tr style=\"text-align: right;\">\n",
       "      <th></th>\n",
       "      <th>Country or Area</th>\n",
       "      <th>Area</th>\n",
       "      <th>City</th>\n",
       "      <th>Value</th>\n",
       "    </tr>\n",
       "  </thead>\n",
       "  <tbody>\n",
       "    <tr>\n",
       "      <th>0</th>\n",
       "      <td>Åland Islands</td>\n",
       "      <td>Total</td>\n",
       "      <td>MARIEHAMN</td>\n",
       "      <td>11692.00000</td>\n",
       "    </tr>\n",
       "    <tr>\n",
       "      <th>253</th>\n",
       "      <td>Argentina</td>\n",
       "      <td>Total</td>\n",
       "      <td>Bahía Blanca-Cerri</td>\n",
       "      <td>314538.59851</td>\n",
       "    </tr>\n",
       "  </tbody>\n",
       "</table>\n",
       "</div>"
      ],
      "text/plain": [
       "    Country or Area   Area                City         Value\n",
       "0     Åland Islands  Total           MARIEHAMN   11692.00000\n",
       "253       Argentina  Total  Bahía Blanca-Cerri  314538.59851"
      ]
     },
     "execution_count": 335,
     "metadata": {},
     "output_type": "execute_result"
    }
   ],
   "source": [
    "df_pop_filt.head(2)"
   ]
  },
  {
   "cell_type": "markdown",
   "id": "df562197-6005-44b5-9014-7074218c7d6d",
   "metadata": {},
   "source": [
    "# Join population dataset with cities from DOT"
   ]
  },
  {
   "cell_type": "code",
   "execution_count": 336,
   "id": "f3413292-b889-4ebd-94e3-fce4a17843ca",
   "metadata": {},
   "outputs": [
    {
     "data": {
      "text/plain": [
       "0      St. Louis, MO\n",
       "1      Allakaket, AK\n",
       "2    King Salmon, AK\n",
       "4      Anchorage, AK\n",
       "Name: ORIGIN_CITY_NAME, dtype: object"
      ]
     },
     "execution_count": 336,
     "metadata": {},
     "output_type": "execute_result"
    }
   ],
   "source": [
    "df_city_names.head(4)"
   ]
  },
  {
   "cell_type": "code",
   "execution_count": 337,
   "id": "7c750626-2d87-46fa-95d6-b9a7dcb74438",
   "metadata": {},
   "outputs": [],
   "source": [
    "df_dot_cities = df_city_names.str.split(\",\", expand=True).rename(columns={0: \"city\", 1: \"state\"})"
   ]
  },
  {
   "cell_type": "code",
   "execution_count": 338,
   "id": "bfbd0099-32d4-4c3e-a14f-672ed2db520c",
   "metadata": {},
   "outputs": [
    {
     "data": {
      "text/plain": [
       "(1756, 2)"
      ]
     },
     "execution_count": 338,
     "metadata": {},
     "output_type": "execute_result"
    }
   ],
   "source": [
    "df_dot_cities.shape"
   ]
  },
  {
   "cell_type": "markdown",
   "id": "f2ec19b2-c5ee-4228-a871-7596c3b477ef",
   "metadata": {},
   "source": [
    "## unique cities"
   ]
  },
  {
   "cell_type": "code",
   "execution_count": 339,
   "id": "37671143-c795-4435-be70-327edb723586",
   "metadata": {},
   "outputs": [],
   "source": [
    "df_dot_city_unique = df_dot_cities[[\"city\"]].drop_duplicates()"
   ]
  },
  {
   "cell_type": "code",
   "execution_count": 340,
   "id": "8b1ac21f-08f4-4e09-85e4-1a9bb4bc4971",
   "metadata": {},
   "outputs": [
    {
     "data": {
      "text/plain": [
       "(1631, 1)"
      ]
     },
     "execution_count": 340,
     "metadata": {},
     "output_type": "execute_result"
    }
   ],
   "source": [
    "df_dot_city_unique.shape"
   ]
  },
  {
   "cell_type": "code",
   "execution_count": 341,
   "id": "64e1b5ad-b00f-4fe8-a13b-a9155b77e099",
   "metadata": {},
   "outputs": [],
   "source": [
    "df_pop_unique = df_pop_filt[[\"City\"]].drop_duplicates().rename(columns={\"City\": \"city\"})"
   ]
  },
  {
   "cell_type": "code",
   "execution_count": 342,
   "id": "6edcaba3-0ad9-4dc2-a498-d37f613e1e60",
   "metadata": {},
   "outputs": [
    {
     "data": {
      "text/plain": [
       "(1205, 1)"
      ]
     },
     "execution_count": 342,
     "metadata": {},
     "output_type": "execute_result"
    }
   ],
   "source": [
    "df_pop_unique.shape"
   ]
  },
  {
   "cell_type": "code",
   "execution_count": 343,
   "id": "c939c518-a9a9-46b9-9741-92039db180d0",
   "metadata": {},
   "outputs": [],
   "source": [
    "df_dot_pop = df_dot_city_unique.merge(df_pop_unique, on=\"city\")"
   ]
  },
  {
   "cell_type": "code",
   "execution_count": 344,
   "id": "81cd5714-9be1-4c6e-b7e4-5c450e36a44f",
   "metadata": {},
   "outputs": [
    {
     "data": {
      "text/plain": [
       "(17, 1)"
      ]
     },
     "execution_count": 344,
     "metadata": {},
     "output_type": "execute_result"
    }
   ],
   "source": [
    "df_dot_pop.shape"
   ]
  },
  {
   "cell_type": "code",
   "execution_count": 345,
   "id": "3ae8852f-034e-4dc3-b825-9b33e02f8c46",
   "metadata": {
    "tags": []
   },
   "outputs": [
    {
     "data": {
      "text/html": [
       "<div>\n",
       "<style scoped>\n",
       "    .dataframe tbody tr th:only-of-type {\n",
       "        vertical-align: middle;\n",
       "    }\n",
       "\n",
       "    .dataframe tbody tr th {\n",
       "        vertical-align: top;\n",
       "    }\n",
       "\n",
       "    .dataframe thead th {\n",
       "        text-align: right;\n",
       "    }\n",
       "</style>\n",
       "<table border=\"1\" class=\"dataframe\">\n",
       "  <thead>\n",
       "    <tr style=\"text-align: right;\">\n",
       "      <th></th>\n",
       "      <th>city</th>\n",
       "    </tr>\n",
       "  </thead>\n",
       "  <tbody>\n",
       "    <tr>\n",
       "      <th>0</th>\n",
       "      <td>San Juan</td>\n",
       "    </tr>\n",
       "    <tr>\n",
       "      <th>1</th>\n",
       "      <td>Toledo</td>\n",
       "    </tr>\n",
       "    <tr>\n",
       "      <th>2</th>\n",
       "      <td>Richmond</td>\n",
       "    </tr>\n",
       "    <tr>\n",
       "      <th>3</th>\n",
       "      <td>Georgetown</td>\n",
       "    </tr>\n",
       "    <tr>\n",
       "      <th>4</th>\n",
       "      <td>Santa Ana</td>\n",
       "    </tr>\n",
       "    <tr>\n",
       "      <th>5</th>\n",
       "      <td>Burlington</td>\n",
       "    </tr>\n",
       "    <tr>\n",
       "      <th>6</th>\n",
       "      <td>Victoria</td>\n",
       "    </tr>\n",
       "    <tr>\n",
       "      <th>7</th>\n",
       "      <td>Waterloo</td>\n",
       "    </tr>\n",
       "    <tr>\n",
       "      <th>8</th>\n",
       "      <td>Rosario</td>\n",
       "    </tr>\n",
       "    <tr>\n",
       "      <th>9</th>\n",
       "      <td>Santa Rosa</td>\n",
       "    </tr>\n",
       "    <tr>\n",
       "      <th>10</th>\n",
       "      <td>San Carlos</td>\n",
       "    </tr>\n",
       "    <tr>\n",
       "      <th>11</th>\n",
       "      <td>Cambridge</td>\n",
       "    </tr>\n",
       "    <tr>\n",
       "      <th>12</th>\n",
       "      <td>Hamilton</td>\n",
       "    </tr>\n",
       "    <tr>\n",
       "      <th>13</th>\n",
       "      <td>Ponce</td>\n",
       "    </tr>\n",
       "    <tr>\n",
       "      <th>14</th>\n",
       "      <td>Belleville</td>\n",
       "    </tr>\n",
       "    <tr>\n",
       "      <th>15</th>\n",
       "      <td>Kingston</td>\n",
       "    </tr>\n",
       "    <tr>\n",
       "      <th>16</th>\n",
       "      <td>Vancouver</td>\n",
       "    </tr>\n",
       "  </tbody>\n",
       "</table>\n",
       "</div>"
      ],
      "text/plain": [
       "          city\n",
       "0     San Juan\n",
       "1       Toledo\n",
       "2     Richmond\n",
       "3   Georgetown\n",
       "4    Santa Ana\n",
       "5   Burlington\n",
       "6     Victoria\n",
       "7     Waterloo\n",
       "8      Rosario\n",
       "9   Santa Rosa\n",
       "10  San Carlos\n",
       "11   Cambridge\n",
       "12    Hamilton\n",
       "13       Ponce\n",
       "14  Belleville\n",
       "15    Kingston\n",
       "16   Vancouver"
      ]
     },
     "execution_count": 345,
     "metadata": {},
     "output_type": "execute_result"
    }
   ],
   "source": [
    "df_dot_pop"
   ]
  },
  {
   "cell_type": "markdown",
   "id": "99caf1f1-efa2-4a74-9773-5c691f917472",
   "metadata": {},
   "source": [
    "# the coverage is small. what is wrong?"
   ]
  },
  {
   "cell_type": "markdown",
   "id": "d8f07614-5081-488f-abf5-76cc24bfb5d1",
   "metadata": {},
   "source": [
    "* Guam, TT"
   ]
  },
  {
   "cell_type": "code",
   "execution_count": 346,
   "id": "e6e86cb2-4ab6-42e8-9a2b-ce9d2b35fe4f",
   "metadata": {},
   "outputs": [
    {
     "data": {
      "text/html": [
       "<div>\n",
       "<style scoped>\n",
       "    .dataframe tbody tr th:only-of-type {\n",
       "        vertical-align: middle;\n",
       "    }\n",
       "\n",
       "    .dataframe tbody tr th {\n",
       "        vertical-align: top;\n",
       "    }\n",
       "\n",
       "    .dataframe thead th {\n",
       "        text-align: right;\n",
       "    }\n",
       "</style>\n",
       "<table border=\"1\" class=\"dataframe\">\n",
       "  <thead>\n",
       "    <tr style=\"text-align: right;\">\n",
       "      <th></th>\n",
       "      <th>Country or Area</th>\n",
       "      <th>Year</th>\n",
       "      <th>Area</th>\n",
       "      <th>Sex</th>\n",
       "      <th>City</th>\n",
       "      <th>City type</th>\n",
       "      <th>Record Type</th>\n",
       "      <th>Reliability</th>\n",
       "      <th>Source Year</th>\n",
       "      <th>Value</th>\n",
       "      <th>Value Footnotes</th>\n",
       "    </tr>\n",
       "  </thead>\n",
       "  <tbody>\n",
       "    <tr>\n",
       "      <th>0</th>\n",
       "      <td>Åland Islands</td>\n",
       "      <td>2020</td>\n",
       "      <td>Total</td>\n",
       "      <td>Both Sexes</td>\n",
       "      <td>MARIEHAMN</td>\n",
       "      <td>City proper</td>\n",
       "      <td>Estimate - de jure</td>\n",
       "      <td>Final figure, complete</td>\n",
       "      <td>2021.0</td>\n",
       "      <td>11692.0</td>\n",
       "      <td>1</td>\n",
       "    </tr>\n",
       "    <tr>\n",
       "      <th>1</th>\n",
       "      <td>Åland Islands</td>\n",
       "      <td>2020</td>\n",
       "      <td>Total</td>\n",
       "      <td>Male</td>\n",
       "      <td>MARIEHAMN</td>\n",
       "      <td>City proper</td>\n",
       "      <td>Estimate - de jure</td>\n",
       "      <td>Final figure, complete</td>\n",
       "      <td>2021.0</td>\n",
       "      <td>5599.5</td>\n",
       "      <td>1</td>\n",
       "    </tr>\n",
       "  </tbody>\n",
       "</table>\n",
       "</div>"
      ],
      "text/plain": [
       "  Country or Area  Year   Area         Sex       City    City type  \\\n",
       "0   Åland Islands  2020  Total  Both Sexes  MARIEHAMN  City proper   \n",
       "1   Åland Islands  2020  Total        Male  MARIEHAMN  City proper   \n",
       "\n",
       "          Record Type             Reliability  Source Year    Value  \\\n",
       "0  Estimate - de jure  Final figure, complete       2021.0  11692.0   \n",
       "1  Estimate - de jure  Final figure, complete       2021.0   5599.5   \n",
       "\n",
       "  Value Footnotes  \n",
       "0               1  \n",
       "1               1  "
      ]
     },
     "execution_count": 346,
     "metadata": {},
     "output_type": "execute_result"
    }
   ],
   "source": [
    "df_population.head(2)"
   ]
  },
  {
   "cell_type": "code",
   "execution_count": 347,
   "id": "bb448574-024a-4091-bb15-1bd461216db9",
   "metadata": {},
   "outputs": [],
   "source": [
    "df_clear_pop = df_population.dropna()"
   ]
  },
  {
   "cell_type": "code",
   "execution_count": 348,
   "id": "1c5dbd2c-6701-4b65-ae31-52fc230e1a8b",
   "metadata": {},
   "outputs": [
    {
     "data": {
      "text/plain": [
       "0        False\n",
       "1        False\n",
       "2        False\n",
       "3        False\n",
       "4        False\n",
       "         ...  \n",
       "67193    False\n",
       "67194    False\n",
       "67195    False\n",
       "67196    False\n",
       "67197    False\n",
       "Name: City, Length: 32873, dtype: bool"
      ]
     },
     "execution_count": 348,
     "metadata": {},
     "output_type": "execute_result"
    }
   ],
   "source": [
    "df_clear_pop[\"City\"].str.contains(\"Guam\")"
   ]
  },
  {
   "cell_type": "code",
   "execution_count": 349,
   "id": "b65c8f0a-7739-4ef3-8768-59f661b2742a",
   "metadata": {},
   "outputs": [
    {
     "data": {
      "text/plain": [
       "0"
      ]
     },
     "execution_count": 349,
     "metadata": {},
     "output_type": "execute_result"
    }
   ],
   "source": [
    "(df_clear_pop[\"City\"].str.contains(\"Guam\")).sum()"
   ]
  },
  {
   "cell_type": "code",
   "execution_count": 350,
   "id": "1e5d2663-1591-4b93-9f4d-82d444339de4",
   "metadata": {
    "collapsed": true,
    "jupyter": {
     "outputs_hidden": true
    },
    "tags": []
   },
   "outputs": [
    {
     "ename": "UnicodeDecodeError",
     "evalue": "'utf-8' codec can't decode byte 0xf1 in position 107223: invalid continuation byte",
     "output_type": "error",
     "traceback": [
      "\u001b[0;31m---------------------------------------------------------------------------\u001b[0m",
      "\u001b[0;31mUnicodeDecodeError\u001b[0m                        Traceback (most recent call last)",
      "\u001b[0;32m/tmp/ipykernel_14349/1322387905.py\u001b[0m in \u001b[0;36m<module>\u001b[0;34m\u001b[0m\n\u001b[0;32m----> 1\u001b[0;31m \u001b[0mdf_pop_00\u001b[0m \u001b[0;34m=\u001b[0m \u001b[0mpd\u001b[0m\u001b[0;34m.\u001b[0m\u001b[0mread_csv\u001b[0m\u001b[0;34m(\u001b[0m\u001b[0;34m\"/home/tass/database/app_in_the_air/demand_predictions/dot_raw/co-est2021-alldata.csv\"\u001b[0m\u001b[0;34m)\u001b[0m\u001b[0;34m\u001b[0m\u001b[0;34m\u001b[0m\u001b[0m\n\u001b[0m",
      "\u001b[0;32m/mnt/envs/env38/lib/python3.8/site-packages/pandas/util/_decorators.py\u001b[0m in \u001b[0;36mwrapper\u001b[0;34m(*args, **kwargs)\u001b[0m\n\u001b[1;32m    309\u001b[0m                     \u001b[0mstacklevel\u001b[0m\u001b[0;34m=\u001b[0m\u001b[0mstacklevel\u001b[0m\u001b[0;34m,\u001b[0m\u001b[0;34m\u001b[0m\u001b[0;34m\u001b[0m\u001b[0m\n\u001b[1;32m    310\u001b[0m                 )\n\u001b[0;32m--> 311\u001b[0;31m             \u001b[0;32mreturn\u001b[0m \u001b[0mfunc\u001b[0m\u001b[0;34m(\u001b[0m\u001b[0;34m*\u001b[0m\u001b[0margs\u001b[0m\u001b[0;34m,\u001b[0m \u001b[0;34m**\u001b[0m\u001b[0mkwargs\u001b[0m\u001b[0;34m)\u001b[0m\u001b[0;34m\u001b[0m\u001b[0;34m\u001b[0m\u001b[0m\n\u001b[0m\u001b[1;32m    312\u001b[0m \u001b[0;34m\u001b[0m\u001b[0m\n\u001b[1;32m    313\u001b[0m         \u001b[0;32mreturn\u001b[0m \u001b[0mwrapper\u001b[0m\u001b[0;34m\u001b[0m\u001b[0;34m\u001b[0m\u001b[0m\n",
      "\u001b[0;32m/mnt/envs/env38/lib/python3.8/site-packages/pandas/io/parsers/readers.py\u001b[0m in \u001b[0;36mread_csv\u001b[0;34m(filepath_or_buffer, sep, delimiter, header, names, index_col, usecols, squeeze, prefix, mangle_dupe_cols, dtype, engine, converters, true_values, false_values, skipinitialspace, skiprows, skipfooter, nrows, na_values, keep_default_na, na_filter, verbose, skip_blank_lines, parse_dates, infer_datetime_format, keep_date_col, date_parser, dayfirst, cache_dates, iterator, chunksize, compression, thousands, decimal, lineterminator, quotechar, quoting, doublequote, escapechar, comment, encoding, encoding_errors, dialect, error_bad_lines, warn_bad_lines, on_bad_lines, delim_whitespace, low_memory, memory_map, float_precision, storage_options)\u001b[0m\n\u001b[1;32m    584\u001b[0m     \u001b[0mkwds\u001b[0m\u001b[0;34m.\u001b[0m\u001b[0mupdate\u001b[0m\u001b[0;34m(\u001b[0m\u001b[0mkwds_defaults\u001b[0m\u001b[0;34m)\u001b[0m\u001b[0;34m\u001b[0m\u001b[0;34m\u001b[0m\u001b[0m\n\u001b[1;32m    585\u001b[0m \u001b[0;34m\u001b[0m\u001b[0m\n\u001b[0;32m--> 586\u001b[0;31m     \u001b[0;32mreturn\u001b[0m \u001b[0m_read\u001b[0m\u001b[0;34m(\u001b[0m\u001b[0mfilepath_or_buffer\u001b[0m\u001b[0;34m,\u001b[0m \u001b[0mkwds\u001b[0m\u001b[0;34m)\u001b[0m\u001b[0;34m\u001b[0m\u001b[0;34m\u001b[0m\u001b[0m\n\u001b[0m\u001b[1;32m    587\u001b[0m \u001b[0;34m\u001b[0m\u001b[0m\n\u001b[1;32m    588\u001b[0m \u001b[0;34m\u001b[0m\u001b[0m\n",
      "\u001b[0;32m/mnt/envs/env38/lib/python3.8/site-packages/pandas/io/parsers/readers.py\u001b[0m in \u001b[0;36m_read\u001b[0;34m(filepath_or_buffer, kwds)\u001b[0m\n\u001b[1;32m    486\u001b[0m \u001b[0;34m\u001b[0m\u001b[0m\n\u001b[1;32m    487\u001b[0m     \u001b[0;32mwith\u001b[0m \u001b[0mparser\u001b[0m\u001b[0;34m:\u001b[0m\u001b[0;34m\u001b[0m\u001b[0;34m\u001b[0m\u001b[0m\n\u001b[0;32m--> 488\u001b[0;31m         \u001b[0;32mreturn\u001b[0m \u001b[0mparser\u001b[0m\u001b[0;34m.\u001b[0m\u001b[0mread\u001b[0m\u001b[0;34m(\u001b[0m\u001b[0mnrows\u001b[0m\u001b[0;34m)\u001b[0m\u001b[0;34m\u001b[0m\u001b[0;34m\u001b[0m\u001b[0m\n\u001b[0m\u001b[1;32m    489\u001b[0m \u001b[0;34m\u001b[0m\u001b[0m\n\u001b[1;32m    490\u001b[0m \u001b[0;34m\u001b[0m\u001b[0m\n",
      "\u001b[0;32m/mnt/envs/env38/lib/python3.8/site-packages/pandas/io/parsers/readers.py\u001b[0m in \u001b[0;36mread\u001b[0;34m(self, nrows)\u001b[0m\n\u001b[1;32m   1045\u001b[0m     \u001b[0;32mdef\u001b[0m \u001b[0mread\u001b[0m\u001b[0;34m(\u001b[0m\u001b[0mself\u001b[0m\u001b[0;34m,\u001b[0m \u001b[0mnrows\u001b[0m\u001b[0;34m=\u001b[0m\u001b[0;32mNone\u001b[0m\u001b[0;34m)\u001b[0m\u001b[0;34m:\u001b[0m\u001b[0;34m\u001b[0m\u001b[0;34m\u001b[0m\u001b[0m\n\u001b[1;32m   1046\u001b[0m         \u001b[0mnrows\u001b[0m \u001b[0;34m=\u001b[0m \u001b[0mvalidate_integer\u001b[0m\u001b[0;34m(\u001b[0m\u001b[0;34m\"nrows\"\u001b[0m\u001b[0;34m,\u001b[0m \u001b[0mnrows\u001b[0m\u001b[0;34m)\u001b[0m\u001b[0;34m\u001b[0m\u001b[0;34m\u001b[0m\u001b[0m\n\u001b[0;32m-> 1047\u001b[0;31m         \u001b[0mindex\u001b[0m\u001b[0;34m,\u001b[0m \u001b[0mcolumns\u001b[0m\u001b[0;34m,\u001b[0m \u001b[0mcol_dict\u001b[0m \u001b[0;34m=\u001b[0m \u001b[0mself\u001b[0m\u001b[0;34m.\u001b[0m\u001b[0m_engine\u001b[0m\u001b[0;34m.\u001b[0m\u001b[0mread\u001b[0m\u001b[0;34m(\u001b[0m\u001b[0mnrows\u001b[0m\u001b[0;34m)\u001b[0m\u001b[0;34m\u001b[0m\u001b[0;34m\u001b[0m\u001b[0m\n\u001b[0m\u001b[1;32m   1048\u001b[0m \u001b[0;34m\u001b[0m\u001b[0m\n\u001b[1;32m   1049\u001b[0m         \u001b[0;32mif\u001b[0m \u001b[0mindex\u001b[0m \u001b[0;32mis\u001b[0m \u001b[0;32mNone\u001b[0m\u001b[0;34m:\u001b[0m\u001b[0;34m\u001b[0m\u001b[0;34m\u001b[0m\u001b[0m\n",
      "\u001b[0;32m/mnt/envs/env38/lib/python3.8/site-packages/pandas/io/parsers/c_parser_wrapper.py\u001b[0m in \u001b[0;36mread\u001b[0;34m(self, nrows)\u001b[0m\n\u001b[1;32m    221\u001b[0m         \u001b[0;32mtry\u001b[0m\u001b[0;34m:\u001b[0m\u001b[0;34m\u001b[0m\u001b[0;34m\u001b[0m\u001b[0m\n\u001b[1;32m    222\u001b[0m             \u001b[0;32mif\u001b[0m \u001b[0mself\u001b[0m\u001b[0;34m.\u001b[0m\u001b[0mlow_memory\u001b[0m\u001b[0;34m:\u001b[0m\u001b[0;34m\u001b[0m\u001b[0;34m\u001b[0m\u001b[0m\n\u001b[0;32m--> 223\u001b[0;31m                 \u001b[0mchunks\u001b[0m \u001b[0;34m=\u001b[0m \u001b[0mself\u001b[0m\u001b[0;34m.\u001b[0m\u001b[0m_reader\u001b[0m\u001b[0;34m.\u001b[0m\u001b[0mread_low_memory\u001b[0m\u001b[0;34m(\u001b[0m\u001b[0mnrows\u001b[0m\u001b[0;34m)\u001b[0m\u001b[0;34m\u001b[0m\u001b[0;34m\u001b[0m\u001b[0m\n\u001b[0m\u001b[1;32m    224\u001b[0m                 \u001b[0;31m# destructive to chunks\u001b[0m\u001b[0;34m\u001b[0m\u001b[0;34m\u001b[0m\u001b[0;34m\u001b[0m\u001b[0m\n\u001b[1;32m    225\u001b[0m                 \u001b[0mdata\u001b[0m \u001b[0;34m=\u001b[0m \u001b[0m_concatenate_chunks\u001b[0m\u001b[0;34m(\u001b[0m\u001b[0mchunks\u001b[0m\u001b[0;34m)\u001b[0m\u001b[0;34m\u001b[0m\u001b[0;34m\u001b[0m\u001b[0m\n",
      "\u001b[0;32m/mnt/envs/env38/lib/python3.8/site-packages/pandas/_libs/parsers.pyx\u001b[0m in \u001b[0;36mpandas._libs.parsers.TextReader.read_low_memory\u001b[0;34m()\u001b[0m\n",
      "\u001b[0;32m/mnt/envs/env38/lib/python3.8/site-packages/pandas/_libs/parsers.pyx\u001b[0m in \u001b[0;36mpandas._libs.parsers.TextReader._read_rows\u001b[0;34m()\u001b[0m\n",
      "\u001b[0;32m/mnt/envs/env38/lib/python3.8/site-packages/pandas/_libs/parsers.pyx\u001b[0m in \u001b[0;36mpandas._libs.parsers.TextReader._tokenize_rows\u001b[0;34m()\u001b[0m\n",
      "\u001b[0;32m/mnt/envs/env38/lib/python3.8/site-packages/pandas/_libs/parsers.pyx\u001b[0m in \u001b[0;36mpandas._libs.parsers.raise_parser_error\u001b[0;34m()\u001b[0m\n",
      "\u001b[0;31mUnicodeDecodeError\u001b[0m: 'utf-8' codec can't decode byte 0xf1 in position 107223: invalid continuation byte"
     ]
    }
   ],
   "source": [
    "df_pop_00 = pd.read_csv(\"/home/tass/database/app_in_the_air/demand_predictions/dot_raw/co-est2021-alldata.csv\")"
   ]
  },
  {
   "cell_type": "code",
   "execution_count": 82,
   "id": "8dd296a8-8ed6-4051-9ee9-0adcea1af3e2",
   "metadata": {
    "collapsed": true,
    "jupyter": {
     "outputs_hidden": true
    },
    "tags": []
   },
   "outputs": [
    {
     "name": "stdout",
     "output_type": "stream",
     "text": [
      "{'a': {'type': 'uri', 'value': 'http://resource.geosciml.org/classifier/ics/ischart/Aalenian'}}\n",
      "{'a': {'type': 'uri', 'value': 'http://resource.geosciml.org/classifier/ics/ischart/Aeronian'}}\n",
      "{'a': {'type': 'uri', 'value': 'http://resource.geosciml.org/classifier/ics/ischart/Albian'}}\n"
     ]
    }
   ],
   "source": [
    "sparql = SPARQLWrapper(\n",
    "    \"http://vocabs.ardc.edu.au/repository/api/sparql/\"\n",
    "    \"csiro_international-chronostratigraphic-chart_geologic-time-scale-2020\"\n",
    ")\n",
    "sparql.setReturnFormat(JSON)\n",
    "\n",
    "# gets the first 3 geological ages\n",
    "# from a Geological Timescale database,\n",
    "# via a SPARQL endpoint\n",
    "sparql.setQuery(\"\"\"\n",
    "    PREFIX gts: <http://resource.geosciml.org/ontology/timescale/gts#>\n",
    "\n",
    "    SELECT *\n",
    "    WHERE {\n",
    "        ?a a gts:Age .\n",
    "    }\n",
    "    ORDER BY ?a\n",
    "    LIMIT 3\n",
    "    \"\"\"\n",
    ")\n",
    "\n",
    "try:\n",
    "    ret = sparql.queryAndConvert()\n",
    "\n",
    "    for r in ret[\"results\"][\"bindings\"]:\n",
    "        print(r)\n",
    "except Exception as e:\n",
    "    print(e)"
   ]
  },
  {
   "cell_type": "code",
   "execution_count": 84,
   "id": "d2a5fb5d-989f-46e2-9310-3b8ab7712d08",
   "metadata": {
    "collapsed": true,
    "jupyter": {
     "outputs_hidden": true
    },
    "tags": []
   },
   "outputs": [
    {
     "name": "stdout",
     "output_type": "stream",
     "text": [
      "https://www.worldometers.info/world-population/guam-population/\n",
      "https://data.worldbank.org/indicator/SP.POP.TOTL?locations=TT\n",
      "https://data.worldbank.org/indicator/SP.URB.TOTL?locations=TT\n",
      "https://www.unfpa.org/data/world-population/TT\n",
      "https://www2.census.gov/library/publications/decennial/1920/bulletins/demographics/census-of-guam.pdf\n",
      "https://www2.census.gov/prod2/decennial/documents/00476569ch6.pdf\n",
      "https://www.jstor.org/stable/pdf/198913.pdf\n",
      "https://www.jstor.org/stable/43620626\n",
      "https://pubmed.ncbi.nlm.nih.gov/7389543/\n",
      "https://en.wikipedia.org/wiki/Guam\n"
     ]
    }
   ],
   "source": [
    "for g in search(\"Guam, TT population\", tld=\"co.in\", num=10, stop=10, pause=2):\n",
    "    print(g)"
   ]
  },
  {
   "cell_type": "code",
   "execution_count": 85,
   "id": "aa4d6292-69d5-4b1a-ab2b-a6428b013e30",
   "metadata": {
    "collapsed": true,
    "jupyter": {
     "outputs_hidden": true
    },
    "tags": []
   },
   "outputs": [
    {
     "data": {
      "text/plain": [
       "\u001b[0;31mSignature:\u001b[0m\n",
       " \u001b[0msearch\u001b[0m\u001b[0;34m(\u001b[0m\u001b[0;34m\u001b[0m\n",
       "\u001b[0;34m\u001b[0m    \u001b[0mquery\u001b[0m\u001b[0;34m,\u001b[0m\u001b[0;34m\u001b[0m\n",
       "\u001b[0;34m\u001b[0m    \u001b[0mtld\u001b[0m\u001b[0;34m=\u001b[0m\u001b[0;34m'com'\u001b[0m\u001b[0;34m,\u001b[0m\u001b[0;34m\u001b[0m\n",
       "\u001b[0;34m\u001b[0m    \u001b[0mlang\u001b[0m\u001b[0;34m=\u001b[0m\u001b[0;34m'en'\u001b[0m\u001b[0;34m,\u001b[0m\u001b[0;34m\u001b[0m\n",
       "\u001b[0;34m\u001b[0m    \u001b[0mtbs\u001b[0m\u001b[0;34m=\u001b[0m\u001b[0;34m'0'\u001b[0m\u001b[0;34m,\u001b[0m\u001b[0;34m\u001b[0m\n",
       "\u001b[0;34m\u001b[0m    \u001b[0msafe\u001b[0m\u001b[0;34m=\u001b[0m\u001b[0;34m'off'\u001b[0m\u001b[0;34m,\u001b[0m\u001b[0;34m\u001b[0m\n",
       "\u001b[0;34m\u001b[0m    \u001b[0mnum\u001b[0m\u001b[0;34m=\u001b[0m\u001b[0;36m10\u001b[0m\u001b[0;34m,\u001b[0m\u001b[0;34m\u001b[0m\n",
       "\u001b[0;34m\u001b[0m    \u001b[0mstart\u001b[0m\u001b[0;34m=\u001b[0m\u001b[0;36m0\u001b[0m\u001b[0;34m,\u001b[0m\u001b[0;34m\u001b[0m\n",
       "\u001b[0;34m\u001b[0m    \u001b[0mstop\u001b[0m\u001b[0;34m=\u001b[0m\u001b[0;32mNone\u001b[0m\u001b[0;34m,\u001b[0m\u001b[0;34m\u001b[0m\n",
       "\u001b[0;34m\u001b[0m    \u001b[0mpause\u001b[0m\u001b[0;34m=\u001b[0m\u001b[0;36m2.0\u001b[0m\u001b[0;34m,\u001b[0m\u001b[0;34m\u001b[0m\n",
       "\u001b[0;34m\u001b[0m    \u001b[0mcountry\u001b[0m\u001b[0;34m=\u001b[0m\u001b[0;34m''\u001b[0m\u001b[0;34m,\u001b[0m\u001b[0;34m\u001b[0m\n",
       "\u001b[0;34m\u001b[0m    \u001b[0mextra_params\u001b[0m\u001b[0;34m=\u001b[0m\u001b[0;32mNone\u001b[0m\u001b[0;34m,\u001b[0m\u001b[0;34m\u001b[0m\n",
       "\u001b[0;34m\u001b[0m    \u001b[0muser_agent\u001b[0m\u001b[0;34m=\u001b[0m\u001b[0;32mNone\u001b[0m\u001b[0;34m,\u001b[0m\u001b[0;34m\u001b[0m\n",
       "\u001b[0;34m\u001b[0m    \u001b[0mverify_ssl\u001b[0m\u001b[0;34m=\u001b[0m\u001b[0;32mTrue\u001b[0m\u001b[0;34m,\u001b[0m\u001b[0;34m\u001b[0m\n",
       "\u001b[0;34m\u001b[0m\u001b[0;34m)\u001b[0m\u001b[0;34m\u001b[0m\u001b[0;34m\u001b[0m\u001b[0m\n",
       "\u001b[0;31mDocstring:\u001b[0m\n",
       "Search the given query string using Google.\n",
       "\n",
       ":param str query: Query string. Must NOT be url-encoded.\n",
       ":param str tld: Top level domain.\n",
       ":param str lang: Language.\n",
       ":param str tbs: Time limits (i.e \"qdr:h\" => last hour,\n",
       "    \"qdr:d\" => last 24 hours, \"qdr:m\" => last month).\n",
       ":param str safe: Safe search.\n",
       ":param int num: Number of results per page.\n",
       ":param int start: First result to retrieve.\n",
       ":param int stop: Last result to retrieve.\n",
       "    Use None to keep searching forever.\n",
       ":param float pause: Lapse to wait between HTTP requests.\n",
       "    A lapse too long will make the search slow, but a lapse too short may\n",
       "    cause Google to block your IP. Your mileage may vary!\n",
       ":param str country: Country or region to focus the search on. Similar to\n",
       "    changing the TLD, but does not yield exactly the same results.\n",
       "    Only Google knows why...\n",
       ":param dict extra_params: A dictionary of extra HTTP GET\n",
       "    parameters, which must be URL encoded. For example if you don't want\n",
       "    Google to filter similar results you can set the extra_params to\n",
       "    {'filter': '0'} which will append '&filter=0' to every query.\n",
       ":param str user_agent: User agent for the HTTP requests.\n",
       "    Use None for the default.\n",
       ":param bool verify_ssl: Verify the SSL certificate to prevent\n",
       "    traffic interception attacks. Defaults to True.\n",
       "\n",
       ":rtype: generator of str\n",
       ":return: Generator (iterator) that yields found URLs.\n",
       "    If the stop parameter is None the iterator will loop forever.\n",
       "\u001b[0;31mFile:\u001b[0m      /mnt/envs/env38/lib/python3.8/site-packages/googlesearch/__init__.py\n",
       "\u001b[0;31mType:\u001b[0m      function\n"
      ]
     },
     "metadata": {},
     "output_type": "display_data"
    }
   ],
   "source": [
    "? search"
   ]
  },
  {
   "cell_type": "code",
   "execution_count": 86,
   "id": "831ce86f-b4d7-457b-b820-bb057e646eee",
   "metadata": {
    "collapsed": true,
    "jupyter": {
     "outputs_hidden": true
    },
    "tags": []
   },
   "outputs": [
    {
     "name": "stdout",
     "output_type": "stream",
     "text": [
      "{'country': {'type': 'uri', 'value': 'http://www.wikidata.org/entity/Q664'}, 'population': {'datatype': 'http://www.w3.org/2001/XMLSchema#decimal', 'type': 'literal', 'value': '5112300'}, 'totalCityPopulation': {'datatype': 'http://www.w3.org/2001/XMLSchema#decimal', 'type': 'literal', 'value': '7129260'}, 'countryLabel': {'xml:lang': 'en', 'type': 'literal', 'value': 'New Zealand'}, 'ratio': {'datatype': 'http://www.w3.org/2001/XMLSchema#decimal', 'type': 'literal', 'value': '0.71708704690248356772'}}\n",
      "{'country': {'type': 'uri', 'value': 'http://www.wikidata.org/entity/Q221'}, 'population': {'datatype': 'http://www.w3.org/2001/XMLSchema#decimal', 'type': 'literal', 'value': '1836713'}, 'totalCityPopulation': {'datatype': 'http://www.w3.org/2001/XMLSchema#decimal', 'type': 'literal', 'value': '2121335'}, 'countryLabel': {'xml:lang': 'en', 'type': 'literal', 'value': 'North Macedonia'}, 'ratio': {'datatype': 'http://www.w3.org/2001/XMLSchema#decimal', 'type': 'literal', 'value': '0.86582882948709185489'}}\n",
      "{'country': {'type': 'uri', 'value': 'http://www.wikidata.org/entity/Q334'}, 'population': {'datatype': 'http://www.w3.org/2001/XMLSchema#decimal', 'type': 'literal', 'value': '5866139'}, 'totalCityPopulation': {'datatype': 'http://www.w3.org/2001/XMLSchema#decimal', 'type': 'literal', 'value': '5866139'}, 'countryLabel': {'xml:lang': 'en', 'type': 'literal', 'value': 'Singapore'}, 'ratio': {'datatype': 'http://www.w3.org/2001/XMLSchema#decimal', 'type': 'literal', 'value': '1'}}\n",
      "{'country': {'type': 'uri', 'value': 'http://www.wikidata.org/entity/Q25279'}, 'population': {'datatype': 'http://www.w3.org/2001/XMLSchema#decimal', 'type': 'literal', 'value': '160337'}, 'totalCityPopulation': {'datatype': 'http://www.w3.org/2001/XMLSchema#decimal', 'type': 'literal', 'value': '150000'}, 'countryLabel': {'xml:lang': 'en', 'type': 'literal', 'value': 'Curaçao'}, 'ratio': {'datatype': 'http://www.w3.org/2001/XMLSchema#decimal', 'type': 'literal', 'value': '1.06891333333333333333'}}\n",
      "{'country': {'type': 'uri', 'value': 'http://www.wikidata.org/entity/Q874'}, 'population': {'datatype': 'http://www.w3.org/2001/XMLSchema#decimal', 'type': 'literal', 'value': '5850901'}, 'totalCityPopulation': {'datatype': 'http://www.w3.org/2001/XMLSchema#decimal', 'type': 'literal', 'value': '5050356'}, 'countryLabel': {'xml:lang': 'en', 'type': 'literal', 'value': 'Turkmenistan'}, 'ratio': {'datatype': 'http://www.w3.org/2001/XMLSchema#decimal', 'type': 'literal', 'value': '1.15851258802349774947'}}\n",
      "{'country': {'type': 'uri', 'value': 'http://www.wikidata.org/entity/Q750'}, 'population': {'datatype': 'http://www.w3.org/2001/XMLSchema#decimal', 'type': 'literal', 'value': '11051600'}, 'totalCityPopulation': {'datatype': 'http://www.w3.org/2001/XMLSchema#decimal', 'type': 'literal', 'value': '9455516'}, 'countryLabel': {'xml:lang': 'en', 'type': 'literal', 'value': 'Bolivia'}, 'ratio': {'datatype': 'http://www.w3.org/2001/XMLSchema#decimal', 'type': 'literal', 'value': '1.16879924903093601661'}}\n",
      "{'country': {'type': 'uri', 'value': 'http://www.wikidata.org/entity/Q778'}, 'population': {'datatype': 'http://www.w3.org/2001/XMLSchema#decimal', 'type': 'literal', 'value': '395361'}, 'totalCityPopulation': {'datatype': 'http://www.w3.org/2001/XMLSchema#decimal', 'type': 'literal', 'value': '320345'}, 'countryLabel': {'xml:lang': 'en', 'type': 'literal', 'value': 'The Bahamas'}, 'ratio': {'datatype': 'http://www.w3.org/2001/XMLSchema#decimal', 'type': 'literal', 'value': '1.23417253273814169099'}}\n",
      "{'country': {'type': 'uri', 'value': 'http://www.wikidata.org/entity/Q223'}, 'population': {'datatype': 'http://www.w3.org/2001/XMLSchema#decimal', 'type': 'literal', 'value': '56081'}, 'totalCityPopulation': {'datatype': 'http://www.w3.org/2001/XMLSchema#decimal', 'type': 'literal', 'value': '45047'}, 'countryLabel': {'xml:lang': 'en', 'type': 'literal', 'value': 'Greenland'}, 'ratio': {'datatype': 'http://www.w3.org/2001/XMLSchema#decimal', 'type': 'literal', 'value': '1.24494416942304703976'}}\n",
      "{'country': {'type': 'uri', 'value': 'http://www.wikidata.org/entity/Q189'}, 'population': {'datatype': 'http://www.w3.org/2001/XMLSchema#decimal', 'type': 'literal', 'value': '357050'}, 'totalCityPopulation': {'datatype': 'http://www.w3.org/2001/XMLSchema#decimal', 'type': 'literal', 'value': '280468'}, 'countryLabel': {'xml:lang': 'en', 'type': 'literal', 'value': 'Iceland'}, 'ratio': {'datatype': 'http://www.w3.org/2001/XMLSchema#decimal', 'type': 'literal', 'value': '1.27305075801874010582'}}\n",
      "{'country': {'type': 'uri', 'value': 'http://www.wikidata.org/entity/Q408'}, 'population': {'datatype': 'http://www.w3.org/2001/XMLSchema#decimal', 'type': 'literal', 'value': '24511800'}, 'totalCityPopulation': {'datatype': 'http://www.w3.org/2001/XMLSchema#decimal', 'type': 'literal', 'value': '19089585'}, 'countryLabel': {'xml:lang': 'en', 'type': 'literal', 'value': 'Australia'}, 'ratio': {'datatype': 'http://www.w3.org/2001/XMLSchema#decimal', 'type': 'literal', 'value': '1.28404048595084701946'}}\n",
      "{'country': {'type': 'uri', 'value': 'http://www.wikidata.org/entity/Q865'}, 'population': {'datatype': 'http://www.w3.org/2001/XMLSchema#decimal', 'type': 'literal', 'value': '23593794'}, 'totalCityPopulation': {'datatype': 'http://www.w3.org/2001/XMLSchema#decimal', 'type': 'literal', 'value': '18115941'}, 'countryLabel': {'xml:lang': 'en', 'type': 'literal', 'value': 'Taiwan'}, 'ratio': {'datatype': 'http://www.w3.org/2001/XMLSchema#decimal', 'type': 'literal', 'value': '1.30237750277504215762'}}\n",
      "{'country': {'type': 'uri', 'value': 'http://www.wikidata.org/entity/Q711'}, 'population': {'datatype': 'http://www.w3.org/2001/XMLSchema#decimal', 'type': 'literal', 'value': '3075647'}, 'totalCityPopulation': {'datatype': 'http://www.w3.org/2001/XMLSchema#decimal', 'type': 'literal', 'value': '2351084'}, 'countryLabel': {'xml:lang': 'en', 'type': 'literal', 'value': 'Mongolia'}, 'ratio': {'datatype': 'http://www.w3.org/2001/XMLSchema#decimal', 'type': 'literal', 'value': '1.30818252346577153347'}}\n",
      "{'country': {'type': 'uri', 'value': 'http://www.wikidata.org/entity/Q717'}, 'population': {'datatype': 'http://www.w3.org/2001/XMLSchema#decimal', 'type': 'literal', 'value': '28515829'}, 'totalCityPopulation': {'datatype': 'http://www.w3.org/2001/XMLSchema#decimal', 'type': 'literal', 'value': '21718545'}, 'countryLabel': {'xml:lang': 'en', 'type': 'literal', 'value': 'Venezuela'}, 'ratio': {'datatype': 'http://www.w3.org/2001/XMLSchema#decimal', 'type': 'literal', 'value': '1.31297142603245291063'}}\n",
      "{'country': {'type': 'uri', 'value': 'http://www.wikidata.org/entity/Q810'}, 'population': {'datatype': 'http://www.w3.org/2001/XMLSchema#decimal', 'type': 'literal', 'value': '10428241'}, 'totalCityPopulation': {'datatype': 'http://www.w3.org/2001/XMLSchema#decimal', 'type': 'literal', 'value': '7634215'}, 'countryLabel': {'xml:lang': 'en', 'type': 'literal', 'value': 'Jordan'}, 'ratio': {'datatype': 'http://www.w3.org/2001/XMLSchema#decimal', 'type': 'literal', 'value': '1.36598733465064842947'}}\n",
      "{'country': {'type': 'uri', 'value': 'http://www.wikidata.org/entity/Q33'}, 'population': {'datatype': 'http://www.w3.org/2001/XMLSchema#decimal', 'type': 'literal', 'value': '5516224'}, 'totalCityPopulation': {'datatype': 'http://www.w3.org/2001/XMLSchema#decimal', 'type': 'literal', 'value': '3886056'}, 'countryLabel': {'xml:lang': 'en', 'type': 'literal', 'value': 'Finland'}, 'ratio': {'datatype': 'http://www.w3.org/2001/XMLSchema#decimal', 'type': 'literal', 'value': '1.41949163882352698983'}}\n",
      "{'country': {'type': 'uri', 'value': 'http://www.wikidata.org/entity/Q801'}, 'population': {'datatype': 'http://www.w3.org/2001/XMLSchema#decimal', 'type': 'literal', 'value': '9187000'}, 'totalCityPopulation': {'datatype': 'http://www.w3.org/2001/XMLSchema#decimal', 'type': 'literal', 'value': '6458077'}, 'countryLabel': {'xml:lang': 'en', 'type': 'literal', 'value': 'Israel'}, 'ratio': {'datatype': 'http://www.w3.org/2001/XMLSchema#decimal', 'type': 'literal', 'value': '1.42255968765934503413'}}\n",
      "{'country': {'type': 'uri', 'value': 'http://www.wikidata.org/entity/Q977'}, 'population': {'datatype': 'http://www.w3.org/2001/XMLSchema#decimal', 'type': 'literal', 'value': '956985'}, 'totalCityPopulation': {'datatype': 'http://www.w3.org/2001/XMLSchema#decimal', 'type': 'literal', 'value': '670959'}, 'countryLabel': {'xml:lang': 'en', 'type': 'literal', 'value': 'Djibouti'}, 'ratio': {'datatype': 'http://www.w3.org/2001/XMLSchema#decimal', 'type': 'literal', 'value': '1.42629430412290467823'}}\n",
      "{'country': {'type': 'uri', 'value': 'http://www.wikidata.org/entity/Q77'}, 'population': {'datatype': 'http://www.w3.org/2001/XMLSchema#decimal', 'type': 'literal', 'value': '3456750'}, 'totalCityPopulation': {'datatype': 'http://www.w3.org/2001/XMLSchema#decimal', 'type': 'literal', 'value': '2376896'}, 'countryLabel': {'xml:lang': 'en', 'type': 'literal', 'value': 'Uruguay'}, 'ratio': {'datatype': 'http://www.w3.org/2001/XMLSchema#decimal', 'type': 'literal', 'value': '1.45431268343251029915'}}\n",
      "{'country': {'type': 'uri', 'value': 'http://www.wikidata.org/entity/Q878'}, 'population': {'datatype': 'http://www.w3.org/2001/XMLSchema#decimal', 'type': 'literal', 'value': '9890400'}, 'totalCityPopulation': {'datatype': 'http://www.w3.org/2001/XMLSchema#decimal', 'type': 'literal', 'value': '6770169'}, 'countryLabel': {'xml:lang': 'en', 'type': 'literal', 'value': 'United Arab Emirates'}, 'ratio': {'datatype': 'http://www.w3.org/2001/XMLSchema#decimal', 'type': 'literal', 'value': '1.4608793369855316758'}}\n",
      "{'country': {'type': 'uri', 'value': 'http://www.wikidata.org/entity/Q37'}, 'population': {'datatype': 'http://www.w3.org/2001/XMLSchema#decimal', 'type': 'literal', 'value': '2790842'}, 'totalCityPopulation': {'datatype': 'http://www.w3.org/2001/XMLSchema#decimal', 'type': 'literal', 'value': '1854080'}, 'countryLabel': {'xml:lang': 'en', 'type': 'literal', 'value': 'Lithuania'}, 'ratio': {'datatype': 'http://www.w3.org/2001/XMLSchema#decimal', 'type': 'literal', 'value': '1.505243570935450466'}}\n",
      "{'country': {'type': 'uri', 'value': 'http://www.wikidata.org/entity/Q419'}, 'population': {'datatype': 'http://www.w3.org/2001/XMLSchema#decimal', 'type': 'literal', 'value': '29381884'}, 'totalCityPopulation': {'datatype': 'http://www.w3.org/2001/XMLSchema#decimal', 'type': 'literal', 'value': '19184223'}, 'countryLabel': {'xml:lang': 'en', 'type': 'literal', 'value': 'Peru'}, 'ratio': {'datatype': 'http://www.w3.org/2001/XMLSchema#decimal', 'type': 'literal', 'value': '1.53156497398930360641'}}\n",
      "{'country': {'type': 'uri', 'value': 'http://www.wikidata.org/entity/Q817'}, 'population': {'datatype': 'http://www.w3.org/2001/XMLSchema#decimal', 'type': 'literal', 'value': '4600000'}, 'totalCityPopulation': {'datatype': 'http://www.w3.org/2001/XMLSchema#decimal', 'type': 'literal', 'value': '2989000'}, 'countryLabel': {'xml:lang': 'en', 'type': 'literal', 'value': 'Kuwait'}, 'ratio': {'datatype': 'http://www.w3.org/2001/XMLSchema#decimal', 'type': 'literal', 'value': '1.53897624623619939779'}}\n",
      "{'country': {'type': 'uri', 'value': 'http://www.wikidata.org/entity/Q230'}, 'population': {'datatype': 'http://www.w3.org/2001/XMLSchema#decimal', 'type': 'literal', 'value': '3717100'}, 'totalCityPopulation': {'datatype': 'http://www.w3.org/2001/XMLSchema#decimal', 'type': 'literal', 'value': '2176960'}, 'countryLabel': {'xml:lang': 'en', 'type': 'literal', 'value': 'Georgia'}, 'ratio': {'datatype': 'http://www.w3.org/2001/XMLSchema#decimal', 'type': 'literal', 'value': '1.70747280611494928708'}}\n",
      "{'country': {'type': 'uri', 'value': 'http://www.wikidata.org/entity/Q710'}, 'population': {'datatype': 'http://www.w3.org/2001/XMLSchema#decimal', 'type': 'literal', 'value': '119438'}, 'totalCityPopulation': {'datatype': 'http://www.w3.org/2001/XMLSchema#decimal', 'type': 'literal', 'value': '69512'}, 'countryLabel': {'xml:lang': 'en', 'type': 'literal', 'value': 'Kiribati'}, 'ratio': {'datatype': 'http://www.w3.org/2001/XMLSchema#decimal', 'type': 'literal', 'value': '1.71823570031073771435'}}\n",
      "{'country': {'type': 'uri', 'value': 'http://www.wikidata.org/entity/Q23427'}, 'population': {'datatype': 'http://www.w3.org/2001/XMLSchema#decimal', 'type': 'literal', 'value': '53532'}, 'totalCityPopulation': {'datatype': 'http://www.w3.org/2001/XMLSchema#decimal', 'type': 'literal', 'value': '30432'}, 'countryLabel': {'xml:lang': 'en', 'type': 'literal', 'value': 'South Ossetia'}, 'ratio': {'datatype': 'http://www.w3.org/2001/XMLSchema#decimal', 'type': 'literal', 'value': '1.7590694006309148265'}}\n",
      "{'country': {'type': 'uri', 'value': 'http://www.wikidata.org/entity/Q236'}, 'population': {'datatype': 'http://www.w3.org/2001/XMLSchema#decimal', 'type': 'literal', 'value': '622359'}, 'totalCityPopulation': {'datatype': 'http://www.w3.org/2001/XMLSchema#decimal', 'type': 'literal', 'value': '339018'}, 'countryLabel': {'xml:lang': 'en', 'type': 'literal', 'value': 'Montenegro'}, 'ratio': {'datatype': 'http://www.w3.org/2001/XMLSchema#decimal', 'type': 'literal', 'value': '1.83576978213546183388'}}\n",
      "{'country': {'type': 'uri', 'value': 'http://www.wikidata.org/entity/Q217'}, 'population': {'datatype': 'http://www.w3.org/2001/XMLSchema#decimal', 'type': 'literal', 'value': '2550900'}, 'totalCityPopulation': {'datatype': 'http://www.w3.org/2001/XMLSchema#decimal', 'type': 'literal', 'value': '1386379'}, 'countryLabel': {'xml:lang': 'en', 'type': 'literal', 'value': 'Moldova'}, 'ratio': {'datatype': 'http://www.w3.org/2001/XMLSchema#decimal', 'type': 'literal', 'value': '1.83997305210191441157'}}\n",
      "{'country': {'type': 'uri', 'value': 'http://www.wikidata.org/entity/Q32'}, 'population': {'datatype': 'http://www.w3.org/2001/XMLSchema#decimal', 'type': 'literal', 'value': '645397'}, 'totalCityPopulation': {'datatype': 'http://www.w3.org/2001/XMLSchema#decimal', 'type': 'literal', 'value': '348253'}, 'countryLabel': {'xml:lang': 'en', 'type': 'literal', 'value': 'Luxembourg'}, 'ratio': {'datatype': 'http://www.w3.org/2001/XMLSchema#decimal', 'type': 'literal', 'value': '1.85324175240414296503'}}\n",
      "{'country': {'type': 'uri', 'value': 'http://www.wikidata.org/entity/Q672'}, 'population': {'datatype': 'http://www.w3.org/2001/XMLSchema#decimal', 'type': 'literal', 'value': '11192'}, 'totalCityPopulation': {'datatype': 'http://www.w3.org/2001/XMLSchema#decimal', 'type': 'literal', 'value': '6025'}, 'countryLabel': {'xml:lang': 'en', 'type': 'literal', 'value': 'Tuvalu'}, 'ratio': {'datatype': 'http://www.w3.org/2001/XMLSchema#decimal', 'type': 'literal', 'value': '1.85759336099585062241'}}\n",
      "{'country': {'type': 'uri', 'value': 'http://www.wikidata.org/entity/Q971'}, 'population': {'datatype': 'http://www.w3.org/2001/XMLSchema#decimal', 'type': 'literal', 'value': '5260750'}, 'totalCityPopulation': {'datatype': 'http://www.w3.org/2001/XMLSchema#decimal', 'type': 'literal', 'value': '2733459'}, 'countryLabel': {'xml:lang': 'en', 'type': 'literal', 'value': 'Republic of the Congo'}, 'ratio': {'datatype': 'http://www.w3.org/2001/XMLSchema#decimal', 'type': 'literal', 'value': '1.92457615058429630735'}}\n",
      "{'country': {'type': 'uri', 'value': 'http://www.wikidata.org/entity/Q222'}, 'population': {'datatype': 'http://www.w3.org/2001/XMLSchema#decimal', 'type': 'literal', 'value': '3020209'}, 'totalCityPopulation': {'datatype': 'http://www.w3.org/2001/XMLSchema#decimal', 'type': 'literal', 'value': '1567372'}, 'countryLabel': {'xml:lang': 'en', 'type': 'literal', 'value': 'Albania'}, 'ratio': {'datatype': 'http://www.w3.org/2001/XMLSchema#decimal', 'type': 'literal', 'value': '1.92692545228573688952'}}\n",
      "{'country': {'type': 'uri', 'value': 'http://www.wikidata.org/entity/Q786'}, 'population': {'datatype': 'http://www.w3.org/2001/XMLSchema#decimal', 'type': 'literal', 'value': '10403761'}, 'totalCityPopulation': {'datatype': 'http://www.w3.org/2001/XMLSchema#decimal', 'type': 'literal', 'value': '5280920'}, 'countryLabel': {'xml:lang': 'en', 'type': 'literal', 'value': 'Dominican Republic'}, 'ratio': {'datatype': 'http://www.w3.org/2001/XMLSchema#decimal', 'type': 'literal', 'value': '1.97006601122531680086'}}\n",
      "{'country': {'type': 'uri', 'value': 'http://www.wikidata.org/entity/Q858'}, 'population': {'datatype': 'http://www.w3.org/2001/XMLSchema#decimal', 'type': 'literal', 'value': '18499181'}, 'totalCityPopulation': {'datatype': 'http://www.w3.org/2001/XMLSchema#decimal', 'type': 'literal', 'value': '8931980'}, 'countryLabel': {'xml:lang': 'en', 'type': 'literal', 'value': 'Syria'}, 'ratio': {'datatype': 'http://www.w3.org/2001/XMLSchema#decimal', 'type': 'literal', 'value': '2.07111760214420542814'}}\n",
      "{'country': {'type': 'uri', 'value': 'http://www.wikidata.org/entity/Q43'}, 'population': {'datatype': 'http://www.w3.org/2001/XMLSchema#decimal', 'type': 'literal', 'value': '83614362'}, 'totalCityPopulation': {'datatype': 'http://www.w3.org/2001/XMLSchema#decimal', 'type': 'literal', 'value': '40213957.408'}, 'countryLabel': {'xml:lang': 'en', 'type': 'literal', 'value': 'Turkey'}, 'ratio': {'datatype': 'http://www.w3.org/2001/XMLSchema#decimal', 'type': 'literal', 'value': '2.07923734418055809764'}}\n",
      "{'country': {'type': 'uri', 'value': 'http://www.wikidata.org/entity/Q5785'}, 'population': {'datatype': 'http://www.w3.org/2001/XMLSchema#decimal', 'type': 'literal', 'value': '58435'}, 'totalCityPopulation': {'datatype': 'http://www.w3.org/2001/XMLSchema#decimal', 'type': 'literal', 'value': '27704'}, 'countryLabel': {'xml:lang': 'en', 'type': 'literal', 'value': 'Cayman Islands'}, 'ratio': {'datatype': 'http://www.w3.org/2001/XMLSchema#decimal', 'type': 'literal', 'value': '2.10926220040427375108'}}\n",
      "{'country': {'type': 'uri', 'value': 'http://www.wikidata.org/entity/Q983'}, 'population': {'datatype': 'http://www.w3.org/2001/XMLSchema#decimal', 'type': 'literal', 'value': '1267689'}, 'totalCityPopulation': {'datatype': 'http://www.w3.org/2001/XMLSchema#decimal', 'type': 'literal', 'value': '590876'}, 'countryLabel': {'xml:lang': 'en', 'type': 'literal', 'value': 'Equatorial Guinea'}, 'ratio': {'datatype': 'http://www.w3.org/2001/XMLSchema#decimal', 'type': 'literal', 'value': '2.14543999079333058036'}}\n",
      "{'country': {'type': 'uri', 'value': 'http://www.wikidata.org/entity/Q1016'}, 'population': {'datatype': 'http://www.w3.org/2001/XMLSchema#decimal', 'type': 'literal', 'value': '6678567'}, 'totalCityPopulation': {'datatype': 'http://www.w3.org/2001/XMLSchema#decimal', 'type': 'literal', 'value': '3065287'}, 'countryLabel': {'xml:lang': 'en', 'type': 'literal', 'value': 'Libya'}, 'ratio': {'datatype': 'http://www.w3.org/2001/XMLSchema#decimal', 'type': 'literal', 'value': '2.17877379834253693047'}}\n",
      "{'country': {'type': 'uri', 'value': 'http://www.wikidata.org/entity/Q695'}, 'population': {'datatype': 'http://www.w3.org/2001/XMLSchema#decimal', 'type': 'literal', 'value': '21729'}, 'totalCityPopulation': {'datatype': 'http://www.w3.org/2001/XMLSchema#decimal', 'type': 'literal', 'value': '9935'}, 'countryLabel': {'xml:lang': 'en', 'type': 'literal', 'value': 'Palau'}, 'ratio': {'datatype': 'http://www.w3.org/2001/XMLSchema#decimal', 'type': 'literal', 'value': '2.18711625566180171112'}}\n",
      "{'country': {'type': 'uri', 'value': 'http://www.wikidata.org/entity/Q241'}, 'population': {'datatype': 'http://www.w3.org/2001/XMLSchema#decimal', 'type': 'literal', 'value': '11181595'}, 'totalCityPopulation': {'datatype': 'http://www.w3.org/2001/XMLSchema#decimal', 'type': 'literal', 'value': '5073957'}, 'countryLabel': {'xml:lang': 'en', 'type': 'literal', 'value': 'Cuba'}, 'ratio': {'datatype': 'http://www.w3.org/2001/XMLSchema#decimal', 'type': 'literal', 'value': '2.20372285378058978427'}}\n",
      "{'country': {'type': 'uri', 'value': 'http://www.wikidata.org/entity/Q1011'}, 'population': {'datatype': 'http://www.w3.org/2001/XMLSchema#decimal', 'type': 'literal', 'value': '555988'}, 'totalCityPopulation': {'datatype': 'http://www.w3.org/2001/XMLSchema#decimal', 'type': 'literal', 'value': '246382'}, 'countryLabel': {'xml:lang': 'en', 'type': 'literal', 'value': 'Cape Verde'}, 'ratio': {'datatype': 'http://www.w3.org/2001/XMLSchema#decimal', 'type': 'literal', 'value': '2.25660965492609037998'}}\n",
      "{'country': {'type': 'uri', 'value': 'http://www.wikidata.org/entity/Q232'}, 'population': {'datatype': 'http://www.w3.org/2001/XMLSchema#decimal', 'type': 'literal', 'value': '18276500'}, 'totalCityPopulation': {'datatype': 'http://www.w3.org/2001/XMLSchema#decimal', 'type': 'literal', 'value': '7683170'}, 'countryLabel': {'xml:lang': 'en', 'type': 'literal', 'value': 'Kazakhstan'}, 'ratio': {'datatype': 'http://www.w3.org/2001/XMLSchema#decimal', 'type': 'literal', 'value': '2.37877074176414162383'}}\n",
      "{'country': {'type': 'uri', 'value': 'http://www.wikidata.org/entity/Q215'}, 'population': {'datatype': 'http://www.w3.org/2001/XMLSchema#decimal', 'type': 'literal', 'value': '2066880'}, 'totalCityPopulation': {'datatype': 'http://www.w3.org/2001/XMLSchema#decimal', 'type': 'literal', 'value': '857648'}, 'countryLabel': {'xml:lang': 'en', 'type': 'literal', 'value': 'Slovenia'}, 'ratio': {'datatype': 'http://www.w3.org/2001/XMLSchema#decimal', 'type': 'literal', 'value': '2.40993974217860940619'}}\n",
      "{'country': {'type': 'uri', 'value': 'http://www.wikidata.org/entity/Q736'}, 'population': {'datatype': 'http://www.w3.org/2001/XMLSchema#decimal', 'type': 'literal', 'value': '16624858'}, 'totalCityPopulation': {'datatype': 'http://www.w3.org/2001/XMLSchema#decimal', 'type': 'literal', 'value': '6775312'}, 'countryLabel': {'xml:lang': 'en', 'type': 'literal', 'value': 'Ecuador'}, 'ratio': {'datatype': 'http://www.w3.org/2001/XMLSchema#decimal', 'type': 'literal', 'value': '2.45374058050758400499'}}\n",
      "{'country': {'type': 'uri', 'value': 'http://www.wikidata.org/entity/Q730'}, 'population': {'datatype': 'http://www.w3.org/2001/XMLSchema#decimal', 'type': 'literal', 'value': '563402'}, 'totalCityPopulation': {'datatype': 'http://www.w3.org/2001/XMLSchema#decimal', 'type': 'literal', 'value': '229257'}, 'countryLabel': {'xml:lang': 'en', 'type': 'literal', 'value': 'Suriname'}, 'ratio': {'datatype': 'http://www.w3.org/2001/XMLSchema#decimal', 'type': 'literal', 'value': '2.45751274770236023328'}}\n",
      "{'country': {'type': 'uri', 'value': 'http://www.wikidata.org/entity/Q414'}, 'population': {'datatype': 'http://www.w3.org/2001/XMLSchema#decimal', 'type': 'literal', 'value': '44938712'}, 'totalCityPopulation': {'datatype': 'http://www.w3.org/2001/XMLSchema#decimal', 'type': 'literal', 'value': '18271788'}, 'countryLabel': {'xml:lang': 'en', 'type': 'literal', 'value': 'Argentina'}, 'ratio': {'datatype': 'http://www.w3.org/2001/XMLSchema#decimal', 'type': 'literal', 'value': '2.45945892104264782407'}}\n",
      "{'country': {'type': 'uri', 'value': 'http://www.wikidata.org/entity/Q16'}, 'population': {'datatype': 'http://www.w3.org/2001/XMLSchema#decimal', 'type': 'literal', 'value': '37894799'}, 'totalCityPopulation': {'datatype': 'http://www.w3.org/2001/XMLSchema#decimal', 'type': 'literal', 'value': '15073791'}, 'countryLabel': {'xml:lang': 'en', 'type': 'literal', 'value': 'Canada'}, 'ratio': {'datatype': 'http://www.w3.org/2001/XMLSchema#decimal', 'type': 'literal', 'value': '2.51395279395873274348'}}\n",
      "{'country': {'type': 'uri', 'value': 'http://www.wikidata.org/entity/Q766'}, 'population': {'datatype': 'http://www.w3.org/2001/XMLSchema#decimal', 'type': 'literal', 'value': '2890299'}, 'totalCityPopulation': {'datatype': 'http://www.w3.org/2001/XMLSchema#decimal', 'type': 'literal', 'value': '1141944'}, 'countryLabel': {'xml:lang': 'en', 'type': 'literal', 'value': 'Jamaica'}, 'ratio': {'datatype': 'http://www.w3.org/2001/XMLSchema#decimal', 'type': 'literal', 'value': '2.53103392110296126605'}}\n",
      "{'country': {'type': 'uri', 'value': 'http://www.wikidata.org/entity/Q1000'}, 'population': {'datatype': 'http://www.w3.org/2001/XMLSchema#decimal', 'type': 'literal', 'value': '2025137'}, 'totalCityPopulation': {'datatype': 'http://www.w3.org/2001/XMLSchema#decimal', 'type': 'literal', 'value': '797003'}, 'countryLabel': {'xml:lang': 'en', 'type': 'literal', 'value': 'Gabon'}, 'ratio': {'datatype': 'http://www.w3.org/2001/XMLSchema#decimal', 'type': 'literal', 'value': '2.54094024740182910227'}}\n",
      "{'country': {'type': 'uri', 'value': 'http://www.wikidata.org/entity/Q20'}, 'population': {'datatype': 'http://www.w3.org/2001/XMLSchema#decimal', 'type': 'literal', 'value': '5425270'}, 'totalCityPopulation': {'datatype': 'http://www.w3.org/2001/XMLSchema#decimal', 'type': 'literal', 'value': '2125004'}, 'countryLabel': {'xml:lang': 'en', 'type': 'literal', 'value': 'Norway'}, 'ratio': {'datatype': 'http://www.w3.org/2001/XMLSchema#decimal', 'type': 'literal', 'value': '2.55306342952766206558'}}\n",
      "{'country': {'type': 'uri', 'value': 'http://www.wikidata.org/entity/Q760'}, 'population': {'datatype': 'http://www.w3.org/2001/XMLSchema#decimal', 'type': 'literal', 'value': '178844'}, 'totalCityPopulation': {'datatype': 'http://www.w3.org/2001/XMLSchema#decimal', 'type': 'literal', 'value': '70000'}, 'countryLabel': {'xml:lang': 'en', 'type': 'literal', 'value': 'Saint Lucia'}, 'ratio': {'datatype': 'http://www.w3.org/2001/XMLSchema#decimal', 'type': 'literal', 'value': '2.55491428571428571429'}}\n",
      "{'country': {'type': 'uri', 'value': 'http://www.wikidata.org/entity/Q244'}, 'population': {'datatype': 'http://www.w3.org/2001/XMLSchema#decimal', 'type': 'literal', 'value': '285719'}, 'totalCityPopulation': {'datatype': 'http://www.w3.org/2001/XMLSchema#decimal', 'type': 'literal', 'value': '110000'}, 'countryLabel': {'xml:lang': 'en', 'type': 'literal', 'value': 'Barbados'}, 'ratio': {'datatype': 'http://www.w3.org/2001/XMLSchema#decimal', 'type': 'literal', 'value': '2.59744545454545454545'}}\n",
      "{'country': {'type': 'uri', 'value': 'http://www.wikidata.org/entity/Q403'}, 'population': {'datatype': 'http://www.w3.org/2001/XMLSchema#decimal', 'type': 'literal', 'value': '7022268'}, 'totalCityPopulation': {'datatype': 'http://www.w3.org/2001/XMLSchema#decimal', 'type': 'literal', 'value': '2680572'}, 'countryLabel': {'xml:lang': 'en', 'type': 'literal', 'value': 'Serbia'}, 'ratio': {'datatype': 'http://www.w3.org/2001/XMLSchema#decimal', 'type': 'literal', 'value': '2.61969012583881350697'}}\n",
      "{'country': {'type': 'uri', 'value': 'http://www.wikidata.org/entity/Q41'}, 'population': {'datatype': 'http://www.w3.org/2001/XMLSchema#decimal', 'type': 'literal', 'value': '10760421'}, 'totalCityPopulation': {'datatype': 'http://www.w3.org/2001/XMLSchema#decimal', 'type': 'literal', 'value': '3963378'}, 'countryLabel': {'xml:lang': 'en', 'type': 'literal', 'value': 'Greece'}, 'ratio': {'datatype': 'http://www.w3.org/2001/XMLSchema#decimal', 'type': 'literal', 'value': '2.71496208537262910578'}}\n",
      "{'country': {'type': 'uri', 'value': 'http://www.wikidata.org/entity/Q986'}, 'population': {'datatype': 'http://www.w3.org/2001/XMLSchema#decimal', 'type': 'literal', 'value': '3497000'}, 'totalCityPopulation': {'datatype': 'http://www.w3.org/2001/XMLSchema#decimal', 'type': 'literal', 'value': '1287797'}, 'countryLabel': {'xml:lang': 'en', 'type': 'literal', 'value': 'Eritrea'}, 'ratio': {'datatype': 'http://www.w3.org/2001/XMLSchema#decimal', 'type': 'literal', 'value': '2.71549009665343217914'}}\n",
      "{'country': {'type': 'uri', 'value': 'http://www.wikidata.org/entity/Q804'}, 'population': {'datatype': 'http://www.w3.org/2001/XMLSchema#decimal', 'type': 'literal', 'value': '4098587'}, 'totalCityPopulation': {'datatype': 'http://www.w3.org/2001/XMLSchema#decimal', 'type': 'literal', 'value': '1503095'}, 'countryLabel': {'xml:lang': 'en', 'type': 'literal', 'value': 'Panama'}, 'ratio': {'datatype': 'http://www.w3.org/2001/XMLSchema#decimal', 'type': 'literal', 'value': '2.72676510799383937808'}}\n",
      "{'country': {'type': 'uri', 'value': 'http://www.wikidata.org/entity/Q36823'}, 'population': {'datatype': 'http://www.w3.org/2001/XMLSchema#decimal', 'type': 'literal', 'value': '1499'}, 'totalCityPopulation': {'datatype': 'http://www.w3.org/2001/XMLSchema#decimal', 'type': 'literal', 'value': '541'}, 'countryLabel': {'xml:lang': 'en', 'type': 'literal', 'value': 'Tokelau'}, 'ratio': {'datatype': 'http://www.w3.org/2001/XMLSchema#decimal', 'type': 'literal', 'value': '2.77079482439926062847'}}\n",
      "{'country': {'type': 'uri', 'value': 'http://www.wikidata.org/entity/Q783'}, 'population': {'datatype': 'http://www.w3.org/2001/XMLSchema#decimal', 'type': 'literal', 'value': '9265067'}, 'totalCityPopulation': {'datatype': 'http://www.w3.org/2001/XMLSchema#decimal', 'type': 'literal', 'value': '3302439.646'}, 'countryLabel': {'xml:lang': 'en', 'type': 'literal', 'value': 'Honduras'}, 'ratio': {'datatype': 'http://www.w3.org/2001/XMLSchema#decimal', 'type': 'literal', 'value': '2.80552197561644704165'}}\n",
      "{'country': {'type': 'uri', 'value': 'http://www.wikidata.org/entity/Q884'}, 'population': {'datatype': 'http://www.w3.org/2001/XMLSchema#decimal', 'type': 'literal', 'value': '51466201'}, 'totalCityPopulation': {'datatype': 'http://www.w3.org/2001/XMLSchema#decimal', 'type': 'literal', 'value': '18310895'}, 'countryLabel': {'xml:lang': 'en', 'type': 'literal', 'value': 'South Korea'}, 'ratio': {'datatype': 'http://www.w3.org/2001/XMLSchema#decimal', 'type': 'literal', 'value': '2.8106873530758600276'}}\n",
      "{'country': {'type': 'uri', 'value': 'http://www.wikidata.org/entity/Q6250'}, 'population': {'datatype': 'http://www.w3.org/2001/XMLSchema#decimal', 'type': 'literal', 'value': '582000'}, 'totalCityPopulation': {'datatype': 'http://www.w3.org/2001/XMLSchema#decimal', 'type': 'literal', 'value': '205963'}, 'countryLabel': {'xml:lang': 'en', 'type': 'literal', 'value': 'Western Sahara'}, 'ratio': {'datatype': 'http://www.w3.org/2001/XMLSchema#decimal', 'type': 'literal', 'value': '2.82575025611396221651'}}\n",
      "{'country': {'type': 'uri', 'value': 'http://www.wikidata.org/entity/Q219060'}, 'population': {'datatype': 'http://www.w3.org/2001/XMLSchema#decimal', 'type': 'literal', 'value': '5227193'}, 'totalCityPopulation': {'datatype': 'http://www.w3.org/2001/XMLSchema#decimal', 'type': 'literal', 'value': '1844701'}, 'countryLabel': {'xml:lang': 'en', 'type': 'literal', 'value': 'State of Palestine'}, 'ratio': {'datatype': 'http://www.w3.org/2001/XMLSchema#decimal', 'type': 'literal', 'value': '2.83362615404881333072'}}\n",
      "{'country': {'type': 'uri', 'value': 'http://www.wikidata.org/entity/Q79'}, 'population': {'datatype': 'http://www.w3.org/2001/XMLSchema#decimal', 'type': 'literal', 'value': '94798827'}, 'totalCityPopulation': {'datatype': 'http://www.w3.org/2001/XMLSchema#decimal', 'type': 'literal', 'value': '33391500'}, 'countryLabel': {'xml:lang': 'en', 'type': 'literal', 'value': 'Egypt'}, 'ratio': {'datatype': 'http://www.w3.org/2001/XMLSchema#decimal', 'type': 'literal', 'value': '2.83901073626521719599'}}\n",
      "{'country': {'type': 'uri', 'value': 'http://www.wikidata.org/entity/Q96'}, 'population': {'datatype': 'http://www.w3.org/2001/XMLSchema#decimal', 'type': 'literal', 'value': '124777324'}, 'totalCityPopulation': {'datatype': 'http://www.w3.org/2001/XMLSchema#decimal', 'type': 'literal', 'value': '43753018'}, 'countryLabel': {'xml:lang': 'en', 'type': 'literal', 'value': 'Mexico'}, 'ratio': {'datatype': 'http://www.w3.org/2001/XMLSchema#decimal', 'type': 'literal', 'value': '2.85185639079800163728'}}\n",
      "{'country': {'type': 'uri', 'value': 'http://www.wikidata.org/entity/Q145'}, 'population': {'datatype': 'http://www.w3.org/2001/XMLSchema#decimal', 'type': 'literal', 'value': '66022273'}, 'totalCityPopulation': {'datatype': 'http://www.w3.org/2001/XMLSchema#decimal', 'type': 'literal', 'value': '23108545'}, 'countryLabel': {'xml:lang': 'en', 'type': 'literal', 'value': 'United Kingdom'}, 'ratio': {'datatype': 'http://www.w3.org/2001/XMLSchema#decimal', 'type': 'literal', 'value': '2.8570501950685341721'}}\n",
      "{'country': {'type': 'uri', 'value': 'http://www.wikidata.org/entity/Q734'}, 'population': {'datatype': 'http://www.w3.org/2001/XMLSchema#decimal', 'type': 'literal', 'value': '777859'}, 'totalCityPopulation': {'datatype': 'http://www.w3.org/2001/XMLSchema#decimal', 'type': 'literal', 'value': '265653'}, 'countryLabel': {'xml:lang': 'en', 'type': 'literal', 'value': 'Guyana'}, 'ratio': {'datatype': 'http://www.w3.org/2001/XMLSchema#decimal', 'type': 'literal', 'value': '2.92810169657410230639'}}\n",
      "{'country': {'type': 'uri', 'value': 'http://www.wikidata.org/entity/Q244165'}, 'population': {'datatype': 'http://www.w3.org/2001/XMLSchema#decimal', 'type': 'literal', 'value': '146600'}, 'totalCityPopulation': {'datatype': 'http://www.w3.org/2001/XMLSchema#decimal', 'type': 'literal', 'value': '49848'}, 'countryLabel': {'xml:lang': 'en', 'type': 'literal', 'value': 'Republic of Artsakh'}, 'ratio': {'datatype': 'http://www.w3.org/2001/XMLSchema#decimal', 'type': 'literal', 'value': '2.94094045899534585139'}}\n",
      "{'country': {'type': 'uri', 'value': 'http://www.wikidata.org/entity/Q29'}, 'population': {'datatype': 'http://www.w3.org/2001/XMLSchema#decimal', 'type': 'literal', 'value': '46733038'}, 'totalCityPopulation': {'datatype': 'http://www.w3.org/2001/XMLSchema#decimal', 'type': 'literal', 'value': '15867141'}, 'countryLabel': {'xml:lang': 'en', 'type': 'literal', 'value': 'Spain'}, 'ratio': {'datatype': 'http://www.w3.org/2001/XMLSchema#decimal', 'type': 'literal', 'value': '2.94527148904771187197'}}\n",
      "{'country': {'type': 'uri', 'value': 'http://www.wikidata.org/entity/Q242'}, 'population': {'datatype': 'http://www.w3.org/2001/XMLSchema#decimal', 'type': 'literal', 'value': '374681'}, 'totalCityPopulation': {'datatype': 'http://www.w3.org/2001/XMLSchema#decimal', 'type': 'literal', 'value': '126057'}, 'countryLabel': {'xml:lang': 'en', 'type': 'literal', 'value': 'Belize'}, 'ratio': {'datatype': 'http://www.w3.org/2001/XMLSchema#decimal', 'type': 'literal', 'value': '2.97231411187002705125'}}\n",
      "{'country': {'type': 'uri', 'value': 'http://www.wikidata.org/entity/Q307041'}, 'population': {'datatype': 'http://www.w3.org/2001/XMLSchema#decimal', 'type': 'literal', 'value': '201000'}, 'totalCityPopulation': {'datatype': 'http://www.w3.org/2001/XMLSchema#decimal', 'type': 'literal', 'value': '64441'}, 'countryLabel': {'xml:lang': 'en', 'type': 'literal', 'value': 'Socialist Soviet Republic of Abkhazia'}, 'ratio': {'datatype': 'http://www.w3.org/2001/XMLSchema#decimal', 'type': 'literal', 'value': '3.11913222948123089338'}}\n",
      "{'country': {'type': 'uri', 'value': 'http://www.wikidata.org/entity/Q929'}, 'population': {'datatype': 'http://www.w3.org/2001/XMLSchema#decimal', 'type': 'literal', 'value': '4659080'}, 'totalCityPopulation': {'datatype': 'http://www.w3.org/2001/XMLSchema#decimal', 'type': 'literal', 'value': '1491450'}, 'countryLabel': {'xml:lang': 'en', 'type': 'literal', 'value': 'Central African Republic'}, 'ratio': {'datatype': 'http://www.w3.org/2001/XMLSchema#decimal', 'type': 'literal', 'value': '3.12385933152301451607'}}\n",
      "{'country': {'type': 'uri', 'value': 'http://www.wikidata.org/entity/Q1246'}, 'population': {'datatype': 'http://www.w3.org/2001/XMLSchema#decimal', 'type': 'literal', 'value': '1883018'}, 'totalCityPopulation': {'datatype': 'http://www.w3.org/2001/XMLSchema#decimal', 'type': 'literal', 'value': '602109'}, 'countryLabel': {'xml:lang': 'en', 'type': 'literal', 'value': 'Kosovo'}, 'ratio': {'datatype': 'http://www.w3.org/2001/XMLSchema#decimal', 'type': 'literal', 'value': '3.12737062558440415274'}}\n",
      "{'country': {'type': 'uri', 'value': 'http://www.wikidata.org/entity/Q796'}, 'population': {'datatype': 'http://www.w3.org/2001/XMLSchema#decimal', 'type': 'literal', 'value': '38274618'}, 'totalCityPopulation': {'datatype': 'http://www.w3.org/2001/XMLSchema#decimal', 'type': 'literal', 'value': '12006005'}, 'countryLabel': {'xml:lang': 'en', 'type': 'literal', 'value': 'Iraq'}, 'ratio': {'datatype': 'http://www.w3.org/2001/XMLSchema#decimal', 'type': 'literal', 'value': '3.18795619358812527564'}}\n",
      "{'country': {'type': 'uri', 'value': 'http://www.wikidata.org/entity/Q36'}, 'population': {'datatype': 'http://www.w3.org/2001/XMLSchema#decimal', 'type': 'literal', 'value': '38382576'}, 'totalCityPopulation': {'datatype': 'http://www.w3.org/2001/XMLSchema#decimal', 'type': 'literal', 'value': '11999042'}, 'countryLabel': {'xml:lang': 'en', 'type': 'literal', 'value': 'Poland'}, 'ratio': {'datatype': 'http://www.w3.org/2001/XMLSchema#decimal', 'type': 'literal', 'value': '3.19880337113579567435'}}\n",
      "{'country': {'type': 'uri', 'value': 'http://www.wikidata.org/entity/Q21203'}, 'population': {'datatype': 'http://www.w3.org/2001/XMLSchema#decimal', 'type': 'literal', 'value': '112309'}, 'totalCityPopulation': {'datatype': 'http://www.w3.org/2001/XMLSchema#decimal', 'type': 'literal', 'value': '34980'}, 'countryLabel': {'xml:lang': 'en', 'type': 'literal', 'value': 'Aruba'}, 'ratio': {'datatype': 'http://www.w3.org/2001/XMLSchema#decimal', 'type': 'literal', 'value': '3.21066323613493424814'}}\n",
      "{'country': {'type': 'uri', 'value': 'http://www.wikidata.org/entity/Q225'}, 'population': {'datatype': 'http://www.w3.org/2001/XMLSchema#decimal', 'type': 'literal', 'value': '3507017'}, 'totalCityPopulation': {'datatype': 'http://www.w3.org/2001/XMLSchema#decimal', 'type': 'literal', 'value': '1089479'}, 'countryLabel': {'xml:lang': 'en', 'type': 'literal', 'value': 'Bosnia and Herzegovina'}, 'ratio': {'datatype': 'http://www.w3.org/2001/XMLSchema#decimal', 'type': 'literal', 'value': '3.2189854049504396138'}}\n",
      "{'country': {'type': 'uri', 'value': 'http://www.wikidata.org/entity/Q1039'}, 'population': {'datatype': 'http://www.w3.org/2001/XMLSchema#decimal', 'type': 'literal', 'value': '204327'}, 'totalCityPopulation': {'datatype': 'http://www.w3.org/2001/XMLSchema#decimal', 'type': 'literal', 'value': '62802'}, 'countryLabel': {'xml:lang': 'en', 'type': 'literal', 'value': 'São Tomé and Príncipe'}, 'ratio': {'datatype': 'http://www.w3.org/2001/XMLSchema#decimal', 'type': 'literal', 'value': '3.25351103468042419031'}}\n",
      "{'country': {'type': 'uri', 'value': 'http://www.wikidata.org/entity/Q826'}, 'population': {'datatype': 'http://www.w3.org/2001/XMLSchema#decimal', 'type': 'literal', 'value': '436330'}, 'totalCityPopulation': {'datatype': 'http://www.w3.org/2001/XMLSchema#decimal', 'type': 'literal', 'value': '133019'}, 'countryLabel': {'xml:lang': 'en', 'type': 'literal', 'value': 'Maldives'}, 'ratio': {'datatype': 'http://www.w3.org/2001/XMLSchema#decimal', 'type': 'literal', 'value': '3.28020809057352709011'}}\n",
      "{'country': {'type': 'uri', 'value': 'http://www.wikidata.org/entity/Q398'}, 'population': {'datatype': 'http://www.w3.org/2001/XMLSchema#decimal', 'type': 'literal', 'value': '1492584'}, 'totalCityPopulation': {'datatype': 'http://www.w3.org/2001/XMLSchema#decimal', 'type': 'literal', 'value': '446740'}, 'countryLabel': {'xml:lang': 'en', 'type': 'literal', 'value': 'Bahrain'}, 'ratio': {'datatype': 'http://www.w3.org/2001/XMLSchema#decimal', 'type': 'literal', 'value': '3.34105743833102028025'}}\n",
      "{'country': {'type': 'uri', 'value': 'http://www.wikidata.org/entity/Q1007'}, 'population': {'datatype': 'http://www.w3.org/2001/XMLSchema#decimal', 'type': 'literal', 'value': '1861283'}, 'totalCityPopulation': {'datatype': 'http://www.w3.org/2001/XMLSchema#decimal', 'type': 'literal', 'value': '547431'}, 'countryLabel': {'xml:lang': 'en', 'type': 'literal', 'value': 'Guinea-Bissau'}, 'ratio': {'datatype': 'http://www.w3.org/2001/XMLSchema#decimal', 'type': 'literal', 'value': '3.40003215017052377377'}}\n",
      "{'country': {'type': 'uri', 'value': 'http://www.wikidata.org/entity/Q1049'}, 'population': {'datatype': 'http://www.w3.org/2001/XMLSchema#decimal', 'type': 'literal', 'value': '40533330'}, 'totalCityPopulation': {'datatype': 'http://www.w3.org/2001/XMLSchema#decimal', 'type': 'literal', 'value': '11651992'}, 'countryLabel': {'xml:lang': 'en', 'type': 'literal', 'value': 'Sudan'}, 'ratio': {'datatype': 'http://www.w3.org/2001/XMLSchema#decimal', 'type': 'literal', 'value': '3.47866098775213714531'}}\n",
      "{'country': {'type': 'uri', 'value': 'http://www.wikidata.org/entity/Q733'}, 'population': {'datatype': 'http://www.w3.org/2001/XMLSchema#decimal', 'type': 'literal', 'value': '6811297'}, 'totalCityPopulation': {'datatype': 'http://www.w3.org/2001/XMLSchema#decimal', 'type': 'literal', 'value': '1953067'}, 'countryLabel': {'xml:lang': 'en', 'type': 'literal', 'value': 'Paraguay'}, 'ratio': {'datatype': 'http://www.w3.org/2001/XMLSchema#decimal', 'type': 'literal', 'value': '3.4874876284326139349'}}\n",
      "{'country': {'type': 'uri', 'value': 'http://www.wikidata.org/entity/Q228'}, 'population': {'datatype': 'http://www.w3.org/2001/XMLSchema#decimal', 'type': 'literal', 'value': '78151'}, 'totalCityPopulation': {'datatype': 'http://www.w3.org/2001/XMLSchema#decimal', 'type': 'literal', 'value': '22151'}, 'countryLabel': {'xml:lang': 'en', 'type': 'literal', 'value': 'Andorra'}, 'ratio': {'datatype': 'http://www.w3.org/2001/XMLSchema#decimal', 'type': 'literal', 'value': '3.52810256873278858742'}}\n",
      "{'country': {'type': 'uri', 'value': 'http://www.wikidata.org/entity/Q117'}, 'population': {'datatype': 'http://www.w3.org/2001/XMLSchema#decimal', 'type': 'literal', 'value': '26908262'}, 'totalCityPopulation': {'datatype': 'http://www.w3.org/2001/XMLSchema#decimal', 'type': 'literal', 'value': '7438617'}, 'countryLabel': {'xml:lang': 'en', 'type': 'literal', 'value': 'Ghana'}, 'ratio': {'datatype': 'http://www.w3.org/2001/XMLSchema#decimal', 'type': 'literal', 'value': '3.61737430492791872468'}}\n",
      "{'country': {'type': 'uri', 'value': 'http://www.wikidata.org/entity/Q17'}, 'population': {'datatype': 'http://www.w3.org/2001/XMLSchema#decimal', 'type': 'literal', 'value': '125961625'}, 'totalCityPopulation': {'datatype': 'http://www.w3.org/2001/XMLSchema#decimal', 'type': 'literal', 'value': '34779310'}, 'countryLabel': {'xml:lang': 'en', 'type': 'literal', 'value': 'Japan'}, 'ratio': {'datatype': 'http://www.w3.org/2001/XMLSchema#decimal', 'type': 'literal', 'value': '3.62174019553579412588'}}\n",
      "{'country': {'type': 'uri', 'value': 'http://www.wikidata.org/entity/Q1042'}, 'population': {'datatype': 'http://www.w3.org/2001/XMLSchema#decimal', 'type': 'literal', 'value': '95843'}, 'totalCityPopulation': {'datatype': 'http://www.w3.org/2001/XMLSchema#decimal', 'type': 'literal', 'value': '26450'}, 'countryLabel': {'xml:lang': 'en', 'type': 'literal', 'value': 'Seychelles'}, 'ratio': {'datatype': 'http://www.w3.org/2001/XMLSchema#decimal', 'type': 'literal', 'value': '3.62355387523629489603'}}\n",
      "{'country': {'type': 'uri', 'value': 'http://www.wikidata.org/entity/Q1025'}, 'population': {'datatype': 'http://www.w3.org/2001/XMLSchema#decimal', 'type': 'literal', 'value': '4420184'}, 'totalCityPopulation': {'datatype': 'http://www.w3.org/2001/XMLSchema#decimal', 'type': 'literal', 'value': '1219190'}, 'countryLabel': {'xml:lang': 'en', 'type': 'literal', 'value': 'Mauritania'}, 'ratio': {'datatype': 'http://www.w3.org/2001/XMLSchema#decimal', 'type': 'literal', 'value': '3.62550873940895184508'}}\n",
      "{'country': {'type': 'uri', 'value': 'http://www.wikidata.org/entity/Q784'}, 'population': {'datatype': 'http://www.w3.org/2001/XMLSchema#decimal', 'type': 'literal', 'value': '73925'}, 'totalCityPopulation': {'datatype': 'http://www.w3.org/2001/XMLSchema#decimal', 'type': 'literal', 'value': '20215'}, 'countryLabel': {'xml:lang': 'en', 'type': 'literal', 'value': 'Dominica'}, 'ratio': {'datatype': 'http://www.w3.org/2001/XMLSchema#decimal', 'type': 'literal', 'value': '3.65693791738807815978'}}\n",
      "{'country': {'type': 'uri', 'value': 'http://www.wikidata.org/entity/Q774'}, 'population': {'datatype': 'http://www.w3.org/2001/XMLSchema#decimal', 'type': 'literal', 'value': '17263239'}, 'totalCityPopulation': {'datatype': 'http://www.w3.org/2001/XMLSchema#decimal', 'type': 'literal', 'value': '4665034'}, 'countryLabel': {'xml:lang': 'en', 'type': 'literal', 'value': 'Guatemala'}, 'ratio': {'datatype': 'http://www.w3.org/2001/XMLSchema#decimal', 'type': 'literal', 'value': '3.70056016740714001227'}}\n",
      "{'country': {'type': 'uri', 'value': 'http://www.wikidata.org/entity/Q262'}, 'population': {'datatype': 'http://www.w3.org/2001/XMLSchema#decimal', 'type': 'literal', 'value': '41318142'}, 'totalCityPopulation': {'datatype': 'http://www.w3.org/2001/XMLSchema#decimal', 'type': 'literal', 'value': '11142513'}, 'countryLabel': {'xml:lang': 'en', 'type': 'literal', 'value': 'Algeria'}, 'ratio': {'datatype': 'http://www.w3.org/2001/XMLSchema#decimal', 'type': 'literal', 'value': '3.70815290949178161156'}}\n",
      "{'country': {'type': 'uri', 'value': 'http://www.wikidata.org/entity/Q916'}, 'population': {'datatype': 'http://www.w3.org/2001/XMLSchema#decimal', 'type': 'literal', 'value': '29784193'}, 'totalCityPopulation': {'datatype': 'http://www.w3.org/2001/XMLSchema#decimal', 'type': 'literal', 'value': '8026318'}, 'countryLabel': {'xml:lang': 'en', 'type': 'literal', 'value': 'Angola'}, 'ratio': {'datatype': 'http://www.w3.org/2001/XMLSchema#decimal', 'type': 'literal', 'value': '3.71081646652923544769'}}\n",
      "{'country': {'type': 'uri', 'value': 'http://www.wikidata.org/entity/Q792'}, 'population': {'datatype': 'http://www.w3.org/2001/XMLSchema#decimal', 'type': 'literal', 'value': '6420746'}, 'totalCityPopulation': {'datatype': 'http://www.w3.org/2001/XMLSchema#decimal', 'type': 'literal', 'value': '1681121'}, 'countryLabel': {'xml:lang': 'en', 'type': 'literal', 'value': 'El Salvador'}, 'ratio': {'datatype': 'http://www.w3.org/2001/XMLSchema#decimal', 'type': 'literal', 'value': '3.81932412955402972183'}}\n",
      "{'country': {'type': 'uri', 'value': 'http://www.wikidata.org/entity/Q881'}, 'population': {'datatype': 'http://www.w3.org/2001/XMLSchema#decimal', 'type': 'literal', 'value': '94660000'}, 'totalCityPopulation': {'datatype': 'http://www.w3.org/2001/XMLSchema#decimal', 'type': 'literal', 'value': '24702042'}, 'countryLabel': {'xml:lang': 'en', 'type': 'literal', 'value': 'Vietnam'}, 'ratio': {'datatype': 'http://www.w3.org/2001/XMLSchema#decimal', 'type': 'literal', 'value': '3.83207185867467960746'}}\n",
      "{'country': {'type': 'uri', 'value': 'http://www.wikidata.org/entity/Q1028'}, 'population': {'datatype': 'http://www.w3.org/2001/XMLSchema#decimal', 'type': 'literal', 'value': '36029138'}, 'totalCityPopulation': {'datatype': 'http://www.w3.org/2001/XMLSchema#decimal', 'type': 'literal', 'value': '9386480'}, 'countryLabel': {'xml:lang': 'en', 'type': 'literal', 'value': 'Morocco'}, 'ratio': {'datatype': 'http://www.w3.org/2001/XMLSchema#decimal', 'type': 'literal', 'value': '3.83840779504137866378'}}\n",
      "{'country': {'type': 'uri', 'value': 'http://www.wikidata.org/entity/Q805'}, 'population': {'datatype': 'http://www.w3.org/2001/XMLSchema#decimal', 'type': 'literal', 'value': '28250420'}, 'totalCityPopulation': {'datatype': 'http://www.w3.org/2001/XMLSchema#decimal', 'type': 'literal', 'value': '7066642'}, 'countryLabel': {'xml:lang': 'en', 'type': 'literal', 'value': 'Yemen'}, 'ratio': {'datatype': 'http://www.w3.org/2001/XMLSchema#decimal', 'type': 'literal', 'value': '3.99771489768407682178'}}\n",
      "{'country': {'type': 'uri', 'value': 'http://www.wikidata.org/entity/Q214'}, 'population': {'datatype': 'http://www.w3.org/2001/XMLSchema#decimal', 'type': 'literal', 'value': '5449270'}, 'totalCityPopulation': {'datatype': 'http://www.w3.org/2001/XMLSchema#decimal', 'type': 'literal', 'value': '1352072'}, 'countryLabel': {'xml:lang': 'en', 'type': 'literal', 'value': 'Slovakia'}, 'ratio': {'datatype': 'http://www.w3.org/2001/XMLSchema#decimal', 'type': 'literal', 'value': '4.03031051600802324137'}}\n",
      "{'country': {'type': 'uri', 'value': 'http://www.wikidata.org/entity/Q1030'}, 'population': {'datatype': 'http://www.w3.org/2001/XMLSchema#decimal', 'type': 'literal', 'value': '2533794'}, 'totalCityPopulation': {'datatype': 'http://www.w3.org/2001/XMLSchema#decimal', 'type': 'literal', 'value': '623337'}, 'countryLabel': {'xml:lang': 'en', 'type': 'literal', 'value': 'Namibia'}, 'ratio': {'datatype': 'http://www.w3.org/2001/XMLSchema#decimal', 'type': 'literal', 'value': '4.06488624933222317944'}}\n",
      "{'country': {'type': 'uri', 'value': 'http://www.wikidata.org/entity/Q763'}, 'population': {'datatype': 'http://www.w3.org/2001/XMLSchema#decimal', 'type': 'literal', 'value': '55345'}, 'totalCityPopulation': {'datatype': 'http://www.w3.org/2001/XMLSchema#decimal', 'type': 'literal', 'value': '13220'}, 'countryLabel': {'xml:lang': 'en', 'type': 'literal', 'value': 'Saint Kitts and Nevis'}, 'ratio': {'datatype': 'http://www.w3.org/2001/XMLSchema#decimal', 'type': 'literal', 'value': '4.18645990922844175492'}}\n",
      "{'country': {'type': 'uri', 'value': 'http://www.wikidata.org/entity/Q1008'}, 'population': {'datatype': 'http://www.w3.org/2001/XMLSchema#decimal', 'type': 'literal', 'value': '24294750'}, 'totalCityPopulation': {'datatype': 'http://www.w3.org/2001/XMLSchema#decimal', 'type': 'literal', 'value': '5612805'}, 'countryLabel': {'xml:lang': 'en', 'type': 'literal', 'value': 'Ivory Coast'}, 'ratio': {'datatype': 'http://www.w3.org/2001/XMLSchema#decimal', 'type': 'literal', 'value': '4.32845074788808804154'}}\n",
      "{'country': {'type': 'uri', 'value': 'http://www.wikidata.org/entity/Q974'}, 'population': {'datatype': 'http://www.w3.org/2001/XMLSchema#decimal', 'type': 'literal', 'value': '86790567'}, 'totalCityPopulation': {'datatype': 'http://www.w3.org/2001/XMLSchema#decimal', 'type': 'literal', 'value': '19852281'}, 'countryLabel': {'xml:lang': 'en', 'type': 'literal', 'value': 'Democratic Republic of the Congo'}, 'ratio': {'datatype': 'http://www.w3.org/2001/XMLSchema#decimal', 'type': 'literal', 'value': '4.37181838197837316528'}}\n",
      "{'country': {'type': 'uri', 'value': 'http://www.wikidata.org/entity/Q953'}, 'population': {'datatype': 'http://www.w3.org/2001/XMLSchema#decimal', 'type': 'literal', 'value': '17094130'}, 'totalCityPopulation': {'datatype': 'http://www.w3.org/2001/XMLSchema#decimal', 'type': 'literal', 'value': '3903513'}, 'countryLabel': {'xml:lang': 'en', 'type': 'literal', 'value': 'Zambia'}, 'ratio': {'datatype': 'http://www.w3.org/2001/XMLSchema#decimal', 'type': 'literal', 'value': '4.37916563874643173982'}}\n",
      "{'country': {'type': 'uri', 'value': 'http://www.wikidata.org/entity/Q757'}, 'population': {'datatype': 'http://www.w3.org/2001/XMLSchema#decimal', 'type': 'literal', 'value': '109897'}, 'totalCityPopulation': {'datatype': 'http://www.w3.org/2001/XMLSchema#decimal', 'type': 'literal', 'value': '25000'}, 'countryLabel': {'xml:lang': 'en', 'type': 'literal', 'value': 'Saint Vincent and the Grenadines'}, 'ratio': {'datatype': 'http://www.w3.org/2001/XMLSchema#decimal', 'type': 'literal', 'value': '4.39588'}}\n",
      "{'country': {'type': 'uri', 'value': 'http://www.wikidata.org/entity/Q1013'}, 'population': {'datatype': 'http://www.w3.org/2001/XMLSchema#decimal', 'type': 'literal', 'value': '2233339'}, 'totalCityPopulation': {'datatype': 'http://www.w3.org/2001/XMLSchema#decimal', 'type': 'literal', 'value': '502196'}, 'countryLabel': {'xml:lang': 'en', 'type': 'literal', 'value': 'Lesotho'}, 'ratio': {'datatype': 'http://www.w3.org/2001/XMLSchema#decimal', 'type': 'literal', 'value': '4.44714613417868720579'}}\n",
      "{'country': {'type': 'uri', 'value': 'http://www.wikidata.org/entity/Q954'}, 'population': {'datatype': 'http://www.w3.org/2001/XMLSchema#decimal', 'type': 'literal', 'value': '16529904'}, 'totalCityPopulation': {'datatype': 'http://www.w3.org/2001/XMLSchema#decimal', 'type': 'literal', 'value': '3674506'}, 'countryLabel': {'xml:lang': 'en', 'type': 'literal', 'value': 'Zimbabwe'}, 'ratio': {'datatype': 'http://www.w3.org/2001/XMLSchema#decimal', 'type': 'literal', 'value': '4.4985377626271395393'}}\n",
      "{'country': {'type': 'uri', 'value': 'http://www.wikidata.org/entity/Q55'}, 'population': {'datatype': 'http://www.w3.org/2001/XMLSchema#decimal', 'type': 'literal', 'value': '17282163'}, 'totalCityPopulation': {'datatype': 'http://www.w3.org/2001/XMLSchema#decimal', 'type': 'literal', 'value': '3797507'}, 'countryLabel': {'xml:lang': 'en', 'type': 'literal', 'value': 'Netherlands'}, 'ratio': {'datatype': 'http://www.w3.org/2001/XMLSchema#decimal', 'type': 'literal', 'value': '4.55092327677078672929'}}\n",
      "{'country': {'type': 'uri', 'value': 'http://www.wikidata.org/entity/Q842'}, 'population': {'datatype': 'http://www.w3.org/2001/XMLSchema#decimal', 'type': 'literal', 'value': '4829480'}, 'totalCityPopulation': {'datatype': 'http://www.w3.org/2001/XMLSchema#decimal', 'type': 'literal', 'value': '1054248'}, 'countryLabel': {'xml:lang': 'en', 'type': 'literal', 'value': 'Oman'}, 'ratio': {'datatype': 'http://www.w3.org/2001/XMLSchema#decimal', 'type': 'literal', 'value': '4.58097146022567744971'}}\n",
      "{'country': {'type': 'uri', 'value': 'http://www.wikidata.org/entity/Q38'}, 'population': {'datatype': 'http://www.w3.org/2001/XMLSchema#decimal', 'type': 'literal', 'value': '60317000'}, 'totalCityPopulation': {'datatype': 'http://www.w3.org/2001/XMLSchema#decimal', 'type': 'literal', 'value': '13082190'}, 'countryLabel': {'xml:lang': 'en', 'type': 'literal', 'value': 'Italy'}, 'ratio': {'datatype': 'http://www.w3.org/2001/XMLSchema#decimal', 'type': 'literal', 'value': '4.61061947579113283021'}}\n",
      "{'country': {'type': 'uri', 'value': 'http://www.wikidata.org/entity/Q678'}, 'population': {'datatype': 'http://www.w3.org/2001/XMLSchema#decimal', 'type': 'literal', 'value': '108020'}, 'totalCityPopulation': {'datatype': 'http://www.w3.org/2001/XMLSchema#decimal', 'type': 'literal', 'value': '23221'}, 'countryLabel': {'xml:lang': 'en', 'type': 'literal', 'value': 'Tonga'}, 'ratio': {'datatype': 'http://www.w3.org/2001/XMLSchema#decimal', 'type': 'literal', 'value': '4.65182378019895783989'}}\n",
      "{'country': {'type': 'uri', 'value': 'http://www.wikidata.org/entity/Q781'}, 'population': {'datatype': 'http://www.w3.org/2001/XMLSchema#decimal', 'type': 'literal', 'value': '102012'}, 'totalCityPopulation': {'datatype': 'http://www.w3.org/2001/XMLSchema#decimal', 'type': 'literal', 'value': '21926'}, 'countryLabel': {'xml:lang': 'en', 'type': 'literal', 'value': 'Antigua and Barbuda'}, 'ratio': {'datatype': 'http://www.w3.org/2001/XMLSchema#decimal', 'type': 'literal', 'value': '4.65255860622092492931'}}\n",
      "{'country': {'type': 'uri', 'value': 'http://www.wikidata.org/entity/Q790'}, 'population': {'datatype': 'http://www.w3.org/2001/XMLSchema#decimal', 'type': 'literal', 'value': '10981229'}, 'totalCityPopulation': {'datatype': 'http://www.w3.org/2001/XMLSchema#decimal', 'type': 'literal', 'value': '2331606'}, 'countryLabel': {'xml:lang': 'en', 'type': 'literal', 'value': 'Haiti'}, 'ratio': {'datatype': 'http://www.w3.org/2001/XMLSchema#decimal', 'type': 'literal', 'value': '4.70972754401901521955'}}\n",
      "{'country': {'type': 'uri', 'value': 'http://www.wikidata.org/entity/Q35'}, 'population': {'datatype': 'http://www.w3.org/2001/XMLSchema#decimal', 'type': 'literal', 'value': '5827463'}, 'totalCityPopulation': {'datatype': 'http://www.w3.org/2001/XMLSchema#decimal', 'type': 'literal', 'value': '1234180'}, 'countryLabel': {'xml:lang': 'en', 'type': 'literal', 'value': 'Denmark'}, 'ratio': {'datatype': 'http://www.w3.org/2001/XMLSchema#decimal', 'type': 'literal', 'value': '4.7217285971252167431'}}\n",
      "{'country': {'type': 'uri', 'value': 'http://www.wikidata.org/entity/Q265'}, 'population': {'datatype': 'http://www.w3.org/2001/XMLSchema#decimal', 'type': 'literal', 'value': '33570609'}, 'totalCityPopulation': {'datatype': 'http://www.w3.org/2001/XMLSchema#decimal', 'type': 'literal', 'value': '6862213'}, 'countryLabel': {'xml:lang': 'en', 'type': 'literal', 'value': 'Uzbekistan'}, 'ratio': {'datatype': 'http://www.w3.org/2001/XMLSchema#decimal', 'type': 'literal', 'value': '4.89209661664538830258'}}\n",
      "{'country': {'type': 'uri', 'value': 'http://www.wikidata.org/entity/Q889'}, 'population': {'datatype': 'http://www.w3.org/2001/XMLSchema#decimal', 'type': 'literal', 'value': '37466414'}, 'totalCityPopulation': {'datatype': 'http://www.w3.org/2001/XMLSchema#decimal', 'type': 'literal', 'value': '7552810'}, 'countryLabel': {'xml:lang': 'en', 'type': 'literal', 'value': 'Afghanistan'}, 'ratio': {'datatype': 'http://www.w3.org/2001/XMLSchema#decimal', 'type': 'literal', 'value': '4.96059268007536267959'}}\n",
      "{'country': {'type': 'uri', 'value': 'http://www.wikidata.org/entity/Q819'}, 'population': {'datatype': 'http://www.w3.org/2001/XMLSchema#decimal', 'type': 'literal', 'value': '6858160'}, 'totalCityPopulation': {'datatype': 'http://www.w3.org/2001/XMLSchema#decimal', 'type': 'literal', 'value': '1373097'}, 'countryLabel': {'xml:lang': 'en', 'type': 'literal', 'value': 'Laos'}, 'ratio': {'datatype': 'http://www.w3.org/2001/XMLSchema#decimal', 'type': 'literal', 'value': '4.99466534410897409287'}}\n",
      "{'country': {'type': 'uri', 'value': 'http://www.wikidata.org/entity/Q23681'}, 'population': {'datatype': 'http://www.w3.org/2001/XMLSchema#decimal', 'type': 'literal', 'value': '313626'}, 'totalCityPopulation': {'datatype': 'http://www.w3.org/2001/XMLSchema#decimal', 'type': 'literal', 'value': '61983'}, 'countryLabel': {'xml:lang': 'en', 'type': 'literal', 'value': 'Turkish Republic of Northern Cyprus'}, 'ratio': {'datatype': 'http://www.w3.org/2001/XMLSchema#decimal', 'type': 'literal', 'value': '5.05987125502153816369'}}\n",
      "{'country': {'type': 'uri', 'value': 'http://www.wikidata.org/entity/Q686'}, 'population': {'datatype': 'http://www.w3.org/2001/XMLSchema#decimal', 'type': 'literal', 'value': '276244'}, 'totalCityPopulation': {'datatype': 'http://www.w3.org/2001/XMLSchema#decimal', 'type': 'literal', 'value': '54435'}, 'countryLabel': {'xml:lang': 'en', 'type': 'literal', 'value': 'Vanuatu'}, 'ratio': {'datatype': 'http://www.w3.org/2001/XMLSchema#decimal', 'type': 'literal', 'value': '5.07474970147882795995'}}\n",
      "{'country': {'type': 'uri', 'value': 'http://www.wikidata.org/entity/Q1014'}, 'population': {'datatype': 'http://www.w3.org/2001/XMLSchema#decimal', 'type': 'literal', 'value': '5214030'}, 'totalCityPopulation': {'datatype': 'http://www.w3.org/2001/XMLSchema#decimal', 'type': 'literal', 'value': '1021762'}, 'countryLabel': {'xml:lang': 'en', 'type': 'literal', 'value': 'Liberia'}, 'ratio': {'datatype': 'http://www.w3.org/2001/XMLSchema#decimal', 'type': 'literal', 'value': '5.10297897161961396098'}}\n",
      "{'country': {'type': 'uri', 'value': 'http://www.wikidata.org/entity/Q1050'}, 'population': {'datatype': 'http://www.w3.org/2001/XMLSchema#decimal', 'type': 'literal', 'value': '1124753'}, 'totalCityPopulation': {'datatype': 'http://www.w3.org/2001/XMLSchema#decimal', 'type': 'literal', 'value': '218943'}, 'countryLabel': {'xml:lang': 'en', 'type': 'literal', 'value': 'Eswatini'}, 'ratio': {'datatype': 'http://www.w3.org/2001/XMLSchema#decimal', 'type': 'literal', 'value': '5.13719552577611524461'}}\n",
      "{'country': {'type': 'uri', 'value': 'http://www.wikidata.org/entity/Q1033'}, 'population': {'datatype': 'http://www.w3.org/2001/XMLSchema#decimal', 'type': 'literal', 'value': '211400708'}, 'totalCityPopulation': {'datatype': 'http://www.w3.org/2001/XMLSchema#decimal', 'type': 'literal', 'value': '41114528'}, 'countryLabel': {'xml:lang': 'en', 'type': 'literal', 'value': 'Nigeria'}, 'ratio': {'datatype': 'http://www.w3.org/2001/XMLSchema#decimal', 'type': 'literal', 'value': '5.14175203470656406417'}}\n",
      "{'country': {'type': 'uri', 'value': 'http://www.wikidata.org/entity/Q1044'}, 'population': {'datatype': 'http://www.w3.org/2001/XMLSchema#decimal', 'type': 'literal', 'value': '7557212'}, 'totalCityPopulation': {'datatype': 'http://www.w3.org/2001/XMLSchema#decimal', 'type': 'literal', 'value': '1460826'}, 'countryLabel': {'xml:lang': 'en', 'type': 'literal', 'value': 'Sierra Leone'}, 'ratio': {'datatype': 'http://www.w3.org/2001/XMLSchema#decimal', 'type': 'literal', 'value': '5.17324582119978696984'}}\n",
      "{'country': {'type': 'uri', 'value': 'http://www.wikidata.org/entity/Q683'}, 'population': {'datatype': 'http://www.w3.org/2001/XMLSchema#decimal', 'type': 'literal', 'value': '196440'}, 'totalCityPopulation': {'datatype': 'http://www.w3.org/2001/XMLSchema#decimal', 'type': 'literal', 'value': '37708'}, 'countryLabel': {'xml:lang': 'en', 'type': 'literal', 'value': 'Samoa'}, 'ratio': {'datatype': 'http://www.w3.org/2001/XMLSchema#decimal', 'type': 'literal', 'value': '5.20950461440543120823'}}\n",
      "{'country': {'type': 'uri', 'value': 'http://www.wikidata.org/entity/Q863'}, 'population': {'datatype': 'http://www.w3.org/2001/XMLSchema#decimal', 'type': 'literal', 'value': '8921343'}, 'totalCityPopulation': {'datatype': 'http://www.w3.org/2001/XMLSchema#decimal', 'type': 'literal', 'value': '1653798'}, 'countryLabel': {'xml:lang': 'en', 'type': 'literal', 'value': 'Tajikistan'}, 'ratio': {'datatype': 'http://www.w3.org/2001/XMLSchema#decimal', 'type': 'literal', 'value': '5.39445748513421832654'}}\n",
      "{'country': {'type': 'uri', 'value': 'http://www.wikidata.org/entity/Q258'}, 'population': {'datatype': 'http://www.w3.org/2001/XMLSchema#decimal', 'type': 'literal', 'value': '59622350'}, 'totalCityPopulation': {'datatype': 'http://www.w3.org/2001/XMLSchema#decimal', 'type': 'literal', 'value': '10817593'}, 'countryLabel': {'xml:lang': 'en', 'type': 'literal', 'value': 'South Africa'}, 'ratio': {'datatype': 'http://www.w3.org/2001/XMLSchema#decimal', 'type': 'literal', 'value': '5.51160965290522577435'}}\n",
      "{'country': {'type': 'uri', 'value': 'http://www.wikidata.org/entity/Q1006'}, 'population': {'datatype': 'http://www.w3.org/2001/XMLSchema#decimal', 'type': 'literal', 'value': '12717176'}, 'totalCityPopulation': {'datatype': 'http://www.w3.org/2001/XMLSchema#decimal', 'type': 'literal', 'value': '2291169'}, 'countryLabel': {'xml:lang': 'en', 'type': 'literal', 'value': 'Guinea'}, 'ratio': {'datatype': 'http://www.w3.org/2001/XMLSchema#decimal', 'type': 'literal', 'value': '5.55051853442500313159'}}\n",
      "{'country': {'type': 'uri', 'value': 'http://www.wikidata.org/entity/Q739'}, 'population': {'datatype': 'http://www.w3.org/2001/XMLSchema#decimal', 'type': 'literal', 'value': '49065615'}, 'totalCityPopulation': {'datatype': 'http://www.w3.org/2001/XMLSchema#decimal', 'type': 'literal', 'value': '8794014'}, 'countryLabel': {'xml:lang': 'en', 'type': 'literal', 'value': 'Colombia'}, 'ratio': {'datatype': 'http://www.w3.org/2001/XMLSchema#decimal', 'type': 'literal', 'value': '5.57943335091347364241'}}\n",
      "{'country': {'type': 'uri', 'value': 'http://www.wikidata.org/entity/Q843'}, 'population': {'datatype': 'http://www.w3.org/2001/XMLSchema#decimal', 'type': 'literal', 'value': '216565318'}, 'totalCityPopulation': {'datatype': 'http://www.w3.org/2001/XMLSchema#decimal', 'type': 'literal', 'value': '38752169'}, 'countryLabel': {'xml:lang': 'en', 'type': 'literal', 'value': 'Pakistan'}, 'ratio': {'datatype': 'http://www.w3.org/2001/XMLSchema#decimal', 'type': 'literal', 'value': '5.58846958992153445656'}}\n",
      "{'country': {'type': 'uri', 'value': 'http://www.wikidata.org/entity/Q1027'}, 'population': {'datatype': 'http://www.w3.org/2001/XMLSchema#decimal', 'type': 'literal', 'value': '1264613'}, 'totalCityPopulation': {'datatype': 'http://www.w3.org/2001/XMLSchema#decimal', 'type': 'literal', 'value': '226269'}, 'countryLabel': {'xml:lang': 'en', 'type': 'literal', 'value': 'Mauritius'}, 'ratio': {'datatype': 'http://www.w3.org/2001/XMLSchema#decimal', 'type': 'literal', 'value': '5.58898037291895929182'}}\n",
      "{'country': {'type': 'uri', 'value': 'http://www.wikidata.org/entity/Q836'}, 'population': {'datatype': 'http://www.w3.org/2001/XMLSchema#decimal', 'type': 'literal', 'value': '53370609'}, 'totalCityPopulation': {'datatype': 'http://www.w3.org/2001/XMLSchema#decimal', 'type': 'literal', 'value': '9546437'}, 'countryLabel': {'xml:lang': 'en', 'type': 'literal', 'value': 'Myanmar'}, 'ratio': {'datatype': 'http://www.w3.org/2001/XMLSchema#decimal', 'type': 'literal', 'value': '5.59063124807716219151'}}\n",
      "{'country': {'type': 'uri', 'value': 'http://www.wikidata.org/entity/Q424'}, 'population': {'datatype': 'http://www.w3.org/2001/XMLSchema#decimal', 'type': 'literal', 'value': '16005373'}, 'totalCityPopulation': {'datatype': 'http://www.w3.org/2001/XMLSchema#decimal', 'type': 'literal', 'value': '2849482'}, 'countryLabel': {'xml:lang': 'en', 'type': 'literal', 'value': 'Cambodia'}, 'ratio': {'datatype': 'http://www.w3.org/2001/XMLSchema#decimal', 'type': 'literal', 'value': '5.6169412545859212306'}}\n",
      "{'country': {'type': 'uri', 'value': 'http://www.wikidata.org/entity/Q1029'}, 'population': {'datatype': 'http://www.w3.org/2001/XMLSchema#decimal', 'type': 'literal', 'value': '29668834'}, 'totalCityPopulation': {'datatype': 'http://www.w3.org/2001/XMLSchema#decimal', 'type': 'literal', 'value': '5158066'}, 'countryLabel': {'xml:lang': 'en', 'type': 'literal', 'value': 'Mozambique'}, 'ratio': {'datatype': 'http://www.w3.org/2001/XMLSchema#decimal', 'type': 'literal', 'value': '5.75192989000140750429'}}\n",
      "{'country': {'type': 'uri', 'value': 'http://www.wikidata.org/entity/Q970'}, 'population': {'datatype': 'http://www.w3.org/2001/XMLSchema#decimal', 'type': 'literal', 'value': '902348'}, 'totalCityPopulation': {'datatype': 'http://www.w3.org/2001/XMLSchema#decimal', 'type': 'literal', 'value': '153287'}, 'countryLabel': {'xml:lang': 'en', 'type': 'literal', 'value': 'Comoros'}, 'ratio': {'datatype': 'http://www.w3.org/2001/XMLSchema#decimal', 'type': 'literal', 'value': '5.886657055066639702'}}\n",
      "{'country': {'type': 'uri', 'value': 'http://www.wikidata.org/entity/Q1020'}, 'population': {'datatype': 'http://www.w3.org/2001/XMLSchema#decimal', 'type': 'literal', 'value': '18622104'}, 'totalCityPopulation': {'datatype': 'http://www.w3.org/2001/XMLSchema#decimal', 'type': 'literal', 'value': '3068500'}, 'countryLabel': {'xml:lang': 'en', 'type': 'literal', 'value': 'Malawi'}, 'ratio': {'datatype': 'http://www.w3.org/2001/XMLSchema#decimal', 'type': 'literal', 'value': '6.0687971321492585954'}}\n",
      "{'country': {'type': 'uri', 'value': 'http://www.wikidata.org/entity/Q712'}, 'population': {'datatype': 'http://www.w3.org/2001/XMLSchema#decimal', 'type': 'literal', 'value': '905502'}, 'totalCityPopulation': {'datatype': 'http://www.w3.org/2001/XMLSchema#decimal', 'type': 'literal', 'value': '140491'}, 'countryLabel': {'xml:lang': 'en', 'type': 'literal', 'value': 'Fiji'}, 'ratio': {'datatype': 'http://www.w3.org/2001/XMLSchema#decimal', 'type': 'literal', 'value': '6.4452669566022022763'}}\n",
      "{'country': {'type': 'uri', 'value': 'http://www.wikidata.org/entity/Q907112'}, 'population': {'datatype': 'http://www.w3.org/2001/XMLSchema#decimal', 'type': 'literal', 'value': '469000'}, 'totalCityPopulation': {'datatype': 'http://www.w3.org/2001/XMLSchema#decimal', 'type': 'literal', 'value': '67424'}, 'countryLabel': {'xml:lang': 'en', 'type': 'literal', 'value': 'Transnistria'}, 'ratio': {'datatype': 'http://www.w3.org/2001/XMLSchema#decimal', 'type': 'literal', 'value': '6.95598006644518272425'}}\n",
      "{'country': {'type': 'uri', 'value': 'http://www.wikidata.org/entity/Q811'}, 'population': {'datatype': 'http://www.w3.org/2001/XMLSchema#decimal', 'type': 'literal', 'value': '6217581'}, 'totalCityPopulation': {'datatype': 'http://www.w3.org/2001/XMLSchema#decimal', 'type': 'literal', 'value': '882519.366'}, 'countryLabel': {'xml:lang': 'en', 'type': 'literal', 'value': 'Nicaragua'}, 'ratio': {'datatype': 'http://www.w3.org/2001/XMLSchema#decimal', 'type': 'literal', 'value': '7.04526295913601515233'}}\n",
      "{'country': {'type': 'uri', 'value': 'http://www.wikidata.org/entity/Q1009'}, 'population': {'datatype': 'http://www.w3.org/2001/XMLSchema#decimal', 'type': 'literal', 'value': '24053727'}, 'totalCityPopulation': {'datatype': 'http://www.w3.org/2001/XMLSchema#decimal', 'type': 'literal', 'value': '3412009'}, 'countryLabel': {'xml:lang': 'en', 'type': 'literal', 'value': 'Cameroon'}, 'ratio': {'datatype': 'http://www.w3.org/2001/XMLSchema#decimal', 'type': 'literal', 'value': '7.04972554292793483253'}}\n",
      "{'country': {'type': 'uri', 'value': 'http://www.wikidata.org/entity/Q902'}, 'population': {'datatype': 'http://www.w3.org/2001/XMLSchema#decimal', 'type': 'literal', 'value': '165775000'}, 'totalCityPopulation': {'datatype': 'http://www.w3.org/2001/XMLSchema#decimal', 'type': 'literal', 'value': '23341096'}, 'countryLabel': {'xml:lang': 'en', 'type': 'literal', 'value': 'Bangladesh'}, 'ratio': {'datatype': 'http://www.w3.org/2001/XMLSchema#decimal', 'type': 'literal', 'value': '7.10228003003800678426'}}\n",
      "{'country': {'type': 'uri', 'value': 'http://www.wikidata.org/entity/Q833'}, 'population': {'datatype': 'http://www.w3.org/2001/XMLSchema#decimal', 'type': 'literal', 'value': '32447385'}, 'totalCityPopulation': {'datatype': 'http://www.w3.org/2001/XMLSchema#decimal', 'type': 'literal', 'value': '4563871'}, 'countryLabel': {'xml:lang': 'en', 'type': 'literal', 'value': 'Malaysia'}, 'ratio': {'datatype': 'http://www.w3.org/2001/XMLSchema#decimal', 'type': 'literal', 'value': '7.10961922455739875207'}}\n",
      "{'country': {'type': 'uri', 'value': 'http://www.wikidata.org/entity/Q685'}, 'population': {'datatype': 'http://www.w3.org/2001/XMLSchema#decimal', 'type': 'literal', 'value': '611343'}, 'totalCityPopulation': {'datatype': 'http://www.w3.org/2001/XMLSchema#decimal', 'type': 'literal', 'value': '84520'}, 'countryLabel': {'xml:lang': 'en', 'type': 'literal', 'value': 'Solomon Islands'}, 'ratio': {'datatype': 'http://www.w3.org/2001/XMLSchema#decimal', 'type': 'literal', 'value': '7.23311642214860388074'}}\n",
      "{'country': {'type': 'uri', 'value': 'http://www.wikidata.org/entity/Q813'}, 'population': {'datatype': 'http://www.w3.org/2001/XMLSchema#decimal', 'type': 'literal', 'value': '6201500'}, 'totalCityPopulation': {'datatype': 'http://www.w3.org/2001/XMLSchema#decimal', 'type': 'literal', 'value': '855231'}, 'countryLabel': {'xml:lang': 'en', 'type': 'literal', 'value': 'Kyrgyzstan'}, 'ratio': {'datatype': 'http://www.w3.org/2001/XMLSchema#decimal', 'type': 'literal', 'value': '7.25125726265769131381'}}\n",
      "{'country': {'type': 'uri', 'value': 'http://www.wikidata.org/entity/Q754'}, 'population': {'datatype': 'http://www.w3.org/2001/XMLSchema#decimal', 'type': 'literal', 'value': '1369125'}, 'totalCityPopulation': {'datatype': 'http://www.w3.org/2001/XMLSchema#decimal', 'type': 'literal', 'value': '182454'}, 'countryLabel': {'xml:lang': 'en', 'type': 'literal', 'value': 'Trinidad and Tobago'}, 'ratio': {'datatype': 'http://www.w3.org/2001/XMLSchema#decimal', 'type': 'literal', 'value': '7.50394620013811700483'}}\n",
      "{'country': {'type': 'uri', 'value': 'http://www.wikidata.org/entity/Q423'}, 'population': {'datatype': 'http://www.w3.org/2001/XMLSchema#decimal', 'type': 'literal', 'value': '25490965'}, 'totalCityPopulation': {'datatype': 'http://www.w3.org/2001/XMLSchema#decimal', 'type': 'literal', 'value': '3370818'}, 'countryLabel': {'xml:lang': 'en', 'type': 'literal', 'value': 'North Korea'}, 'ratio': {'datatype': 'http://www.w3.org/2001/XMLSchema#decimal', 'type': 'literal', 'value': '7.56224898526114432758'}}\n",
      "{'country': {'type': 'uri', 'value': 'http://www.wikidata.org/entity/Q224'}, 'population': {'datatype': 'http://www.w3.org/2001/XMLSchema#decimal', 'type': 'literal', 'value': '4105493'}, 'totalCityPopulation': {'datatype': 'http://www.w3.org/2001/XMLSchema#decimal', 'type': 'literal', 'value': '535097'}, 'countryLabel': {'xml:lang': 'en', 'type': 'literal', 'value': 'Croatia'}, 'ratio': {'datatype': 'http://www.w3.org/2001/XMLSchema#decimal', 'type': 'literal', 'value': '7.67242761592757948559'}}\n",
      "{'country': {'type': 'uri', 'value': 'http://www.wikidata.org/entity/Q193714'}, 'population': {'datatype': 'http://www.w3.org/2001/XMLSchema#decimal', 'type': 'literal', 'value': '1764520'}, 'totalCityPopulation': {'datatype': 'http://www.w3.org/2001/XMLSchema#decimal', 'type': 'literal', 'value': '228994'}, 'countryLabel': {'xml:lang': 'en', 'type': 'literal', 'value': 'Mandatory Palestine'}, 'ratio': {'datatype': 'http://www.w3.org/2001/XMLSchema#decimal', 'type': 'literal', 'value': '7.70552940251709651781'}}\n",
      "{'country': {'type': 'uri', 'value': 'http://www.wikidata.org/entity/Q924'}, 'population': {'datatype': 'http://www.w3.org/2001/XMLSchema#decimal', 'type': 'literal', 'value': '57310019'}, 'totalCityPopulation': {'datatype': 'http://www.w3.org/2001/XMLSchema#decimal', 'type': 'literal', 'value': '7435138'}, 'countryLabel': {'xml:lang': 'en', 'type': 'literal', 'value': 'Tanzania'}, 'ratio': {'datatype': 'http://www.w3.org/2001/XMLSchema#decimal', 'type': 'literal', 'value': '7.70799667739859031534'}}\n",
      "{'country': {'type': 'uri', 'value': 'http://www.wikidata.org/entity/Q963'}, 'population': {'datatype': 'http://www.w3.org/2001/XMLSchema#decimal', 'type': 'literal', 'value': '2291661'}, 'totalCityPopulation': {'datatype': 'http://www.w3.org/2001/XMLSchema#decimal', 'type': 'literal', 'value': '296207'}, 'countryLabel': {'xml:lang': 'en', 'type': 'literal', 'value': 'Botswana'}, 'ratio': {'datatype': 'http://www.w3.org/2001/XMLSchema#decimal', 'type': 'literal', 'value': '7.73668751920109923128'}}\n",
      "{'country': {'type': 'uri', 'value': 'http://www.wikidata.org/entity/Q912'}, 'population': {'datatype': 'http://www.w3.org/2001/XMLSchema#decimal', 'type': 'literal', 'value': '18541980'}, 'totalCityPopulation': {'datatype': 'http://www.w3.org/2001/XMLSchema#decimal', 'type': 'literal', 'value': '2391917'}, 'countryLabel': {'xml:lang': 'en', 'type': 'literal', 'value': 'Mali'}, 'ratio': {'datatype': 'http://www.w3.org/2001/XMLSchema#decimal', 'type': 'literal', 'value': '7.75193286389118017055'}}\n",
      "{'country': {'type': 'uri', 'value': 'http://www.wikidata.org/entity/Q917'}, 'population': {'datatype': 'http://www.w3.org/2001/XMLSchema#decimal', 'type': 'literal', 'value': '807610'}, 'totalCityPopulation': {'datatype': 'http://www.w3.org/2001/XMLSchema#decimal', 'type': 'literal', 'value': '104000'}, 'countryLabel': {'xml:lang': 'en', 'type': 'literal', 'value': 'Bhutan'}, 'ratio': {'datatype': 'http://www.w3.org/2001/XMLSchema#decimal', 'type': 'literal', 'value': '7.76548076923076923077'}}\n",
      "{'country': {'type': 'uri', 'value': 'http://www.wikidata.org/entity/Q958'}, 'population': {'datatype': 'http://www.w3.org/2001/XMLSchema#decimal', 'type': 'literal', 'value': '12575714'}, 'totalCityPopulation': {'datatype': 'http://www.w3.org/2001/XMLSchema#decimal', 'type': 'literal', 'value': '1596794'}, 'countryLabel': {'xml:lang': 'en', 'type': 'literal', 'value': 'South Sudan'}, 'ratio': {'datatype': 'http://www.w3.org/2001/XMLSchema#decimal', 'type': 'literal', 'value': '7.87560198748241789486'}}\n",
      "{'country': {'type': 'uri', 'value': 'http://www.wikidata.org/entity/Q34'}, 'population': {'datatype': 'http://www.w3.org/2001/XMLSchema#decimal', 'type': 'literal', 'value': '10409248'}, 'totalCityPopulation': {'datatype': 'http://www.w3.org/2001/XMLSchema#decimal', 'type': 'literal', 'value': '1320353'}, 'countryLabel': {'xml:lang': 'en', 'type': 'literal', 'value': 'Sweden'}, 'ratio': {'datatype': 'http://www.w3.org/2001/XMLSchema#decimal', 'type': 'literal', 'value': '7.88368565073128171027'}}\n",
      "{'country': {'type': 'uri', 'value': 'http://www.wikidata.org/entity/Q192184'}, 'population': {'datatype': 'http://www.w3.org/2001/XMLSchema#decimal', 'type': 'literal', 'value': '5633'}, 'totalCityPopulation': {'datatype': 'http://www.w3.org/2001/XMLSchema#decimal', 'type': 'literal', 'value': '714'}, 'countryLabel': {'xml:lang': 'en', 'type': 'literal', 'value': 'Saint Helena, Ascension and Tristan da Cunha'}, 'ratio': {'datatype': 'http://www.w3.org/2001/XMLSchema#decimal', 'type': 'literal', 'value': '7.88935574229691876751'}}\n",
      "{'country': {'type': 'uri', 'value': 'http://www.wikidata.org/entity/Q945'}, 'population': {'datatype': 'http://www.w3.org/2001/XMLSchema#decimal', 'type': 'literal', 'value': '7797694'}, 'totalCityPopulation': {'datatype': 'http://www.w3.org/2001/XMLSchema#decimal', 'type': 'literal', 'value': '973618'}, 'countryLabel': {'xml:lang': 'en', 'type': 'literal', 'value': 'Togo'}, 'ratio': {'datatype': 'http://www.w3.org/2001/XMLSchema#decimal', 'type': 'literal', 'value': '8.00898709760912390691'}}\n",
      "{'country': {'type': 'uri', 'value': 'http://www.wikidata.org/entity/Q227'}, 'population': {'datatype': 'http://www.w3.org/2001/XMLSchema#decimal', 'type': 'literal', 'value': '10127874'}, 'totalCityPopulation': {'datatype': 'http://www.w3.org/2001/XMLSchema#decimal', 'type': 'literal', 'value': '1226331'}, 'countryLabel': {'xml:lang': 'en', 'type': 'literal', 'value': 'Azerbaijan'}, 'ratio': {'datatype': 'http://www.w3.org/2001/XMLSchema#decimal', 'type': 'literal', 'value': '8.25867893741575480029'}}\n",
      "{'country': {'type': 'uri', 'value': 'http://www.wikidata.org/entity/Q238'}, 'population': {'datatype': 'http://www.w3.org/2001/XMLSchema#decimal', 'type': 'literal', 'value': '33400'}, 'totalCityPopulation': {'datatype': 'http://www.w3.org/2001/XMLSchema#decimal', 'type': 'literal', 'value': '4040'}, 'countryLabel': {'xml:lang': 'en', 'type': 'literal', 'value': 'San Marino'}, 'ratio': {'datatype': 'http://www.w3.org/2001/XMLSchema#decimal', 'type': 'literal', 'value': '8.26732673267326732673'}}\n",
      "{'country': {'type': 'uri', 'value': 'http://www.wikidata.org/entity/Q800'}, 'population': {'datatype': 'http://www.w3.org/2001/XMLSchema#decimal', 'type': 'literal', 'value': '4905769'}, 'totalCityPopulation': {'datatype': 'http://www.w3.org/2001/XMLSchema#decimal', 'type': 'literal', 'value': '586894'}, 'countryLabel': {'xml:lang': 'en', 'type': 'literal', 'value': 'Costa Rica'}, 'ratio': {'datatype': 'http://www.w3.org/2001/XMLSchema#decimal', 'type': 'literal', 'value': '8.35886718896427634292'}}\n",
      "{'country': {'type': 'uri', 'value': 'http://www.wikidata.org/entity/Q657'}, 'population': {'datatype': 'http://www.w3.org/2001/XMLSchema#decimal', 'type': 'literal', 'value': '15477751'}, 'totalCityPopulation': {'datatype': 'http://www.w3.org/2001/XMLSchema#decimal', 'type': 'literal', 'value': '1849789'}, 'countryLabel': {'xml:lang': 'en', 'type': 'literal', 'value': 'Chad'}, 'ratio': {'datatype': 'http://www.w3.org/2001/XMLSchema#decimal', 'type': 'literal', 'value': '8.36730621708746240787'}}\n",
      "{'country': {'type': 'uri', 'value': 'http://www.wikidata.org/entity/Q921'}, 'population': {'datatype': 'http://www.w3.org/2001/XMLSchema#decimal', 'type': 'literal', 'value': '428697'}, 'totalCityPopulation': {'datatype': 'http://www.w3.org/2001/XMLSchema#decimal', 'type': 'literal', 'value': '50000'}, 'countryLabel': {'xml:lang': 'en', 'type': 'literal', 'value': 'Brunei'}, 'ratio': {'datatype': 'http://www.w3.org/2001/XMLSchema#decimal', 'type': 'literal', 'value': '8.57394'}}\n",
      "{'country': {'type': 'uri', 'value': 'http://www.wikidata.org/entity/Q822'}, 'population': {'datatype': 'http://www.w3.org/2001/XMLSchema#decimal', 'type': 'literal', 'value': '6100075'}, 'totalCityPopulation': {'datatype': 'http://www.w3.org/2001/XMLSchema#decimal', 'type': 'literal', 'value': '709221'}, 'countryLabel': {'xml:lang': 'en', 'type': 'literal', 'value': 'Lebanon'}, 'ratio': {'datatype': 'http://www.w3.org/2001/XMLSchema#decimal', 'type': 'literal', 'value': '8.60109190224203739032'}}\n",
      "{'country': {'type': 'uri', 'value': 'http://www.wikidata.org/entity/Q668'}, 'population': {'datatype': 'http://www.w3.org/2001/XMLSchema#decimal', 'type': 'literal', 'value': '1326093247'}, 'totalCityPopulation': {'datatype': 'http://www.w3.org/2001/XMLSchema#decimal', 'type': 'literal', 'value': '152042380'}, 'countryLabel': {'xml:lang': 'en', 'type': 'literal', 'value': 'India'}, 'ratio': {'datatype': 'http://www.w3.org/2001/XMLSchema#decimal', 'type': 'literal', 'value': '8.72186588370952888267'}}\n",
      "{'country': {'type': 'uri', 'value': 'http://www.wikidata.org/entity/Q27'}, 'population': {'datatype': 'http://www.w3.org/2001/XMLSchema#decimal', 'type': 'literal', 'value': '4761865'}, 'totalCityPopulation': {'datatype': 'http://www.w3.org/2001/XMLSchema#decimal', 'type': 'literal', 'value': '544640'}, 'countryLabel': {'xml:lang': 'en', 'type': 'literal', 'value': 'Republic of Ireland'}, 'ratio': {'datatype': 'http://www.w3.org/2001/XMLSchema#decimal', 'type': 'literal', 'value': '8.74314225910693301998'}}\n",
      "{'country': {'type': 'uri', 'value': 'http://www.wikidata.org/entity/Q800'}, 'population': {'datatype': 'http://www.w3.org/2001/XMLSchema#decimal', 'type': 'literal', 'value': '5213362'}, 'totalCityPopulation': {'datatype': 'http://www.w3.org/2001/XMLSchema#decimal', 'type': 'literal', 'value': '586894'}, 'countryLabel': {'xml:lang': 'en', 'type': 'literal', 'value': 'Costa Rica'}, 'ratio': {'datatype': 'http://www.w3.org/2001/XMLSchema#decimal', 'type': 'literal', 'value': '8.88297034898976646549'}}\n",
      "{'country': {'type': 'uri', 'value': 'http://www.wikidata.org/entity/Q148'}, 'population': {'datatype': 'http://www.w3.org/2001/XMLSchema#decimal', 'type': 'literal', 'value': '1443497378'}, 'totalCityPopulation': {'datatype': 'http://www.w3.org/2001/XMLSchema#decimal', 'type': 'literal', 'value': '161724117'}, 'countryLabel': {'xml:lang': 'en', 'type': 'literal', 'value': \"People's Republic of China\"}, 'ratio': {'datatype': 'http://www.w3.org/2001/XMLSchema#decimal', 'type': 'literal', 'value': '8.92567790615916610631'}}\n",
      "{'country': {'type': 'uri', 'value': 'http://www.wikidata.org/entity/Q965'}, 'population': {'datatype': 'http://www.w3.org/2001/XMLSchema#decimal', 'type': 'literal', 'value': '20488000'}, 'totalCityPopulation': {'datatype': 'http://www.w3.org/2001/XMLSchema#decimal', 'type': 'literal', 'value': '2154217'}, 'countryLabel': {'xml:lang': 'en', 'type': 'literal', 'value': 'Burkina Faso'}, 'ratio': {'datatype': 'http://www.w3.org/2001/XMLSchema#decimal', 'type': 'literal', 'value': '9.51064818446795285712'}}\n",
      "{'country': {'type': 'uri', 'value': 'http://www.wikidata.org/entity/Q114'}, 'population': {'datatype': 'http://www.w3.org/2001/XMLSchema#decimal', 'type': 'literal', 'value': '48468138'}, 'totalCityPopulation': {'datatype': 'http://www.w3.org/2001/XMLSchema#decimal', 'type': 'literal', 'value': '4979910'}, 'countryLabel': {'xml:lang': 'en', 'type': 'literal', 'value': 'Kenya'}, 'ratio': {'datatype': 'http://www.w3.org/2001/XMLSchema#decimal', 'type': 'literal', 'value': '9.73273372410344765267'}}\n",
      "{'country': {'type': 'uri', 'value': 'http://www.wikidata.org/entity/Q1041'}, 'population': {'datatype': 'http://www.w3.org/2001/XMLSchema#decimal', 'type': 'literal', 'value': '15850567'}, 'totalCityPopulation': {'datatype': 'http://www.w3.org/2001/XMLSchema#decimal', 'type': 'literal', 'value': '1604353'}, 'countryLabel': {'xml:lang': 'en', 'type': 'literal', 'value': 'Senegal'}, 'ratio': {'datatype': 'http://www.w3.org/2001/XMLSchema#decimal', 'type': 'literal', 'value': '9.879725347227199999'}}\n",
      "{'country': {'type': 'uri', 'value': 'http://www.wikidata.org/entity/Q31'}, 'population': {'datatype': 'http://www.w3.org/2001/XMLSchema#decimal', 'type': 'literal', 'value': '11521238'}, 'totalCityPopulation': {'datatype': 'http://www.w3.org/2001/XMLSchema#decimal', 'type': 'literal', 'value': '1125045'}, 'countryLabel': {'xml:lang': 'en', 'type': 'literal', 'value': 'Belgium'}, 'ratio': {'datatype': 'http://www.w3.org/2001/XMLSchema#decimal', 'type': 'literal', 'value': '10.24069081681177197357'}}\n",
      "{'country': {'type': 'uri', 'value': 'http://www.wikidata.org/entity/Q217169'}, 'population': {'datatype': 'http://www.w3.org/2001/XMLSchema#decimal', 'type': 'literal', 'value': '6930000'}, 'totalCityPopulation': {'datatype': 'http://www.w3.org/2001/XMLSchema#decimal', 'type': 'literal', 'value': '653337'}, 'countryLabel': {'xml:lang': 'en', 'type': 'literal', 'value': 'Rhodesia'}, 'ratio': {'datatype': 'http://www.w3.org/2001/XMLSchema#decimal', 'type': 'literal', 'value': '10.60708332759356962793'}}\n",
      "{'country': {'type': 'uri', 'value': 'http://www.wikidata.org/entity/Q298'}, 'population': {'datatype': 'http://www.w3.org/2001/XMLSchema#decimal', 'type': 'literal', 'value': '18054726'}, 'totalCityPopulation': {'datatype': 'http://www.w3.org/2001/XMLSchema#decimal', 'type': 'literal', 'value': '1671560'}, 'countryLabel': {'xml:lang': 'en', 'type': 'literal', 'value': 'Chile'}, 'ratio': {'datatype': 'http://www.w3.org/2001/XMLSchema#decimal', 'type': 'literal', 'value': '10.80112350139988992319'}}\n",
      "{'country': {'type': 'uri', 'value': 'http://www.wikidata.org/entity/Q869'}, 'population': {'datatype': 'http://www.w3.org/2001/XMLSchema#decimal', 'type': 'literal', 'value': '65931550'}, 'totalCityPopulation': {'datatype': 'http://www.w3.org/2001/XMLSchema#decimal', 'type': 'literal', 'value': '5949228'}, 'countryLabel': {'xml:lang': 'en', 'type': 'literal', 'value': 'Thailand'}, 'ratio': {'datatype': 'http://www.w3.org/2001/XMLSchema#decimal', 'type': 'literal', 'value': '11.08237068742364555536'}}\n",
      "{'country': {'type': 'uri', 'value': 'http://www.wikidata.org/entity/Q213'}, 'population': {'datatype': 'http://www.w3.org/2001/XMLSchema#decimal', 'type': 'literal', 'value': '10701777'}, 'totalCityPopulation': {'datatype': 'http://www.w3.org/2001/XMLSchema#decimal', 'type': 'literal', 'value': '959279'}, 'countryLabel': {'xml:lang': 'en', 'type': 'literal', 'value': 'Czech Republic'}, 'ratio': {'datatype': 'http://www.w3.org/2001/XMLSchema#decimal', 'type': 'literal', 'value': '11.15606304318138935596'}}\n",
      "{'country': {'type': 'uri', 'value': 'http://www.wikidata.org/entity/Q233'}, 'population': {'datatype': 'http://www.w3.org/2001/XMLSchema#decimal', 'type': 'literal', 'value': '465292'}, 'totalCityPopulation': {'datatype': 'http://www.w3.org/2001/XMLSchema#decimal', 'type': 'literal', 'value': '41135'}, 'countryLabel': {'xml:lang': 'en', 'type': 'literal', 'value': 'Malta'}, 'ratio': {'datatype': 'http://www.w3.org/2001/XMLSchema#decimal', 'type': 'literal', 'value': '11.31134070742676552814'}}\n",
      "{'country': {'type': 'uri', 'value': 'http://www.wikidata.org/entity/Q837'}, 'population': {'datatype': 'http://www.w3.org/2001/XMLSchema#decimal', 'type': 'literal', 'value': '30327877'}, 'totalCityPopulation': {'datatype': 'http://www.w3.org/2001/XMLSchema#decimal', 'type': 'literal', 'value': '2595537'}, 'countryLabel': {'xml:lang': 'en', 'type': 'literal', 'value': 'Nepal'}, 'ratio': {'datatype': 'http://www.w3.org/2001/XMLSchema#decimal', 'type': 'literal', 'value': '11.68462518546258442858'}}\n",
      "{'country': {'type': 'uri', 'value': 'http://www.wikidata.org/entity/Q183'}, 'population': {'datatype': 'http://www.w3.org/2001/XMLSchema#decimal', 'type': 'literal', 'value': '83149300'}, 'totalCityPopulation': {'datatype': 'http://www.w3.org/2001/XMLSchema#decimal', 'type': 'literal', 'value': '6835528'}, 'countryLabel': {'xml:lang': 'en', 'type': 'literal', 'value': 'Germany'}, 'ratio': {'datatype': 'http://www.w3.org/2001/XMLSchema#decimal', 'type': 'literal', 'value': '12.16428343209185888786'}}\n",
      "{'country': {'type': 'uri', 'value': 'http://www.wikidata.org/entity/Q34754'}, 'population': {'datatype': 'http://www.w3.org/2001/XMLSchema#decimal', 'type': 'literal', 'value': '5780000'}, 'totalCityPopulation': {'datatype': 'http://www.w3.org/2001/XMLSchema#decimal', 'type': 'literal', 'value': '459285'}, 'countryLabel': {'xml:lang': 'en', 'type': 'literal', 'value': 'Somaliland'}, 'ratio': {'datatype': 'http://www.w3.org/2001/XMLSchema#decimal', 'type': 'literal', 'value': '12.58477851443003799384'}}\n",
      "{'country': {'type': 'uri', 'value': 'http://www.wikidata.org/entity/Q854'}, 'population': {'datatype': 'http://www.w3.org/2001/XMLSchema#decimal', 'type': 'literal', 'value': '21444000'}, 'totalCityPopulation': {'datatype': 'http://www.w3.org/2001/XMLSchema#decimal', 'type': 'literal', 'value': '1641360'}, 'countryLabel': {'xml:lang': 'en', 'type': 'literal', 'value': 'Sri Lanka'}, 'ratio': {'datatype': 'http://www.w3.org/2001/XMLSchema#decimal', 'type': 'literal', 'value': '13.06477555198128381342'}}\n",
      "{'country': {'type': 'uri', 'value': 'http://www.wikidata.org/entity/Q769'}, 'population': {'datatype': 'http://www.w3.org/2001/XMLSchema#decimal', 'type': 'literal', 'value': '107825'}, 'totalCityPopulation': {'datatype': 'http://www.w3.org/2001/XMLSchema#decimal', 'type': 'literal', 'value': '8091'}, 'countryLabel': {'xml:lang': 'en', 'type': 'literal', 'value': 'Grenada'}, 'ratio': {'datatype': 'http://www.w3.org/2001/XMLSchema#decimal', 'type': 'literal', 'value': '13.32653565690273142998'}}\n",
      "{'country': {'type': 'uri', 'value': 'http://www.wikidata.org/entity/Q155'}, 'population': {'datatype': 'http://www.w3.org/2001/XMLSchema#decimal', 'type': 'literal', 'value': '213317639'}, 'totalCityPopulation': {'datatype': 'http://www.w3.org/2001/XMLSchema#decimal', 'type': 'literal', 'value': '15642318'}, 'countryLabel': {'xml:lang': 'en', 'type': 'literal', 'value': 'Brazil'}, 'ratio': {'datatype': 'http://www.w3.org/2001/XMLSchema#decimal', 'type': 'literal', 'value': '13.63721406251937852178'}}\n",
      "{'country': {'type': 'uri', 'value': 'http://www.wikidata.org/entity/Q967'}, 'population': {'datatype': 'http://www.w3.org/2001/XMLSchema#decimal', 'type': 'literal', 'value': '11530580'}, 'totalCityPopulation': {'datatype': 'http://www.w3.org/2001/XMLSchema#decimal', 'type': 'literal', 'value': '840481'}, 'countryLabel': {'xml:lang': 'en', 'type': 'literal', 'value': 'Burundi'}, 'ratio': {'datatype': 'http://www.w3.org/2001/XMLSchema#decimal', 'type': 'literal', 'value': '13.71902517724969392526'}}\n",
      "{'country': {'type': 'uri', 'value': 'http://www.wikidata.org/entity/Q1032'}, 'population': {'datatype': 'http://www.w3.org/2001/XMLSchema#decimal', 'type': 'literal', 'value': '21477348'}, 'totalCityPopulation': {'datatype': 'http://www.w3.org/2001/XMLSchema#decimal', 'type': 'literal', 'value': '1529702'}, 'countryLabel': {'xml:lang': 'en', 'type': 'literal', 'value': 'Niger'}, 'ratio': {'datatype': 'http://www.w3.org/2001/XMLSchema#decimal', 'type': 'literal', 'value': '14.04021698343860438177'}}\n",
      "{'country': {'type': 'uri', 'value': 'http://www.wikidata.org/entity/Q28'}, 'population': {'datatype': 'http://www.w3.org/2001/XMLSchema#decimal', 'type': 'literal', 'value': '9769526'}, 'totalCityPopulation': {'datatype': 'http://www.w3.org/2001/XMLSchema#decimal', 'type': 'literal', 'value': '614946'}, 'countryLabel': {'xml:lang': 'en', 'type': 'literal', 'value': 'Hungary'}, 'ratio': {'datatype': 'http://www.w3.org/2001/XMLSchema#decimal', 'type': 'literal', 'value': '15.88680306888734945833'}}\n",
      "{'country': {'type': 'uri', 'value': 'http://www.wikidata.org/entity/Q252'}, 'population': {'datatype': 'http://www.w3.org/2001/XMLSchema#decimal', 'type': 'literal', 'value': '270625568'}, 'totalCityPopulation': {'datatype': 'http://www.w3.org/2001/XMLSchema#decimal', 'type': 'literal', 'value': '16490352'}, 'countryLabel': {'xml:lang': 'en', 'type': 'literal', 'value': 'Indonesia'}, 'ratio': {'datatype': 'http://www.w3.org/2001/XMLSchema#decimal', 'type': 'literal', 'value': '16.41114562017839279598'}}\n",
      "{'country': {'type': 'uri', 'value': 'http://www.wikidata.org/entity/Q702'}, 'population': {'datatype': 'http://www.w3.org/2001/XMLSchema#decimal', 'type': 'literal', 'value': '105544'}, 'totalCityPopulation': {'datatype': 'http://www.w3.org/2001/XMLSchema#decimal', 'type': 'literal', 'value': '6227'}, 'countryLabel': {'xml:lang': 'en', 'type': 'literal', 'value': 'Federated States of Micronesia'}, 'ratio': {'datatype': 'http://www.w3.org/2001/XMLSchema#decimal', 'type': 'literal', 'value': '16.9494138429420266581'}}\n",
      "{'country': {'type': 'uri', 'value': 'http://www.wikidata.org/entity/Q218'}, 'population': {'datatype': 'http://www.w3.org/2001/XMLSchema#decimal', 'type': 'literal', 'value': '19586539'}, 'totalCityPopulation': {'datatype': 'http://www.w3.org/2001/XMLSchema#decimal', 'type': 'literal', 'value': '1114272'}, 'countryLabel': {'xml:lang': 'en', 'type': 'literal', 'value': 'Romania'}, 'ratio': {'datatype': 'http://www.w3.org/2001/XMLSchema#decimal', 'type': 'literal', 'value': '17.57787954826110680337'}}\n",
      "{'country': {'type': 'uri', 'value': 'http://www.wikidata.org/entity/Q40'}, 'population': {'datatype': 'http://www.w3.org/2001/XMLSchema#decimal', 'type': 'literal', 'value': '8979894'}, 'totalCityPopulation': {'datatype': 'http://www.w3.org/2001/XMLSchema#decimal', 'type': 'literal', 'value': '510419'}, 'countryLabel': {'xml:lang': 'en', 'type': 'literal', 'value': 'Austria'}, 'ratio': {'datatype': 'http://www.w3.org/2001/XMLSchema#decimal', 'type': 'literal', 'value': '17.59318128831411056407'}}\n",
      "{'country': {'type': 'uri', 'value': 'http://www.wikidata.org/entity/Q1036'}, 'population': {'datatype': 'http://www.w3.org/2001/XMLSchema#decimal', 'type': 'literal', 'value': '42862958'}, 'totalCityPopulation': {'datatype': 'http://www.w3.org/2001/XMLSchema#decimal', 'type': 'literal', 'value': '2315858'}, 'countryLabel': {'xml:lang': 'en', 'type': 'literal', 'value': 'Uganda'}, 'ratio': {'datatype': 'http://www.w3.org/2001/XMLSchema#decimal', 'type': 'literal', 'value': '18.50845690884328831906'}}\n",
      "{'country': {'type': 'uri', 'value': 'http://www.wikidata.org/entity/Q159631'}, 'population': {'datatype': 'http://www.w3.org/2001/XMLSchema#decimal', 'type': 'literal', 'value': '2437574'}, 'totalCityPopulation': {'datatype': 'http://www.w3.org/2001/XMLSchema#decimal', 'type': 'literal', 'value': '126405'}, 'countryLabel': {'xml:lang': 'en', 'type': 'literal', 'value': 'Kingdom of Württemberg'}, 'ratio': {'datatype': 'http://www.w3.org/2001/XMLSchema#decimal', 'type': 'literal', 'value': '19.28384162018907479926'}}\n",
      "{'country': {'type': 'uri', 'value': 'http://www.wikidata.org/entity/Q574'}, 'population': {'datatype': 'http://www.w3.org/2001/XMLSchema#decimal', 'type': 'literal', 'value': '1296311'}, 'totalCityPopulation': {'datatype': 'http://www.w3.org/2001/XMLSchema#decimal', 'type': 'literal', 'value': '64331'}, 'countryLabel': {'xml:lang': 'en', 'type': 'literal', 'value': 'East Timor'}, 'ratio': {'datatype': 'http://www.w3.org/2001/XMLSchema#decimal', 'type': 'literal', 'value': '20.15064276942687040463'}}\n",
      "{'country': {'type': 'uri', 'value': 'http://www.wikidata.org/entity/Q31354462'}, 'population': {'datatype': 'http://www.w3.org/2001/XMLSchema#decimal', 'type': 'literal', 'value': '242000'}, 'totalCityPopulation': {'datatype': 'http://www.w3.org/2001/XMLSchema#decimal', 'type': 'literal', 'value': '11803'}, 'countryLabel': {'xml:lang': 'en', 'type': 'literal', 'value': 'Republic of Abkhazia'}, 'ratio': {'datatype': 'http://www.w3.org/2001/XMLSchema#decimal', 'type': 'literal', 'value': '20.50326188257222739981'}}\n",
      "{'country': {'type': 'uri', 'value': 'http://www.wikidata.org/entity/Q179876'}, 'population': {'datatype': 'http://www.w3.org/2001/XMLSchema#decimal', 'type': 'literal', 'value': '5750000'}, 'totalCityPopulation': {'datatype': 'http://www.w3.org/2001/XMLSchema#decimal', 'type': 'literal', 'value': '260200'}, 'countryLabel': {'xml:lang': 'en', 'type': 'literal', 'value': 'Kingdom of England'}, 'ratio': {'datatype': 'http://www.w3.org/2001/XMLSchema#decimal', 'type': 'literal', 'value': '22.09838585703305149885'}}\n",
      "{'country': {'type': 'uri', 'value': 'http://www.wikidata.org/entity/Q1045'}, 'population': {'datatype': 'http://www.w3.org/2001/XMLSchema#decimal', 'type': 'literal', 'value': '11031386'}, 'totalCityPopulation': {'datatype': 'http://www.w3.org/2001/XMLSchema#decimal', 'type': 'literal', 'value': '494267'}, 'countryLabel': {'xml:lang': 'en', 'type': 'literal', 'value': 'Somalia'}, 'ratio': {'datatype': 'http://www.w3.org/2001/XMLSchema#decimal', 'type': 'literal', 'value': '22.3186779615066350778'}}\n",
      "{'country': {'type': 'uri', 'value': 'http://www.wikidata.org/entity/Q30'}, 'population': {'datatype': 'http://www.w3.org/2001/XMLSchema#decimal', 'type': 'literal', 'value': '331449281'}, 'totalCityPopulation': {'datatype': 'http://www.w3.org/2001/XMLSchema#decimal', 'type': 'literal', 'value': '14786136'}, 'countryLabel': {'xml:lang': 'en', 'type': 'literal', 'value': 'United States of America'}, 'ratio': {'datatype': 'http://www.w3.org/2001/XMLSchema#decimal', 'type': 'literal', 'value': '22.41622023495523103534'}}\n",
      "{'country': {'type': 'uri', 'value': 'http://www.wikidata.org/entity/Q399'}, 'population': {'datatype': 'http://www.w3.org/2001/XMLSchema#decimal', 'type': 'literal', 'value': '2930450'}, 'totalCityPopulation': {'datatype': 'http://www.w3.org/2001/XMLSchema#decimal', 'type': 'literal', 'value': '123683'}, 'countryLabel': {'xml:lang': 'en', 'type': 'literal', 'value': 'Armenia'}, 'ratio': {'datatype': 'http://www.w3.org/2001/XMLSchema#decimal', 'type': 'literal', 'value': '23.69323189120574371579'}}\n",
      "{'country': {'type': 'uri', 'value': 'http://www.wikidata.org/entity/Q1037'}, 'population': {'datatype': 'http://www.w3.org/2001/XMLSchema#decimal', 'type': 'literal', 'value': '12208407'}, 'totalCityPopulation': {'datatype': 'http://www.w3.org/2001/XMLSchema#decimal', 'type': 'literal', 'value': '487080'}, 'countryLabel': {'xml:lang': 'en', 'type': 'literal', 'value': 'Rwanda'}, 'ratio': {'datatype': 'http://www.w3.org/2001/XMLSchema#decimal', 'type': 'literal', 'value': '25.06448016752894801675'}}\n",
      "{'country': {'type': 'uri', 'value': 'http://www.wikidata.org/entity/Q142'}, 'population': {'datatype': 'http://www.w3.org/2001/XMLSchema#decimal', 'type': 'literal', 'value': '67063703'}, 'totalCityPopulation': {'datatype': 'http://www.w3.org/2001/XMLSchema#decimal', 'type': 'literal', 'value': '2675345'}, 'countryLabel': {'xml:lang': 'en', 'type': 'literal', 'value': 'France'}, 'ratio': {'datatype': 'http://www.w3.org/2001/XMLSchema#decimal', 'type': 'literal', 'value': '25.0673101973764131355'}}\n",
      "{'country': {'type': 'uri', 'value': 'http://www.wikidata.org/entity/Q154195'}, 'population': {'datatype': 'http://www.w3.org/2001/XMLSchema#decimal', 'type': 'literal', 'value': '3231570'}, 'totalCityPopulation': {'datatype': 'http://www.w3.org/2001/XMLSchema#decimal', 'type': 'literal', 'value': '126405'}, 'countryLabel': {'xml:lang': 'en', 'type': 'literal', 'value': 'Kingdom of Bavaria'}, 'ratio': {'datatype': 'http://www.w3.org/2001/XMLSchema#decimal', 'type': 'literal', 'value': '25.56520707250504331316'}}\n",
      "{'country': {'type': 'uri', 'value': 'http://www.wikidata.org/entity/Q870055'}, 'population': {'datatype': 'http://www.w3.org/2001/XMLSchema#decimal', 'type': 'literal', 'value': '3100000'}, 'totalCityPopulation': {'datatype': 'http://www.w3.org/2001/XMLSchema#decimal', 'type': 'literal', 'value': '119848'}, 'countryLabel': {'xml:lang': 'en', 'type': 'literal', 'value': 'Kingdom of Laos'}, 'ratio': {'datatype': 'http://www.w3.org/2001/XMLSchema#decimal', 'type': 'literal', 'value': '25.8660970562712769508'}}\n",
      "{'country': {'type': 'uri', 'value': 'http://www.wikidata.org/entity/Q851'}, 'population': {'datatype': 'http://www.w3.org/2001/XMLSchema#decimal', 'type': 'literal', 'value': '33000000'}, 'totalCityPopulation': {'datatype': 'http://www.w3.org/2001/XMLSchema#decimal', 'type': 'literal', 'value': '1257582'}, 'countryLabel': {'xml:lang': 'en', 'type': 'literal', 'value': 'Saudi Arabia'}, 'ratio': {'datatype': 'http://www.w3.org/2001/XMLSchema#decimal', 'type': 'literal', 'value': '26.24083359971755320925'}}\n",
      "{'country': {'type': 'uri', 'value': 'http://www.wikidata.org/entity/Q846'}, 'population': {'datatype': 'http://www.w3.org/2001/XMLSchema#decimal', 'type': 'literal', 'value': '2639211'}, 'totalCityPopulation': {'datatype': 'http://www.w3.org/2001/XMLSchema#decimal', 'type': 'literal', 'value': '87970'}, 'countryLabel': {'xml:lang': 'en', 'type': 'literal', 'value': 'Qatar'}, 'ratio': {'datatype': 'http://www.w3.org/2001/XMLSchema#decimal', 'type': 'literal', 'value': '30.00126179379333863817'}}\n",
      "{'country': {'type': 'uri', 'value': 'http://www.wikidata.org/entity/Q115'}, 'population': {'datatype': 'http://www.w3.org/2001/XMLSchema#decimal', 'type': 'literal', 'value': '104957438'}, 'totalCityPopulation': {'datatype': 'http://www.w3.org/2001/XMLSchema#decimal', 'type': 'literal', 'value': '3078071'}, 'countryLabel': {'xml:lang': 'en', 'type': 'literal', 'value': 'Ethiopia'}, 'ratio': {'datatype': 'http://www.w3.org/2001/XMLSchema#decimal', 'type': 'literal', 'value': '34.09844607223160219501'}}\n",
      "{'country': {'type': 'uri', 'value': 'http://www.wikidata.org/entity/Q229'}, 'population': {'datatype': 'http://www.w3.org/2001/XMLSchema#decimal', 'type': 'literal', 'value': '1141166'}, 'totalCityPopulation': {'datatype': 'http://www.w3.org/2001/XMLSchema#decimal', 'type': 'literal', 'value': '33207'}, 'countryLabel': {'xml:lang': 'en', 'type': 'literal', 'value': 'Cyprus'}, 'ratio': {'datatype': 'http://www.w3.org/2001/XMLSchema#decimal', 'type': 'literal', 'value': '34.36522419971692715391'}}\n",
      "{'country': {'type': 'uri', 'value': 'http://www.wikidata.org/entity/Q154667'}, 'population': {'datatype': 'http://www.w3.org/2001/XMLSchema#decimal', 'type': 'literal', 'value': '2500000'}, 'totalCityPopulation': {'datatype': 'http://www.w3.org/2001/XMLSchema#decimal', 'type': 'literal', 'value': '64441'}, 'countryLabel': {'xml:lang': 'en', 'type': 'literal', 'value': 'Kingdom of Georgia'}, 'ratio': {'datatype': 'http://www.w3.org/2001/XMLSchema#decimal', 'type': 'literal', 'value': '38.79517698359739917134'}}\n",
      "{'country': {'type': 'uri', 'value': 'http://www.wikidata.org/entity/Q245160'}, 'population': {'datatype': 'http://www.w3.org/2001/XMLSchema#decimal', 'type': 'literal', 'value': '2500000'}, 'totalCityPopulation': {'datatype': 'http://www.w3.org/2001/XMLSchema#decimal', 'type': 'literal', 'value': '64441'}, 'countryLabel': {'xml:lang': 'en', 'type': 'literal', 'value': 'Democratic Republic of Georgia'}, 'ratio': {'datatype': 'http://www.w3.org/2001/XMLSchema#decimal', 'type': 'literal', 'value': '38.79517698359739917134'}}\n",
      "{'country': {'type': 'uri', 'value': 'http://www.wikidata.org/entity/Q55659450'}, 'population': {'datatype': 'http://www.w3.org/2001/XMLSchema#decimal', 'type': 'literal', 'value': '2660000'}, 'totalCityPopulation': {'datatype': 'http://www.w3.org/2001/XMLSchema#decimal', 'type': 'literal', 'value': '64441'}, 'countryLabel': {'xml:lang': 'en', 'type': 'literal', 'value': 'Socialist Soviet Republic Of Georgia'}, 'ratio': {'datatype': 'http://www.w3.org/2001/XMLSchema#decimal', 'type': 'literal', 'value': '41.2780683105476327183'}}\n",
      "{'country': {'type': 'uri', 'value': 'http://www.wikidata.org/entity/Q1019'}, 'population': {'datatype': 'http://www.w3.org/2001/XMLSchema#decimal', 'type': 'literal', 'value': '25570895'}, 'totalCityPopulation': {'datatype': 'http://www.w3.org/2001/XMLSchema#decimal', 'type': 'literal', 'value': '580888'}, 'countryLabel': {'xml:lang': 'en', 'type': 'literal', 'value': 'Madagascar'}, 'ratio': {'datatype': 'http://www.w3.org/2001/XMLSchema#decimal', 'type': 'literal', 'value': '44.02035332112214402776'}}\n",
      "{'country': {'type': 'uri', 'value': 'http://www.wikidata.org/entity/Q691'}, 'population': {'datatype': 'http://www.w3.org/2001/XMLSchema#decimal', 'type': 'literal', 'value': '8935000'}, 'totalCityPopulation': {'datatype': 'http://www.w3.org/2001/XMLSchema#decimal', 'type': 'literal', 'value': '198632'}, 'countryLabel': {'xml:lang': 'en', 'type': 'literal', 'value': 'Papua New Guinea'}, 'ratio': {'datatype': 'http://www.w3.org/2001/XMLSchema#decimal', 'type': 'literal', 'value': '44.98268154174553949011'}}\n",
      "{'country': {'type': 'uri', 'value': 'http://www.wikidata.org/entity/Q1005'}, 'population': {'datatype': 'http://www.w3.org/2001/XMLSchema#decimal', 'type': 'literal', 'value': '2100568'}, 'totalCityPopulation': {'datatype': 'http://www.w3.org/2001/XMLSchema#decimal', 'type': 'literal', 'value': '31356'}, 'countryLabel': {'xml:lang': 'en', 'type': 'literal', 'value': 'The Gambia'}, 'ratio': {'datatype': 'http://www.w3.org/2001/XMLSchema#decimal', 'type': 'literal', 'value': '66.9909427222860058681'}}\n",
      "{'country': {'type': 'uri', 'value': 'http://www.wikidata.org/entity/Q948'}, 'population': {'datatype': 'http://www.w3.org/2001/XMLSchema#decimal', 'type': 'literal', 'value': '11565204'}, 'totalCityPopulation': {'datatype': 'http://www.w3.org/2001/XMLSchema#decimal', 'type': 'literal', 'value': '171627'}, 'countryLabel': {'xml:lang': 'en', 'type': 'literal', 'value': 'Tunisia'}, 'ratio': {'datatype': 'http://www.w3.org/2001/XMLSchema#decimal', 'type': 'literal', 'value': '67.38569106259504623398'}}\n",
      "{'country': {'type': 'uri', 'value': 'http://www.wikidata.org/entity/Q172579'}, 'population': {'datatype': 'http://www.w3.org/2001/XMLSchema#decimal', 'type': 'literal', 'value': '22182000'}, 'totalCityPopulation': {'datatype': 'http://www.w3.org/2001/XMLSchema#decimal', 'type': 'literal', 'value': '303732'}, 'countryLabel': {'xml:lang': 'en', 'type': 'literal', 'value': 'Kingdom of Italy'}, 'ratio': {'datatype': 'http://www.w3.org/2001/XMLSchema#decimal', 'type': 'literal', 'value': '73.03148828572557386117'}}\n",
      "{'country': {'type': 'uri', 'value': 'http://www.wikidata.org/entity/Q39'}, 'population': {'datatype': 'http://www.w3.org/2001/XMLSchema#decimal', 'type': 'literal', 'value': '8466017'}, 'totalCityPopulation': {'datatype': 'http://www.w3.org/2001/XMLSchema#decimal', 'type': 'literal', 'value': '96345'}, 'countryLabel': {'xml:lang': 'en', 'type': 'literal', 'value': 'Switzerland'}, 'ratio': {'datatype': 'http://www.w3.org/2001/XMLSchema#decimal', 'type': 'literal', 'value': '87.87188748767450308786'}}\n",
      "{'country': {'type': 'uri', 'value': 'http://www.wikidata.org/entity/Q545205'}, 'population': {'datatype': 'http://www.w3.org/2001/XMLSchema#decimal', 'type': 'literal', 'value': '5861600'}, 'totalCityPopulation': {'datatype': 'http://www.w3.org/2001/XMLSchema#decimal', 'type': 'literal', 'value': '64441'}, 'countryLabel': {'xml:lang': 'en', 'type': 'literal', 'value': 'Transcaucasian Socialist Federative Soviet Republic'}, 'ratio': {'datatype': 'http://www.w3.org/2001/XMLSchema#decimal', 'type': 'literal', 'value': '90.96072376282180599308'}}\n",
      "{'country': {'type': 'uri', 'value': 'http://www.wikidata.org/entity/Q34266'}, 'population': {'datatype': 'http://www.w3.org/2001/XMLSchema#decimal', 'type': 'literal', 'value': '125640021'}, 'totalCityPopulation': {'datatype': 'http://www.w3.org/2001/XMLSchema#decimal', 'type': 'literal', 'value': '1237832'}, 'countryLabel': {'xml:lang': 'en', 'type': 'literal', 'value': 'Russian Empire'}, 'ratio': {'datatype': 'http://www.w3.org/2001/XMLSchema#decimal', 'type': 'literal', 'value': '101.50005897407725765694'}}\n",
      "{'country': {'type': 'uri', 'value': 'http://www.wikidata.org/entity/Q172579'}, 'population': {'datatype': 'http://www.w3.org/2001/XMLSchema#decimal', 'type': 'literal', 'value': '35845000'}, 'totalCityPopulation': {'datatype': 'http://www.w3.org/2001/XMLSchema#decimal', 'type': 'literal', 'value': '303732'}, 'countryLabel': {'xml:lang': 'en', 'type': 'literal', 'value': 'Kingdom of Italy'}, 'ratio': {'datatype': 'http://www.w3.org/2001/XMLSchema#decimal', 'type': 'literal', 'value': '118.01522394742733725785'}}\n",
      "{'country': {'type': 'uri', 'value': 'http://www.wikidata.org/entity/Q45'}, 'population': {'datatype': 'http://www.w3.org/2001/XMLSchema#decimal', 'type': 'literal', 'value': '10347892'}, 'totalCityPopulation': {'datatype': 'http://www.w3.org/2001/XMLSchema#decimal', 'type': 'literal', 'value': '83401'}, 'countryLabel': {'xml:lang': 'en', 'type': 'literal', 'value': 'Portugal'}, 'ratio': {'datatype': 'http://www.w3.org/2001/XMLSchema#decimal', 'type': 'literal', 'value': '124.07395594777041042673'}}\n",
      "{'country': {'type': 'uri', 'value': 'http://www.wikidata.org/entity/Q172107'}, 'population': {'datatype': 'http://www.w3.org/2001/XMLSchema#decimal', 'type': 'literal', 'value': '7500000'}, 'totalCityPopulation': {'datatype': 'http://www.w3.org/2001/XMLSchema#decimal', 'type': 'literal', 'value': '56988'}, 'countryLabel': {'xml:lang': 'en', 'type': 'literal', 'value': 'Polish–Lithuanian Commonwealth'}, 'ratio': {'datatype': 'http://www.w3.org/2001/XMLSchema#decimal', 'type': 'literal', 'value': '131.60665403242787955359'}}\n",
      "{'country': {'type': 'uri', 'value': 'http://www.wikidata.org/entity/Q964024'}, 'population': {'datatype': 'http://www.w3.org/2001/XMLSchema#decimal', 'type': 'literal', 'value': '2700000'}, 'totalCityPopulation': {'datatype': 'http://www.w3.org/2001/XMLSchema#decimal', 'type': 'literal', 'value': '20113'}, 'countryLabel': {'xml:lang': 'en', 'type': 'literal', 'value': 'Moldavian Democratic Republic'}, 'ratio': {'datatype': 'http://www.w3.org/2001/XMLSchema#decimal', 'type': 'literal', 'value': '134.24153532541142544623'}}\n",
      "{'country': {'type': 'uri', 'value': 'http://www.wikidata.org/entity/Q172579'}, 'population': {'datatype': 'http://www.w3.org/2001/XMLSchema#decimal', 'type': 'literal', 'value': '42399000'}, 'totalCityPopulation': {'datatype': 'http://www.w3.org/2001/XMLSchema#decimal', 'type': 'literal', 'value': '303732'}, 'countryLabel': {'xml:lang': 'en', 'type': 'literal', 'value': 'Kingdom of Italy'}, 'ratio': {'datatype': 'http://www.w3.org/2001/XMLSchema#decimal', 'type': 'literal', 'value': '139.59345739006755955908'}}\n",
      "{'country': {'type': 'uri', 'value': 'http://www.wikidata.org/entity/Q33296'}, 'population': {'datatype': 'http://www.w3.org/2001/XMLSchema#decimal', 'type': 'literal', 'value': '150000000'}, 'totalCityPopulation': {'datatype': 'http://www.w3.org/2001/XMLSchema#decimal', 'type': 'literal', 'value': '1069276'}, 'countryLabel': {'xml:lang': 'en', 'type': 'literal', 'value': 'Mughal Empire'}, 'ratio': {'datatype': 'http://www.w3.org/2001/XMLSchema#decimal', 'type': 'literal', 'value': '140.28183555976193237293'}}\n",
      "{'country': {'type': 'uri', 'value': 'http://www.wikidata.org/entity/Q34266'}, 'population': {'datatype': 'http://www.w3.org/2001/XMLSchema#decimal', 'type': 'literal', 'value': '178378800'}, 'totalCityPopulation': {'datatype': 'http://www.w3.org/2001/XMLSchema#decimal', 'type': 'literal', 'value': '1237832'}, 'countryLabel': {'xml:lang': 'en', 'type': 'literal', 'value': 'Russian Empire'}, 'ratio': {'datatype': 'http://www.w3.org/2001/XMLSchema#decimal', 'type': 'literal', 'value': '144.10582373052239722353'}}\n",
      "{'country': {'type': 'uri', 'value': 'http://www.wikidata.org/entity/Q34266'}, 'population': {'datatype': 'http://www.w3.org/2001/XMLSchema#decimal', 'type': 'literal', 'value': '181537800'}, 'totalCityPopulation': {'datatype': 'http://www.w3.org/2001/XMLSchema#decimal', 'type': 'literal', 'value': '1237832'}, 'countryLabel': {'xml:lang': 'en', 'type': 'literal', 'value': 'Russian Empire'}, 'ratio': {'datatype': 'http://www.w3.org/2001/XMLSchema#decimal', 'type': 'literal', 'value': '146.65786633404209941252'}}\n",
      "{'country': {'type': 'uri', 'value': 'http://www.wikidata.org/entity/Q159'}, 'population': {'datatype': 'http://www.w3.org/2001/XMLSchema#decimal', 'type': 'literal', 'value': '146804372'}, 'totalCityPopulation': {'datatype': 'http://www.w3.org/2001/XMLSchema#decimal', 'type': 'literal', 'value': '881686'}, 'countryLabel': {'xml:lang': 'en', 'type': 'literal', 'value': 'Russia'}, 'ratio': {'datatype': 'http://www.w3.org/2001/XMLSchema#decimal', 'type': 'literal', 'value': '166.5041431983722096075'}}\n",
      "{'country': {'type': 'uri', 'value': 'http://www.wikidata.org/entity/Q15180'}, 'population': {'datatype': 'http://www.w3.org/2001/XMLSchema#decimal', 'type': 'literal', 'value': '293047571'}, 'totalCityPopulation': {'datatype': 'http://www.w3.org/2001/XMLSchema#decimal', 'type': 'literal', 'value': '1568880'}, 'countryLabel': {'xml:lang': 'en', 'type': 'literal', 'value': 'Soviet Union'}, 'ratio': {'datatype': 'http://www.w3.org/2001/XMLSchema#decimal', 'type': 'literal', 'value': '186.78775368415685074703'}}\n",
      "{'country': {'type': 'uri', 'value': 'http://www.wikidata.org/entity/Q172107'}, 'population': {'datatype': 'http://www.w3.org/2001/XMLSchema#decimal', 'type': 'literal', 'value': '11000000'}, 'totalCityPopulation': {'datatype': 'http://www.w3.org/2001/XMLSchema#decimal', 'type': 'literal', 'value': '56988'}, 'countryLabel': {'xml:lang': 'en', 'type': 'literal', 'value': 'Polish–Lithuanian Commonwealth'}, 'ratio': {'datatype': 'http://www.w3.org/2001/XMLSchema#decimal', 'type': 'literal', 'value': '193.02309258089422334527'}}\n",
      "{'country': {'type': 'uri', 'value': 'http://www.wikidata.org/entity/Q12548'}, 'population': {'datatype': 'http://www.w3.org/2001/XMLSchema#decimal', 'type': 'literal', 'value': '26265000'}, 'totalCityPopulation': {'datatype': 'http://www.w3.org/2001/XMLSchema#decimal', 'type': 'literal', 'value': '126405'}, 'countryLabel': {'xml:lang': 'en', 'type': 'literal', 'value': 'Holy Roman Empire'}, 'ratio': {'datatype': 'http://www.w3.org/2001/XMLSchema#decimal', 'type': 'literal', 'value': '207.78450219532455203513'}}\n",
      "{'country': {'type': 'uri', 'value': 'http://www.wikidata.org/entity/Q172107'}, 'population': {'datatype': 'http://www.w3.org/2001/XMLSchema#decimal', 'type': 'literal', 'value': '12300000'}, 'totalCityPopulation': {'datatype': 'http://www.w3.org/2001/XMLSchema#decimal', 'type': 'literal', 'value': '56988'}, 'countryLabel': {'xml:lang': 'en', 'type': 'literal', 'value': 'Polish–Lithuanian Commonwealth'}, 'ratio': {'datatype': 'http://www.w3.org/2001/XMLSchema#decimal', 'type': 'literal', 'value': '215.83491261318172246789'}}\n",
      "{'country': {'type': 'uri', 'value': 'http://www.wikidata.org/entity/Q407199'}, 'population': {'datatype': 'http://www.w3.org/2001/XMLSchema#decimal', 'type': 'literal', 'value': '4550000'}, 'totalCityPopulation': {'datatype': 'http://www.w3.org/2001/XMLSchema#decimal', 'type': 'literal', 'value': '19197'}, 'countryLabel': {'xml:lang': 'en', 'type': 'literal', 'value': 'Palestinian territories'}, 'ratio': {'datatype': 'http://www.w3.org/2001/XMLSchema#decimal', 'type': 'literal', 'value': '237.01620044798666458301'}}\n",
      "{'country': {'type': 'uri', 'value': 'http://www.wikidata.org/entity/Q12544'}, 'population': {'datatype': 'http://www.w3.org/2001/XMLSchema#decimal', 'type': 'literal', 'value': '17000000'}, 'totalCityPopulation': {'datatype': 'http://www.w3.org/2001/XMLSchema#decimal', 'type': 'literal', 'value': '64441'}, 'countryLabel': {'xml:lang': 'en', 'type': 'literal', 'value': 'Byzantine Empire'}, 'ratio': {'datatype': 'http://www.w3.org/2001/XMLSchema#decimal', 'type': 'literal', 'value': '263.80720348846231436508'}}\n",
      "{'country': {'type': 'uri', 'value': 'http://www.wikidata.org/entity/Q28513'}, 'population': {'datatype': 'http://www.w3.org/2001/XMLSchema#decimal', 'type': 'literal', 'value': '39386934'}, 'totalCityPopulation': {'datatype': 'http://www.w3.org/2001/XMLSchema#decimal', 'type': 'literal', 'value': '110979'}, 'countryLabel': {'xml:lang': 'en', 'type': 'literal', 'value': 'Austria-Hungary'}, 'ratio': {'datatype': 'http://www.w3.org/2001/XMLSchema#decimal', 'type': 'literal', 'value': '354.90438731651934149704'}}\n",
      "{'country': {'type': 'uri', 'value': 'http://www.wikidata.org/entity/Q962'}, 'population': {'datatype': 'http://www.w3.org/2001/XMLSchema#decimal', 'type': 'literal', 'value': '11175692'}, 'totalCityPopulation': {'datatype': 'http://www.w3.org/2001/XMLSchema#decimal', 'type': 'literal', 'value': '31444'}, 'countryLabel': {'xml:lang': 'en', 'type': 'literal', 'value': 'Benin'}, 'ratio': {'datatype': 'http://www.w3.org/2001/XMLSchema#decimal', 'type': 'literal', 'value': '355.41572319043378704999'}}\n",
      "{'country': {'type': 'uri', 'value': 'http://www.wikidata.org/entity/Q1508143'}, 'population': {'datatype': 'http://www.w3.org/2001/XMLSchema#decimal', 'type': 'literal', 'value': '25000000'}, 'totalCityPopulation': {'datatype': 'http://www.w3.org/2001/XMLSchema#decimal', 'type': 'literal', 'value': '56988'}, 'countryLabel': {'xml:lang': 'en', 'type': 'literal', 'value': 'Ukrainian State'}, 'ratio': {'datatype': 'http://www.w3.org/2001/XMLSchema#decimal', 'type': 'literal', 'value': '438.68884677475959851197'}}\n",
      "{'country': {'type': 'uri', 'value': 'http://www.wikidata.org/entity/Q28513'}, 'population': {'datatype': 'http://www.w3.org/2001/XMLSchema#decimal', 'type': 'literal', 'value': '51356465'}, 'totalCityPopulation': {'datatype': 'http://www.w3.org/2001/XMLSchema#decimal', 'type': 'literal', 'value': '110979'}, 'countryLabel': {'xml:lang': 'en', 'type': 'literal', 'value': 'Austria-Hungary'}, 'ratio': {'datatype': 'http://www.w3.org/2001/XMLSchema#decimal', 'type': 'literal', 'value': '462.75840474323971201759'}}\n",
      "{'country': {'type': 'uri', 'value': 'http://www.wikidata.org/entity/Q41304'}, 'population': {'datatype': 'http://www.w3.org/2001/XMLSchema#decimal', 'type': 'literal', 'value': '62411000'}, 'totalCityPopulation': {'datatype': 'http://www.w3.org/2001/XMLSchema#decimal', 'type': 'literal', 'value': '134146'}, 'countryLabel': {'xml:lang': 'en', 'type': 'literal', 'value': 'Weimar Republic'}, 'ratio': {'datatype': 'http://www.w3.org/2001/XMLSchema#decimal', 'type': 'literal', 'value': '465.24682062827069014357'}}\n",
      "{'country': {'type': 'uri', 'value': 'http://www.wikidata.org/entity/Q28513'}, 'population': {'datatype': 'http://www.w3.org/2001/XMLSchema#decimal', 'type': 'literal', 'value': '52800000'}, 'totalCityPopulation': {'datatype': 'http://www.w3.org/2001/XMLSchema#decimal', 'type': 'literal', 'value': '110979'}, 'countryLabel': {'xml:lang': 'en', 'type': 'literal', 'value': 'Austria-Hungary'}, 'ratio': {'datatype': 'http://www.w3.org/2001/XMLSchema#decimal', 'type': 'literal', 'value': '475.76568539994052928933'}}\n",
      "{'country': {'type': 'uri', 'value': 'http://www.wikidata.org/entity/Q41304'}, 'population': {'datatype': 'http://www.w3.org/2001/XMLSchema#decimal', 'type': 'literal', 'value': '66027000'}, 'totalCityPopulation': {'datatype': 'http://www.w3.org/2001/XMLSchema#decimal', 'type': 'literal', 'value': '134146'}, 'countryLabel': {'xml:lang': 'en', 'type': 'literal', 'value': 'Weimar Republic'}, 'ratio': {'datatype': 'http://www.w3.org/2001/XMLSchema#decimal', 'type': 'literal', 'value': '492.20252560642881636426'}}\n",
      "{'country': {'type': 'uri', 'value': 'http://www.wikidata.org/entity/Q212'}, 'population': {'datatype': 'http://www.w3.org/2001/XMLSchema#decimal', 'type': 'literal', 'value': '41588354'}, 'totalCityPopulation': {'datatype': 'http://www.w3.org/2001/XMLSchema#decimal', 'type': 'literal', 'value': '78094'}, 'countryLabel': {'xml:lang': 'en', 'type': 'literal', 'value': 'Ukraine'}, 'ratio': {'datatype': 'http://www.w3.org/2001/XMLSchema#decimal', 'type': 'literal', 'value': '532.54224396240428201911'}}\n",
      "{'country': {'type': 'uri', 'value': 'http://www.wikidata.org/entity/Q7318'}, 'population': {'datatype': 'http://www.w3.org/2001/XMLSchema#decimal', 'type': 'literal', 'value': '109518183'}, 'totalCityPopulation': {'datatype': 'http://www.w3.org/2001/XMLSchema#decimal', 'type': 'literal', 'value': '134146'}, 'countryLabel': {'xml:lang': 'en', 'type': 'literal', 'value': 'Nazi Germany'}, 'ratio': {'datatype': 'http://www.w3.org/2001/XMLSchema#decimal', 'type': 'literal', 'value': '816.41035140816722078929'}}\n",
      "{'country': {'type': 'uri', 'value': 'http://www.wikidata.org/entity/Q133356'}, 'population': {'datatype': 'http://www.w3.org/2001/XMLSchema#decimal', 'type': 'literal', 'value': '51706746'}, 'totalCityPopulation': {'datatype': 'http://www.w3.org/2001/XMLSchema#decimal', 'type': 'literal', 'value': '56988'}, 'countryLabel': {'xml:lang': 'en', 'type': 'literal', 'value': 'Ukrainian Soviet Socialist Republic'}, 'ratio': {'datatype': 'http://www.w3.org/2001/XMLSchema#decimal', 'type': 'literal', 'value': '907.32691092861655085281'}}\n",
      "{'country': {'type': 'uri', 'value': 'http://www.wikidata.org/entity/Q794'}, 'population': {'datatype': 'http://www.w3.org/2001/XMLSchema#decimal', 'type': 'literal', 'value': '79966230'}, 'totalCityPopulation': {'datatype': 'http://www.w3.org/2001/XMLSchema#decimal', 'type': 'literal', 'value': '54178'}, 'countryLabel': {'xml:lang': 'en', 'type': 'literal', 'value': 'Iran'}, 'ratio': {'datatype': 'http://www.w3.org/2001/XMLSchema#decimal', 'type': 'literal', 'value': '1475.9908080770792572631'}}\n",
      "{'country': {'type': 'uri', 'value': 'http://www.wikidata.org/entity/Q928'}, 'population': {'datatype': 'http://www.w3.org/2001/XMLSchema#decimal', 'type': 'literal', 'value': '109035343'}, 'totalCityPopulation': {'datatype': 'http://www.w3.org/2001/XMLSchema#decimal', 'type': 'literal', 'value': '61432'}, 'countryLabel': {'xml:lang': 'en', 'type': 'literal', 'value': 'Philippines'}, 'ratio': {'datatype': 'http://www.w3.org/2001/XMLSchema#decimal', 'type': 'literal', 'value': '1774.89489191300950644615'}}\n",
      "{'country': {'type': 'uri', 'value': 'http://www.wikidata.org/entity/Q80702'}, 'population': {'datatype': 'http://www.w3.org/2001/XMLSchema#decimal', 'type': 'literal', 'value': '60000000'}, 'totalCityPopulation': {'datatype': 'http://www.w3.org/2001/XMLSchema#decimal', 'type': 'literal', 'value': '121.793'}, 'countryLabel': {'xml:lang': 'en', 'type': 'literal', 'value': 'Spanish Empire'}, 'ratio': {'datatype': 'http://www.w3.org/2001/XMLSchema#decimal', 'type': 'literal', 'value': '492639.15003325314262724459'}}\n"
     ]
    }
   ],
   "source": [
    "sparql = SPARQLWrapper(\"https://query.wikidata.org/sparql\")\n",
    "sparql.setQuery(\"\"\"\n",
    "    PREFIX bd: <http://www.bigdata.com/rdf#>\n",
    "PREFIX wd: <http://www.wikidata.org/entity/>\n",
    "PREFIX wdt: <http://www.wikidata.org/prop/direct/>\n",
    "PREFIX wikibase: <http://wikiba.se/ontology#>\n",
    "\n",
    "SELECT ?country ?countryLabel ?population ?totalCityPopulation (?population / ?totalCityPopulation AS ?ratio) {\n",
    "  ?country wdt:P1082 ?population .\n",
    "  SERVICE wikibase:label { bd:serviceParam wikibase:language \"en\" }\n",
    "  {\n",
    "    SELECT ?country (SUM(?cityPopulation) AS ?totalCityPopulation) WHERE {\n",
    "      ?city wdt:P31 wd:Q515 .\n",
    "      ?city wdt:P17 ?country .\n",
    "      ?city wdt:P1082 ?cityPopulation .\n",
    "    } GROUP BY ?country\n",
    "  }\n",
    "} ORDER BY ?ratio\"\"\")\n",
    "sparql.setReturnFormat(JSON)\n",
    "results = sparql.query().convert()\n",
    "\n",
    "for result in results[\"results\"][\"bindings\"]:\n",
    "    print(result)"
   ]
  },
  {
   "cell_type": "markdown",
   "id": "bcc3c2e2-5aa3-4fb3-8bec-8b719ae83138",
   "metadata": {},
   "source": [
    "# 3 ways to move forward:"
   ]
  },
  {
   "cell_type": "markdown",
   "id": "c49769ed-687d-4bd9-b72e-65107e6b786a",
   "metadata": {},
   "source": [
    "* make sparql queries to get table of USA cities with their populations\n",
    "* analize DOT data and population data, why they do not match\n",
    "* try to query google and take population data from google results"
   ]
  },
  {
   "cell_type": "markdown",
   "id": "286fd748-7c49-4a9f-8d2b-b24df2d6e859",
   "metadata": {},
   "source": [
    "## why DOT data doesn't match population data?"
   ]
  },
  {
   "cell_type": "code",
   "execution_count": 351,
   "id": "438897d3-b9fa-45ec-b59e-d56383fdaa7e",
   "metadata": {},
   "outputs": [
    {
     "data": {
      "text/html": [
       "<div>\n",
       "<style scoped>\n",
       "    .dataframe tbody tr th:only-of-type {\n",
       "        vertical-align: middle;\n",
       "    }\n",
       "\n",
       "    .dataframe tbody tr th {\n",
       "        vertical-align: top;\n",
       "    }\n",
       "\n",
       "    .dataframe thead th {\n",
       "        text-align: right;\n",
       "    }\n",
       "</style>\n",
       "<table border=\"1\" class=\"dataframe\">\n",
       "  <thead>\n",
       "    <tr style=\"text-align: right;\">\n",
       "      <th></th>\n",
       "      <th>Country or Area</th>\n",
       "      <th>Year</th>\n",
       "      <th>Area</th>\n",
       "      <th>Sex</th>\n",
       "      <th>City</th>\n",
       "      <th>City type</th>\n",
       "      <th>Record Type</th>\n",
       "      <th>Reliability</th>\n",
       "      <th>Source Year</th>\n",
       "      <th>Value</th>\n",
       "      <th>Value Footnotes</th>\n",
       "    </tr>\n",
       "  </thead>\n",
       "  <tbody>\n",
       "    <tr>\n",
       "      <th>0</th>\n",
       "      <td>Åland Islands</td>\n",
       "      <td>2020</td>\n",
       "      <td>Total</td>\n",
       "      <td>Both Sexes</td>\n",
       "      <td>MARIEHAMN</td>\n",
       "      <td>City proper</td>\n",
       "      <td>Estimate - de jure</td>\n",
       "      <td>Final figure, complete</td>\n",
       "      <td>2021.0</td>\n",
       "      <td>11692.0</td>\n",
       "      <td>1</td>\n",
       "    </tr>\n",
       "    <tr>\n",
       "      <th>1</th>\n",
       "      <td>Åland Islands</td>\n",
       "      <td>2020</td>\n",
       "      <td>Total</td>\n",
       "      <td>Male</td>\n",
       "      <td>MARIEHAMN</td>\n",
       "      <td>City proper</td>\n",
       "      <td>Estimate - de jure</td>\n",
       "      <td>Final figure, complete</td>\n",
       "      <td>2021.0</td>\n",
       "      <td>5599.5</td>\n",
       "      <td>1</td>\n",
       "    </tr>\n",
       "  </tbody>\n",
       "</table>\n",
       "</div>"
      ],
      "text/plain": [
       "  Country or Area  Year   Area         Sex       City    City type  \\\n",
       "0   Åland Islands  2020  Total  Both Sexes  MARIEHAMN  City proper   \n",
       "1   Åland Islands  2020  Total        Male  MARIEHAMN  City proper   \n",
       "\n",
       "          Record Type             Reliability  Source Year    Value  \\\n",
       "0  Estimate - de jure  Final figure, complete       2021.0  11692.0   \n",
       "1  Estimate - de jure  Final figure, complete       2021.0   5599.5   \n",
       "\n",
       "  Value Footnotes  \n",
       "0               1  \n",
       "1               1  "
      ]
     },
     "execution_count": 351,
     "metadata": {},
     "output_type": "execute_result"
    }
   ],
   "source": [
    "df_population.head(2)"
   ]
  },
  {
   "cell_type": "code",
   "execution_count": 352,
   "id": "efa2737e-0230-4cd6-847c-127db620d952",
   "metadata": {},
   "outputs": [],
   "source": [
    "df_usa_population = df_population.query('`Country or Area` == \"United States of America\"')"
   ]
  },
  {
   "cell_type": "code",
   "execution_count": 353,
   "id": "a047b77c-8225-4ac9-b2e2-39f19dc8ad26",
   "metadata": {},
   "outputs": [
    {
     "data": {
      "text/plain": [
       "(4275, 11)"
      ]
     },
     "execution_count": 353,
     "metadata": {},
     "output_type": "execute_result"
    }
   ],
   "source": [
    "df_usa_population.shape"
   ]
  },
  {
   "cell_type": "code",
   "execution_count": 354,
   "id": "efff79cd-5360-42aa-8f10-8169018be141",
   "metadata": {},
   "outputs": [],
   "source": [
    "df_usa_population_cities = df_usa_population[\"City\"].drop_duplicates()"
   ]
  },
  {
   "cell_type": "markdown",
   "id": "f307144c-5f08-479e-9540-d898f9bdbf37",
   "metadata": {},
   "source": [
    "### Check coverage for DOT cities"
   ]
  },
  {
   "cell_type": "code",
   "execution_count": 355,
   "id": "27ae439d-ddd3-425b-8153-b34f7896660a",
   "metadata": {},
   "outputs": [
    {
     "data": {
      "text/plain": [
       "0    St. Louis, MO\n",
       "1    Allakaket, AK\n",
       "Name: ORIGIN_CITY_NAME, dtype: object"
      ]
     },
     "execution_count": 355,
     "metadata": {},
     "output_type": "execute_result"
    }
   ],
   "source": [
    "df_city_names.head(2)"
   ]
  },
  {
   "cell_type": "code",
   "execution_count": 356,
   "id": "35071bab-b76d-40ba-bc64-7bcd7c024e36",
   "metadata": {
    "tags": []
   },
   "outputs": [],
   "source": [
    "lst_dot_cities = df_city_names.to_list()"
   ]
  },
  {
   "cell_type": "code",
   "execution_count": 357,
   "id": "732ea200-e1a1-4a7c-be48-bc2bfec295a9",
   "metadata": {},
   "outputs": [
    {
     "data": {
      "text/plain": [
       "62313    Abilene (TX)\n",
       "62314      Akron (OH)\n",
       "Name: City, dtype: object"
      ]
     },
     "execution_count": 357,
     "metadata": {},
     "output_type": "execute_result"
    }
   ],
   "source": [
    "df_usa_population_cities.head(2)"
   ]
  },
  {
   "cell_type": "code",
   "execution_count": 358,
   "id": "16d45757-08a7-47a2-b2fe-1af808eb544d",
   "metadata": {},
   "outputs": [],
   "source": [
    "lst_population_cities = df_usa_population_cities.to_list()"
   ]
  },
  {
   "cell_type": "code",
   "execution_count": 359,
   "id": "f6814123-dbd1-4b3d-b5c3-4a09c6539861",
   "metadata": {},
   "outputs": [
    {
     "data": {
      "text/plain": [
       "'Abilene (TX)'"
      ]
     },
     "execution_count": 359,
     "metadata": {},
     "output_type": "execute_result"
    }
   ],
   "source": [
    "lst_population_cities[0]"
   ]
  },
  {
   "cell_type": "code",
   "execution_count": 360,
   "id": "d61e7787-3749-4c09-a1bf-b754d66f0969",
   "metadata": {},
   "outputs": [
    {
     "data": {
      "text/plain": [
       "'St. Louis, MO'"
      ]
     },
     "execution_count": 360,
     "metadata": {},
     "output_type": "execute_result"
    }
   ],
   "source": [
    "lst_dot_cities[0]"
   ]
  },
  {
   "cell_type": "markdown",
   "id": "134ec73b-8e3b-4d13-96f5-b37611980ba3",
   "metadata": {},
   "source": [
    "## try to match"
   ]
  },
  {
   "cell_type": "code",
   "execution_count": 361,
   "id": "3591dfc1-a9b0-462a-8e68-70b15cc5727b",
   "metadata": {},
   "outputs": [
    {
     "data": {
      "text/plain": [
       "('Abilene', 'TX')"
      ]
     },
     "execution_count": 361,
     "metadata": {},
     "output_type": "execute_result"
    }
   ],
   "source": [
    "sre = r\"([^(]*) \\((.*)\\)\"\n",
    "t = re.compile(sre)  # \\([~\\(]\\)*\\((.*)\\)\n",
    "g = t.match(lst_population_cities[0])\n",
    "g.groups()"
   ]
  },
  {
   "cell_type": "code",
   "execution_count": 362,
   "id": "efdea251-bcd4-435a-abbd-fa315437ac55",
   "metadata": {},
   "outputs": [
    {
     "data": {
      "text/plain": [
       "'TX'"
      ]
     },
     "execution_count": 362,
     "metadata": {},
     "output_type": "execute_result"
    }
   ],
   "source": [
    "g[2]"
   ]
  },
  {
   "cell_type": "code",
   "execution_count": 363,
   "id": "b73a80fa-adc9-4177-bd7d-3135b4b4e82c",
   "metadata": {},
   "outputs": [],
   "source": [
    "def comma_sep(m):\n",
    "    return f\"{m[1]}, {m[2]}\""
   ]
  },
  {
   "cell_type": "code",
   "execution_count": 364,
   "id": "313701f3-6a25-4a1c-b081-e51b2c1d95fc",
   "metadata": {},
   "outputs": [
    {
     "data": {
      "text/plain": [
       "62313        Abilene, TX\n",
       "62314          Akron, OH\n",
       "62315    Albuquerque, NM\n",
       "62316     Alexandria, VA\n",
       "62317          Allen, TX\n",
       "              ...       \n",
       "62937          Vista, CA\n",
       "63331           Erie, PA\n",
       "64855     Portsmouth, VA\n",
       "65582           Gary, IN\n",
       "65639        Livonia, MI\n",
       "Name: City, Length: 344, dtype: object"
      ]
     },
     "execution_count": 364,
     "metadata": {},
     "output_type": "execute_result"
    }
   ],
   "source": [
    "df_usa_population_cities.str.replace(pat=t, repl=comma_sep)"
   ]
  },
  {
   "cell_type": "code",
   "execution_count": 365,
   "id": "91bf1507-c0a2-479c-bf96-420212e9431c",
   "metadata": {},
   "outputs": [
    {
     "data": {
      "text/html": [
       "<div>\n",
       "<style scoped>\n",
       "    .dataframe tbody tr th:only-of-type {\n",
       "        vertical-align: middle;\n",
       "    }\n",
       "\n",
       "    .dataframe tbody tr th {\n",
       "        vertical-align: top;\n",
       "    }\n",
       "\n",
       "    .dataframe thead th {\n",
       "        text-align: right;\n",
       "    }\n",
       "</style>\n",
       "<table border=\"1\" class=\"dataframe\">\n",
       "  <thead>\n",
       "    <tr style=\"text-align: right;\">\n",
       "      <th></th>\n",
       "      <th>Country or Area</th>\n",
       "      <th>Year</th>\n",
       "      <th>Area</th>\n",
       "      <th>Sex</th>\n",
       "      <th>City</th>\n",
       "      <th>City type</th>\n",
       "      <th>Record Type</th>\n",
       "      <th>Reliability</th>\n",
       "      <th>Source Year</th>\n",
       "      <th>Value</th>\n",
       "      <th>Value Footnotes</th>\n",
       "    </tr>\n",
       "  </thead>\n",
       "  <tbody>\n",
       "    <tr>\n",
       "      <th>62313</th>\n",
       "      <td>United States of America</td>\n",
       "      <td>2020</td>\n",
       "      <td>Total</td>\n",
       "      <td>Both Sexes</td>\n",
       "      <td>Abilene (TX)</td>\n",
       "      <td>City proper</td>\n",
       "      <td>Census - de jure - complete tabulation</td>\n",
       "      <td>Final figure, complete</td>\n",
       "      <td>2021.0</td>\n",
       "      <td>125182.0</td>\n",
       "      <td>NaN</td>\n",
       "    </tr>\n",
       "    <tr>\n",
       "      <th>62314</th>\n",
       "      <td>United States of America</td>\n",
       "      <td>2020</td>\n",
       "      <td>Total</td>\n",
       "      <td>Both Sexes</td>\n",
       "      <td>Akron (OH)</td>\n",
       "      <td>City proper</td>\n",
       "      <td>Census - de jure - complete tabulation</td>\n",
       "      <td>Final figure, complete</td>\n",
       "      <td>2021.0</td>\n",
       "      <td>190469.0</td>\n",
       "      <td>NaN</td>\n",
       "    </tr>\n",
       "  </tbody>\n",
       "</table>\n",
       "</div>"
      ],
      "text/plain": [
       "                Country or Area  Year   Area         Sex          City  \\\n",
       "62313  United States of America  2020  Total  Both Sexes  Abilene (TX)   \n",
       "62314  United States of America  2020  Total  Both Sexes    Akron (OH)   \n",
       "\n",
       "         City type                             Record Type  \\\n",
       "62313  City proper  Census - de jure - complete tabulation   \n",
       "62314  City proper  Census - de jure - complete tabulation   \n",
       "\n",
       "                  Reliability  Source Year     Value Value Footnotes  \n",
       "62313  Final figure, complete       2021.0  125182.0             NaN  \n",
       "62314  Final figure, complete       2021.0  190469.0             NaN  "
      ]
     },
     "execution_count": 365,
     "metadata": {},
     "output_type": "execute_result"
    }
   ],
   "source": [
    "df_usa_population.head(2)"
   ]
  },
  {
   "cell_type": "code",
   "execution_count": 366,
   "id": "50eb9fa2-763f-406f-b036-743e1afd52e6",
   "metadata": {},
   "outputs": [],
   "source": [
    "df_usa_population = df_usa_population.assign(comma_city=df_usa_population[\"City\"].str.replace(pat=t, repl=comma_sep))"
   ]
  },
  {
   "cell_type": "code",
   "execution_count": 367,
   "id": "876fb8b8-43cd-47df-acaa-0945fa2176e4",
   "metadata": {},
   "outputs": [
    {
     "data": {
      "text/plain": [
       "(4275, 12)"
      ]
     },
     "execution_count": 367,
     "metadata": {},
     "output_type": "execute_result"
    }
   ],
   "source": [
    "df_usa_population.shape"
   ]
  },
  {
   "cell_type": "code",
   "execution_count": 368,
   "id": "066c53ed-51f0-4d3f-b158-fa79e2f2c24c",
   "metadata": {},
   "outputs": [
    {
     "data": {
      "text/plain": [
       "(344,)"
      ]
     },
     "execution_count": 368,
     "metadata": {},
     "output_type": "execute_result"
    }
   ],
   "source": [
    "df_usa_population[\"comma_city\"].drop_duplicates().shape"
   ]
  },
  {
   "cell_type": "code",
   "execution_count": 369,
   "id": "ffc06b79-4f48-44df-871a-a0849b40453d",
   "metadata": {},
   "outputs": [
    {
     "data": {
      "text/plain": [
       "62313    Abilene, TX\n",
       "62314      Akron, OH\n",
       "Name: comma_city, dtype: object"
      ]
     },
     "execution_count": 369,
     "metadata": {},
     "output_type": "execute_result"
    }
   ],
   "source": [
    "df_usa_population[\"comma_city\"].drop_duplicates().head(2)"
   ]
  },
  {
   "cell_type": "code",
   "execution_count": 370,
   "id": "96d3fcfa-cd67-4758-aea4-1187d9a4eb38",
   "metadata": {},
   "outputs": [
    {
     "data": {
      "text/html": [
       "<div>\n",
       "<style scoped>\n",
       "    .dataframe tbody tr th:only-of-type {\n",
       "        vertical-align: middle;\n",
       "    }\n",
       "\n",
       "    .dataframe tbody tr th {\n",
       "        vertical-align: top;\n",
       "    }\n",
       "\n",
       "    .dataframe thead th {\n",
       "        text-align: right;\n",
       "    }\n",
       "</style>\n",
       "<table border=\"1\" class=\"dataframe\">\n",
       "  <thead>\n",
       "    <tr style=\"text-align: right;\">\n",
       "      <th></th>\n",
       "      <th>Country or Area</th>\n",
       "      <th>Year</th>\n",
       "      <th>Area</th>\n",
       "      <th>Sex</th>\n",
       "      <th>City</th>\n",
       "      <th>City type</th>\n",
       "      <th>Record Type</th>\n",
       "      <th>Reliability</th>\n",
       "      <th>Source Year</th>\n",
       "      <th>Value</th>\n",
       "      <th>Value Footnotes</th>\n",
       "      <th>comma_city</th>\n",
       "    </tr>\n",
       "  </thead>\n",
       "  <tbody>\n",
       "    <tr>\n",
       "      <th>62313</th>\n",
       "      <td>United States of America</td>\n",
       "      <td>2020</td>\n",
       "      <td>Total</td>\n",
       "      <td>Both Sexes</td>\n",
       "      <td>Abilene (TX)</td>\n",
       "      <td>City proper</td>\n",
       "      <td>Census - de jure - complete tabulation</td>\n",
       "      <td>Final figure, complete</td>\n",
       "      <td>2021.0</td>\n",
       "      <td>125182.0</td>\n",
       "      <td>NaN</td>\n",
       "      <td>Abilene, TX</td>\n",
       "    </tr>\n",
       "    <tr>\n",
       "      <th>62650</th>\n",
       "      <td>United States of America</td>\n",
       "      <td>2016</td>\n",
       "      <td>Total</td>\n",
       "      <td>Both Sexes</td>\n",
       "      <td>Abilene (TX)</td>\n",
       "      <td>City proper</td>\n",
       "      <td>Estimate - de jure</td>\n",
       "      <td>Final figure, complete</td>\n",
       "      <td>2017.0</td>\n",
       "      <td>122225.0</td>\n",
       "      <td>193,194</td>\n",
       "      <td>Abilene, TX</td>\n",
       "    </tr>\n",
       "    <tr>\n",
       "      <th>62953</th>\n",
       "      <td>United States of America</td>\n",
       "      <td>2015</td>\n",
       "      <td>Total</td>\n",
       "      <td>Both Sexes</td>\n",
       "      <td>Abilene (TX)</td>\n",
       "      <td>City proper</td>\n",
       "      <td>Estimate - de jure</td>\n",
       "      <td>Final figure, complete</td>\n",
       "      <td>2016.0</td>\n",
       "      <td>121721.0</td>\n",
       "      <td>193,194</td>\n",
       "      <td>Abilene, TX</td>\n",
       "    </tr>\n",
       "    <tr>\n",
       "      <th>63255</th>\n",
       "      <td>United States of America</td>\n",
       "      <td>2012</td>\n",
       "      <td>Total</td>\n",
       "      <td>Both Sexes</td>\n",
       "      <td>Abilene (TX)</td>\n",
       "      <td>City proper</td>\n",
       "      <td>Estimate - de jure</td>\n",
       "      <td>Final figure, complete</td>\n",
       "      <td>2014.0</td>\n",
       "      <td>118887.0</td>\n",
       "      <td>193,194</td>\n",
       "      <td>Abilene, TX</td>\n",
       "    </tr>\n",
       "    <tr>\n",
       "      <th>63539</th>\n",
       "      <td>United States of America</td>\n",
       "      <td>2010</td>\n",
       "      <td>Total</td>\n",
       "      <td>Both Sexes</td>\n",
       "      <td>Abilene (TX)</td>\n",
       "      <td>City proper</td>\n",
       "      <td>Census - de jure - complete tabulation</td>\n",
       "      <td>Final figure, complete</td>\n",
       "      <td>2013.0</td>\n",
       "      <td>117063.0</td>\n",
       "      <td>194,195</td>\n",
       "      <td>Abilene, TX</td>\n",
       "    </tr>\n",
       "    <tr>\n",
       "      <th>63821</th>\n",
       "      <td>United States of America</td>\n",
       "      <td>2010</td>\n",
       "      <td>Total</td>\n",
       "      <td>Male</td>\n",
       "      <td>Abilene (TX)</td>\n",
       "      <td>City proper</td>\n",
       "      <td>Census - de jure - complete tabulation</td>\n",
       "      <td>Final figure, complete</td>\n",
       "      <td>2013.0</td>\n",
       "      <td>59107.0</td>\n",
       "      <td>194,195</td>\n",
       "      <td>Abilene, TX</td>\n",
       "    </tr>\n",
       "    <tr>\n",
       "      <th>64103</th>\n",
       "      <td>United States of America</td>\n",
       "      <td>2010</td>\n",
       "      <td>Total</td>\n",
       "      <td>Female</td>\n",
       "      <td>Abilene (TX)</td>\n",
       "      <td>City proper</td>\n",
       "      <td>Census - de jure - complete tabulation</td>\n",
       "      <td>Final figure, complete</td>\n",
       "      <td>2013.0</td>\n",
       "      <td>57956.0</td>\n",
       "      <td>194,195</td>\n",
       "      <td>Abilene, TX</td>\n",
       "    </tr>\n",
       "    <tr>\n",
       "      <th>64385</th>\n",
       "      <td>United States of America</td>\n",
       "      <td>2009</td>\n",
       "      <td>Total</td>\n",
       "      <td>Both Sexes</td>\n",
       "      <td>Abilene (TX)</td>\n",
       "      <td>City proper</td>\n",
       "      <td>Estimate - de jure</td>\n",
       "      <td>Final figure, complete</td>\n",
       "      <td>2011.0</td>\n",
       "      <td>117180.0</td>\n",
       "      <td>194,195</td>\n",
       "      <td>Abilene, TX</td>\n",
       "    </tr>\n",
       "    <tr>\n",
       "      <th>64661</th>\n",
       "      <td>United States of America</td>\n",
       "      <td>2008</td>\n",
       "      <td>Total</td>\n",
       "      <td>Both Sexes</td>\n",
       "      <td>Abilene (TX)</td>\n",
       "      <td>City proper</td>\n",
       "      <td>Estimate - de jure</td>\n",
       "      <td>Final figure, complete</td>\n",
       "      <td>2009.0</td>\n",
       "      <td>116484.0</td>\n",
       "      <td>194,195</td>\n",
       "      <td>Abilene, TX</td>\n",
       "    </tr>\n",
       "    <tr>\n",
       "      <th>64934</th>\n",
       "      <td>United States of America</td>\n",
       "      <td>2007</td>\n",
       "      <td>Total</td>\n",
       "      <td>Both Sexes</td>\n",
       "      <td>Abilene (TX)</td>\n",
       "      <td>City proper</td>\n",
       "      <td>Estimate - de jure</td>\n",
       "      <td>Final figure, complete</td>\n",
       "      <td>2008.0</td>\n",
       "      <td>116219.0</td>\n",
       "      <td>194,195</td>\n",
       "      <td>Abilene, TX</td>\n",
       "    </tr>\n",
       "    <tr>\n",
       "      <th>65196</th>\n",
       "      <td>United States of America</td>\n",
       "      <td>2005</td>\n",
       "      <td>Total</td>\n",
       "      <td>Both Sexes</td>\n",
       "      <td>Abilene (TX)</td>\n",
       "      <td>City proper</td>\n",
       "      <td>Estimate - de jure</td>\n",
       "      <td>Final figure, complete</td>\n",
       "      <td>2005.0</td>\n",
       "      <td>114757.0</td>\n",
       "      <td>194,195</td>\n",
       "      <td>Abilene, TX</td>\n",
       "    </tr>\n",
       "    <tr>\n",
       "      <th>65450</th>\n",
       "      <td>United States of America</td>\n",
       "      <td>2000</td>\n",
       "      <td>Total</td>\n",
       "      <td>Both Sexes</td>\n",
       "      <td>Abilene (TX)</td>\n",
       "      <td>City proper</td>\n",
       "      <td>Census - de jure - complete tabulation</td>\n",
       "      <td>Final figure, complete</td>\n",
       "      <td>2002.0</td>\n",
       "      <td>115930.0</td>\n",
       "      <td>194,195</td>\n",
       "      <td>Abilene, TX</td>\n",
       "    </tr>\n",
       "    <tr>\n",
       "      <th>65832</th>\n",
       "      <td>United States of America</td>\n",
       "      <td>2000</td>\n",
       "      <td>Total</td>\n",
       "      <td>Male</td>\n",
       "      <td>Abilene (TX)</td>\n",
       "      <td>City proper</td>\n",
       "      <td>Census - de jure - complete tabulation</td>\n",
       "      <td>Final figure, complete</td>\n",
       "      <td>2002.0</td>\n",
       "      <td>58529.0</td>\n",
       "      <td>194,195</td>\n",
       "      <td>Abilene, TX</td>\n",
       "    </tr>\n",
       "    <tr>\n",
       "      <th>66210</th>\n",
       "      <td>United States of America</td>\n",
       "      <td>2000</td>\n",
       "      <td>Total</td>\n",
       "      <td>Female</td>\n",
       "      <td>Abilene (TX)</td>\n",
       "      <td>City proper</td>\n",
       "      <td>Census - de jure - complete tabulation</td>\n",
       "      <td>Final figure, complete</td>\n",
       "      <td>2002.0</td>\n",
       "      <td>57401.0</td>\n",
       "      <td>194,195</td>\n",
       "      <td>Abilene, TX</td>\n",
       "    </tr>\n",
       "  </tbody>\n",
       "</table>\n",
       "</div>"
      ],
      "text/plain": [
       "                Country or Area  Year   Area         Sex          City  \\\n",
       "62313  United States of America  2020  Total  Both Sexes  Abilene (TX)   \n",
       "62650  United States of America  2016  Total  Both Sexes  Abilene (TX)   \n",
       "62953  United States of America  2015  Total  Both Sexes  Abilene (TX)   \n",
       "63255  United States of America  2012  Total  Both Sexes  Abilene (TX)   \n",
       "63539  United States of America  2010  Total  Both Sexes  Abilene (TX)   \n",
       "63821  United States of America  2010  Total        Male  Abilene (TX)   \n",
       "64103  United States of America  2010  Total      Female  Abilene (TX)   \n",
       "64385  United States of America  2009  Total  Both Sexes  Abilene (TX)   \n",
       "64661  United States of America  2008  Total  Both Sexes  Abilene (TX)   \n",
       "64934  United States of America  2007  Total  Both Sexes  Abilene (TX)   \n",
       "65196  United States of America  2005  Total  Both Sexes  Abilene (TX)   \n",
       "65450  United States of America  2000  Total  Both Sexes  Abilene (TX)   \n",
       "65832  United States of America  2000  Total        Male  Abilene (TX)   \n",
       "66210  United States of America  2000  Total      Female  Abilene (TX)   \n",
       "\n",
       "         City type                             Record Type  \\\n",
       "62313  City proper  Census - de jure - complete tabulation   \n",
       "62650  City proper                      Estimate - de jure   \n",
       "62953  City proper                      Estimate - de jure   \n",
       "63255  City proper                      Estimate - de jure   \n",
       "63539  City proper  Census - de jure - complete tabulation   \n",
       "63821  City proper  Census - de jure - complete tabulation   \n",
       "64103  City proper  Census - de jure - complete tabulation   \n",
       "64385  City proper                      Estimate - de jure   \n",
       "64661  City proper                      Estimate - de jure   \n",
       "64934  City proper                      Estimate - de jure   \n",
       "65196  City proper                      Estimate - de jure   \n",
       "65450  City proper  Census - de jure - complete tabulation   \n",
       "65832  City proper  Census - de jure - complete tabulation   \n",
       "66210  City proper  Census - de jure - complete tabulation   \n",
       "\n",
       "                  Reliability  Source Year     Value Value Footnotes  \\\n",
       "62313  Final figure, complete       2021.0  125182.0             NaN   \n",
       "62650  Final figure, complete       2017.0  122225.0         193,194   \n",
       "62953  Final figure, complete       2016.0  121721.0         193,194   \n",
       "63255  Final figure, complete       2014.0  118887.0         193,194   \n",
       "63539  Final figure, complete       2013.0  117063.0         194,195   \n",
       "63821  Final figure, complete       2013.0   59107.0         194,195   \n",
       "64103  Final figure, complete       2013.0   57956.0         194,195   \n",
       "64385  Final figure, complete       2011.0  117180.0         194,195   \n",
       "64661  Final figure, complete       2009.0  116484.0         194,195   \n",
       "64934  Final figure, complete       2008.0  116219.0         194,195   \n",
       "65196  Final figure, complete       2005.0  114757.0         194,195   \n",
       "65450  Final figure, complete       2002.0  115930.0         194,195   \n",
       "65832  Final figure, complete       2002.0   58529.0         194,195   \n",
       "66210  Final figure, complete       2002.0   57401.0         194,195   \n",
       "\n",
       "        comma_city  \n",
       "62313  Abilene, TX  \n",
       "62650  Abilene, TX  \n",
       "62953  Abilene, TX  \n",
       "63255  Abilene, TX  \n",
       "63539  Abilene, TX  \n",
       "63821  Abilene, TX  \n",
       "64103  Abilene, TX  \n",
       "64385  Abilene, TX  \n",
       "64661  Abilene, TX  \n",
       "64934  Abilene, TX  \n",
       "65196  Abilene, TX  \n",
       "65450  Abilene, TX  \n",
       "65832  Abilene, TX  \n",
       "66210  Abilene, TX  "
      ]
     },
     "execution_count": 370,
     "metadata": {},
     "output_type": "execute_result"
    }
   ],
   "source": [
    "df_usa_population.query(\"comma_city == 'Abilene, TX'\")"
   ]
  },
  {
   "cell_type": "code",
   "execution_count": 371,
   "id": "3a9fa695-85b4-49e7-949e-519e31d95a6d",
   "metadata": {},
   "outputs": [],
   "source": [
    "df_latest_population = df_usa_population.query(\"`Source Year` == 2021\")"
   ]
  },
  {
   "cell_type": "code",
   "execution_count": 372,
   "id": "22184ba7-3c07-465a-b334-9eb30f993928",
   "metadata": {},
   "outputs": [
    {
     "data": {
      "text/plain": [
       "(337, 12)"
      ]
     },
     "execution_count": 372,
     "metadata": {},
     "output_type": "execute_result"
    }
   ],
   "source": [
    "df_latest_population.shape"
   ]
  },
  {
   "cell_type": "code",
   "execution_count": 373,
   "id": "c11d51a7-815f-4e0f-a295-aac683ef5e47",
   "metadata": {},
   "outputs": [],
   "source": [
    "df_population = df_latest_population[[\"comma_city\", \"Value\"]].rename(columns={\"Value\": \"population\", \"comma_city\": \"city\"})"
   ]
  },
  {
   "cell_type": "code",
   "execution_count": 374,
   "id": "27be74fe-b0e1-4f61-9972-de89dcfbdd1b",
   "metadata": {},
   "outputs": [
    {
     "data": {
      "text/html": [
       "<div>\n",
       "<style scoped>\n",
       "    .dataframe tbody tr th:only-of-type {\n",
       "        vertical-align: middle;\n",
       "    }\n",
       "\n",
       "    .dataframe tbody tr th {\n",
       "        vertical-align: top;\n",
       "    }\n",
       "\n",
       "    .dataframe thead th {\n",
       "        text-align: right;\n",
       "    }\n",
       "</style>\n",
       "<table border=\"1\" class=\"dataframe\">\n",
       "  <thead>\n",
       "    <tr style=\"text-align: right;\">\n",
       "      <th></th>\n",
       "      <th>city</th>\n",
       "      <th>population</th>\n",
       "    </tr>\n",
       "  </thead>\n",
       "  <tbody>\n",
       "    <tr>\n",
       "      <th>62313</th>\n",
       "      <td>Abilene, TX</td>\n",
       "      <td>125182.0</td>\n",
       "    </tr>\n",
       "    <tr>\n",
       "      <th>62314</th>\n",
       "      <td>Akron, OH</td>\n",
       "      <td>190469.0</td>\n",
       "    </tr>\n",
       "  </tbody>\n",
       "</table>\n",
       "</div>"
      ],
      "text/plain": [
       "              city  population\n",
       "62313  Abilene, TX    125182.0\n",
       "62314    Akron, OH    190469.0"
      ]
     },
     "execution_count": 374,
     "metadata": {},
     "output_type": "execute_result"
    }
   ],
   "source": [
    "df_population.head(2)"
   ]
  },
  {
   "cell_type": "code",
   "execution_count": 375,
   "id": "06bbbb02-0ec8-4996-ba8c-c4d125979217",
   "metadata": {},
   "outputs": [
    {
     "data": {
      "text/plain": [
       "(1756, 1)"
      ]
     },
     "execution_count": 375,
     "metadata": {},
     "output_type": "execute_result"
    }
   ],
   "source": [
    "df_unique_cities = df_dot[[\"ORIGIN_CITY_NAME\"]].drop_duplicates().rename(columns={\"ORIGIN_CITY_NAME\": \"city\"})\n",
    "df_unique_cities.shape"
   ]
  },
  {
   "cell_type": "markdown",
   "id": "7fa40156-57e1-46e5-99b0-10fd2218b312",
   "metadata": {},
   "source": [
    "## How many cityes are covered with population data"
   ]
  },
  {
   "cell_type": "code",
   "execution_count": 376,
   "id": "13b95521-3eba-42f7-bc78-afab8c18d0f9",
   "metadata": {},
   "outputs": [],
   "source": [
    "df_covered = df_unique_cities.merge(df_population, on=\"city\")"
   ]
  },
  {
   "cell_type": "code",
   "execution_count": 377,
   "id": "f52ecff7-b81c-4324-9b5b-9fb12ec91781",
   "metadata": {},
   "outputs": [
    {
     "data": {
      "text/plain": [
       "(178, 2)"
      ]
     },
     "execution_count": 377,
     "metadata": {},
     "output_type": "execute_result"
    }
   ],
   "source": [
    "df_covered.shape"
   ]
  },
  {
   "cell_type": "code",
   "execution_count": 378,
   "id": "c4629cba-4781-479d-b452-6e92bd1eb450",
   "metadata": {},
   "outputs": [
    {
     "data": {
      "text/html": [
       "<div>\n",
       "<style scoped>\n",
       "    .dataframe tbody tr th:only-of-type {\n",
       "        vertical-align: middle;\n",
       "    }\n",
       "\n",
       "    .dataframe tbody tr th {\n",
       "        vertical-align: top;\n",
       "    }\n",
       "\n",
       "    .dataframe thead th {\n",
       "        text-align: right;\n",
       "    }\n",
       "</style>\n",
       "<table border=\"1\" class=\"dataframe\">\n",
       "  <thead>\n",
       "    <tr style=\"text-align: right;\">\n",
       "      <th></th>\n",
       "      <th>city</th>\n",
       "      <th>population</th>\n",
       "    </tr>\n",
       "  </thead>\n",
       "  <tbody>\n",
       "    <tr>\n",
       "      <th>0</th>\n",
       "      <td>St. Louis, MO</td>\n",
       "      <td>301578.0</td>\n",
       "    </tr>\n",
       "    <tr>\n",
       "      <th>1</th>\n",
       "      <td>Anchorage, AK</td>\n",
       "      <td>291247.0</td>\n",
       "    </tr>\n",
       "    <tr>\n",
       "      <th>2</th>\n",
       "      <td>Seattle, WA</td>\n",
       "      <td>737015.0</td>\n",
       "    </tr>\n",
       "    <tr>\n",
       "      <th>3</th>\n",
       "      <td>Dayton, OH</td>\n",
       "      <td>137644.0</td>\n",
       "    </tr>\n",
       "    <tr>\n",
       "      <th>4</th>\n",
       "      <td>El Paso, TX</td>\n",
       "      <td>678815.0</td>\n",
       "    </tr>\n",
       "    <tr>\n",
       "      <th>5</th>\n",
       "      <td>Laredo, TX</td>\n",
       "      <td>255205.0</td>\n",
       "    </tr>\n",
       "    <tr>\n",
       "      <th>6</th>\n",
       "      <td>Detroit, MI</td>\n",
       "      <td>639111.0</td>\n",
       "    </tr>\n",
       "    <tr>\n",
       "      <th>7</th>\n",
       "      <td>Amarillo, TX</td>\n",
       "      <td>200393.0</td>\n",
       "    </tr>\n",
       "    <tr>\n",
       "      <th>8</th>\n",
       "      <td>Atlanta, GA</td>\n",
       "      <td>498715.0</td>\n",
       "    </tr>\n",
       "    <tr>\n",
       "      <th>9</th>\n",
       "      <td>Hartford, CT</td>\n",
       "      <td>121054.0</td>\n",
       "    </tr>\n",
       "    <tr>\n",
       "      <th>10</th>\n",
       "      <td>Birmingham, AL</td>\n",
       "      <td>200733.0</td>\n",
       "    </tr>\n",
       "    <tr>\n",
       "      <th>11</th>\n",
       "      <td>Boston, MA</td>\n",
       "      <td>675647.0</td>\n",
       "    </tr>\n",
       "    <tr>\n",
       "      <th>12</th>\n",
       "      <td>Baltimore, MD</td>\n",
       "      <td>585708.0</td>\n",
       "    </tr>\n",
       "    <tr>\n",
       "      <th>13</th>\n",
       "      <td>Charleston, SC</td>\n",
       "      <td>150227.0</td>\n",
       "    </tr>\n",
       "    <tr>\n",
       "      <th>14</th>\n",
       "      <td>Charlotte, NC</td>\n",
       "      <td>874579.0</td>\n",
       "    </tr>\n",
       "    <tr>\n",
       "      <th>15</th>\n",
       "      <td>Cincinnati, OH</td>\n",
       "      <td>309317.0</td>\n",
       "    </tr>\n",
       "    <tr>\n",
       "      <th>16</th>\n",
       "      <td>Denver, CO</td>\n",
       "      <td>715522.0</td>\n",
       "    </tr>\n",
       "    <tr>\n",
       "      <th>17</th>\n",
       "      <td>Newark, NJ</td>\n",
       "      <td>311549.0</td>\n",
       "    </tr>\n",
       "    <tr>\n",
       "      <th>18</th>\n",
       "      <td>Huntsville, AL</td>\n",
       "      <td>215006.0</td>\n",
       "    </tr>\n",
       "    <tr>\n",
       "      <th>19</th>\n",
       "      <td>Wichita, KS</td>\n",
       "      <td>397532.0</td>\n",
       "    </tr>\n",
       "  </tbody>\n",
       "</table>\n",
       "</div>"
      ],
      "text/plain": [
       "              city  population\n",
       "0    St. Louis, MO    301578.0\n",
       "1    Anchorage, AK    291247.0\n",
       "2      Seattle, WA    737015.0\n",
       "3       Dayton, OH    137644.0\n",
       "4      El Paso, TX    678815.0\n",
       "5       Laredo, TX    255205.0\n",
       "6      Detroit, MI    639111.0\n",
       "7     Amarillo, TX    200393.0\n",
       "8      Atlanta, GA    498715.0\n",
       "9     Hartford, CT    121054.0\n",
       "10  Birmingham, AL    200733.0\n",
       "11      Boston, MA    675647.0\n",
       "12   Baltimore, MD    585708.0\n",
       "13  Charleston, SC    150227.0\n",
       "14   Charlotte, NC    874579.0\n",
       "15  Cincinnati, OH    309317.0\n",
       "16      Denver, CO    715522.0\n",
       "17      Newark, NJ    311549.0\n",
       "18  Huntsville, AL    215006.0\n",
       "19     Wichita, KS    397532.0"
      ]
     },
     "execution_count": 378,
     "metadata": {},
     "output_type": "execute_result"
    }
   ],
   "source": [
    "df_covered.head(20)"
   ]
  },
  {
   "cell_type": "code",
   "execution_count": 379,
   "id": "99d89058-b8a8-4578-842d-633ecd701a94",
   "metadata": {},
   "outputs": [],
   "source": [
    "df_diagnose = df_unique_cities.merge(pd.concat((df_population, df_manual_population)), how='outer', on='city', indicator=True)"
   ]
  },
  {
   "cell_type": "code",
   "execution_count": 380,
   "id": "40fac45e-7dcf-4a58-a227-5dbcbc257e63",
   "metadata": {},
   "outputs": [
    {
     "data": {
      "text/html": [
       "<div>\n",
       "<style scoped>\n",
       "    .dataframe tbody tr th:only-of-type {\n",
       "        vertical-align: middle;\n",
       "    }\n",
       "\n",
       "    .dataframe tbody tr th {\n",
       "        vertical-align: top;\n",
       "    }\n",
       "\n",
       "    .dataframe thead th {\n",
       "        text-align: right;\n",
       "    }\n",
       "</style>\n",
       "<table border=\"1\" class=\"dataframe\">\n",
       "  <thead>\n",
       "    <tr style=\"text-align: right;\">\n",
       "      <th></th>\n",
       "      <th>city</th>\n",
       "      <th>population</th>\n",
       "      <th>_merge</th>\n",
       "    </tr>\n",
       "  </thead>\n",
       "  <tbody>\n",
       "    <tr>\n",
       "      <th>0</th>\n",
       "      <td>St. Louis, MO</td>\n",
       "      <td>301578.0</td>\n",
       "      <td>both</td>\n",
       "    </tr>\n",
       "    <tr>\n",
       "      <th>1</th>\n",
       "      <td>Allakaket, AK</td>\n",
       "      <td>NaN</td>\n",
       "      <td>left_only</td>\n",
       "    </tr>\n",
       "  </tbody>\n",
       "</table>\n",
       "</div>"
      ],
      "text/plain": [
       "            city  population     _merge\n",
       "0  St. Louis, MO    301578.0       both\n",
       "1  Allakaket, AK         NaN  left_only"
      ]
     },
     "execution_count": 380,
     "metadata": {},
     "output_type": "execute_result"
    }
   ],
   "source": [
    "df_diagnose.head(2)"
   ]
  },
  {
   "cell_type": "code",
   "execution_count": 381,
   "id": "8c7099a9-6694-4b40-9400-1bfce88ae734",
   "metadata": {},
   "outputs": [
    {
     "data": {
      "text/plain": [
       "_merge\n",
       "left_only     1574\n",
       "right_only     159\n",
       "both           182\n",
       "dtype: int64"
      ]
     },
     "execution_count": 381,
     "metadata": {},
     "output_type": "execute_result"
    }
   ],
   "source": [
    "df_diagnose.groupby(\"_merge\").size()"
   ]
  },
  {
   "cell_type": "code",
   "execution_count": 382,
   "id": "7365892b-aedf-40f4-bab3-0c1ef3218e28",
   "metadata": {},
   "outputs": [
    {
     "data": {
      "text/html": [
       "<div>\n",
       "<style scoped>\n",
       "    .dataframe tbody tr th:only-of-type {\n",
       "        vertical-align: middle;\n",
       "    }\n",
       "\n",
       "    .dataframe tbody tr th {\n",
       "        vertical-align: top;\n",
       "    }\n",
       "\n",
       "    .dataframe thead th {\n",
       "        text-align: right;\n",
       "    }\n",
       "</style>\n",
       "<table border=\"1\" class=\"dataframe\">\n",
       "  <thead>\n",
       "    <tr style=\"text-align: right;\">\n",
       "      <th></th>\n",
       "      <th>city</th>\n",
       "      <th>population</th>\n",
       "      <th>_merge</th>\n",
       "    </tr>\n",
       "  </thead>\n",
       "  <tbody>\n",
       "    <tr>\n",
       "      <th>1</th>\n",
       "      <td>Allakaket, AK</td>\n",
       "      <td>NaN</td>\n",
       "      <td>left_only</td>\n",
       "    </tr>\n",
       "    <tr>\n",
       "      <th>2</th>\n",
       "      <td>King Salmon, AK</td>\n",
       "      <td>NaN</td>\n",
       "      <td>left_only</td>\n",
       "    </tr>\n",
       "    <tr>\n",
       "      <th>4</th>\n",
       "      <td>Aniak, AK</td>\n",
       "      <td>NaN</td>\n",
       "      <td>left_only</td>\n",
       "    </tr>\n",
       "    <tr>\n",
       "      <th>5</th>\n",
       "      <td>Atqasuk, AK</td>\n",
       "      <td>NaN</td>\n",
       "      <td>left_only</td>\n",
       "    </tr>\n",
       "    <tr>\n",
       "      <th>6</th>\n",
       "      <td>Bethel, AK</td>\n",
       "      <td>NaN</td>\n",
       "      <td>left_only</td>\n",
       "    </tr>\n",
       "    <tr>\n",
       "      <th>8</th>\n",
       "      <td>Barrow, AK</td>\n",
       "      <td>NaN</td>\n",
       "      <td>left_only</td>\n",
       "    </tr>\n",
       "    <tr>\n",
       "      <th>9</th>\n",
       "      <td>Chino, CA</td>\n",
       "      <td>NaN</td>\n",
       "      <td>left_only</td>\n",
       "    </tr>\n",
       "    <tr>\n",
       "      <th>11</th>\n",
       "      <td>Dillingham, AK</td>\n",
       "      <td>NaN</td>\n",
       "      <td>left_only</td>\n",
       "    </tr>\n",
       "    <tr>\n",
       "      <th>12</th>\n",
       "      <td>Unalaska, AK</td>\n",
       "      <td>NaN</td>\n",
       "      <td>left_only</td>\n",
       "    </tr>\n",
       "    <tr>\n",
       "      <th>14</th>\n",
       "      <td>Emmonak, AK</td>\n",
       "      <td>NaN</td>\n",
       "      <td>left_only</td>\n",
       "    </tr>\n",
       "  </tbody>\n",
       "</table>\n",
       "</div>"
      ],
      "text/plain": [
       "               city  population     _merge\n",
       "1     Allakaket, AK         NaN  left_only\n",
       "2   King Salmon, AK         NaN  left_only\n",
       "4         Aniak, AK         NaN  left_only\n",
       "5       Atqasuk, AK         NaN  left_only\n",
       "6        Bethel, AK         NaN  left_only\n",
       "8        Barrow, AK         NaN  left_only\n",
       "9         Chino, CA         NaN  left_only\n",
       "11   Dillingham, AK         NaN  left_only\n",
       "12     Unalaska, AK         NaN  left_only\n",
       "14      Emmonak, AK         NaN  left_only"
      ]
     },
     "execution_count": 382,
     "metadata": {},
     "output_type": "execute_result"
    }
   ],
   "source": [
    "df_diagnose.query(\"_merge == 'left_only'\").head(10)"
   ]
  },
  {
   "cell_type": "code",
   "execution_count": 383,
   "id": "30d50635-7b0d-455a-9c40-3a7e129a5062",
   "metadata": {},
   "outputs": [
    {
     "data": {
      "text/html": [
       "<div>\n",
       "<style scoped>\n",
       "    .dataframe tbody tr th:only-of-type {\n",
       "        vertical-align: middle;\n",
       "    }\n",
       "\n",
       "    .dataframe tbody tr th {\n",
       "        vertical-align: top;\n",
       "    }\n",
       "\n",
       "    .dataframe thead th {\n",
       "        text-align: right;\n",
       "    }\n",
       "</style>\n",
       "<table border=\"1\" class=\"dataframe\">\n",
       "  <thead>\n",
       "    <tr style=\"text-align: right;\">\n",
       "      <th></th>\n",
       "      <th>city</th>\n",
       "      <th>population</th>\n",
       "      <th>_merge</th>\n",
       "    </tr>\n",
       "  </thead>\n",
       "  <tbody>\n",
       "    <tr>\n",
       "      <th>1756</th>\n",
       "      <td>Alexandria, VA</td>\n",
       "      <td>159467.0</td>\n",
       "      <td>right_only</td>\n",
       "    </tr>\n",
       "    <tr>\n",
       "      <th>1757</th>\n",
       "      <td>Allen, TX</td>\n",
       "      <td>104627.0</td>\n",
       "      <td>right_only</td>\n",
       "    </tr>\n",
       "    <tr>\n",
       "      <th>1758</th>\n",
       "      <td>Allentown, PA</td>\n",
       "      <td>125845.0</td>\n",
       "      <td>right_only</td>\n",
       "    </tr>\n",
       "    <tr>\n",
       "      <th>1759</th>\n",
       "      <td>Anaheim, CA</td>\n",
       "      <td>346824.0</td>\n",
       "      <td>right_only</td>\n",
       "    </tr>\n",
       "    <tr>\n",
       "      <th>1760</th>\n",
       "      <td>Antioch, CA</td>\n",
       "      <td>115291.0</td>\n",
       "      <td>right_only</td>\n",
       "    </tr>\n",
       "    <tr>\n",
       "      <th>1761</th>\n",
       "      <td>Arlington, VA</td>\n",
       "      <td>238643.0</td>\n",
       "      <td>right_only</td>\n",
       "    </tr>\n",
       "    <tr>\n",
       "      <th>1762</th>\n",
       "      <td>Arvada, CO</td>\n",
       "      <td>124402.0</td>\n",
       "      <td>right_only</td>\n",
       "    </tr>\n",
       "    <tr>\n",
       "      <th>1763</th>\n",
       "      <td>Bellevue, WA</td>\n",
       "      <td>151854.0</td>\n",
       "      <td>right_only</td>\n",
       "    </tr>\n",
       "    <tr>\n",
       "      <th>1764</th>\n",
       "      <td>Berkeley, CA</td>\n",
       "      <td>124321.0</td>\n",
       "      <td>right_only</td>\n",
       "    </tr>\n",
       "    <tr>\n",
       "      <th>1765</th>\n",
       "      <td>Boise City, ID</td>\n",
       "      <td>235684.0</td>\n",
       "      <td>right_only</td>\n",
       "    </tr>\n",
       "  </tbody>\n",
       "</table>\n",
       "</div>"
      ],
      "text/plain": [
       "                city  population      _merge\n",
       "1756  Alexandria, VA    159467.0  right_only\n",
       "1757       Allen, TX    104627.0  right_only\n",
       "1758   Allentown, PA    125845.0  right_only\n",
       "1759     Anaheim, CA    346824.0  right_only\n",
       "1760     Antioch, CA    115291.0  right_only\n",
       "1761   Arlington, VA    238643.0  right_only\n",
       "1762      Arvada, CO    124402.0  right_only\n",
       "1763    Bellevue, WA    151854.0  right_only\n",
       "1764    Berkeley, CA    124321.0  right_only\n",
       "1765  Boise City, ID    235684.0  right_only"
      ]
     },
     "execution_count": 383,
     "metadata": {},
     "output_type": "execute_result"
    }
   ],
   "source": [
    "df_diagnose.query(\"_merge == 'right_only'\").head(10)"
   ]
  },
  {
   "cell_type": "markdown",
   "id": "e2704a17-96a5-434a-b682-e1d128996e37",
   "metadata": {},
   "source": [
    "# manual input"
   ]
  },
  {
   "cell_type": "code",
   "execution_count": 384,
   "id": "42bccddb-89d3-464d-a4b6-caad2927a864",
   "metadata": {},
   "outputs": [],
   "source": [
    "df_manual_population = pd.DataFrame(\n",
    "    data = (\n",
    "        (\"Guam, TT\", 168801),\n",
    "        (\"Rota, TT\", 1893),\n",
    "        (\"Saipan, TT\", 45565),\n",
    "        (\"Ketchikan, AK\", 8192),\n",
    "        \n",
    "    ),\n",
    "    columns=[\"city\", \"population\"]\n",
    ")"
   ]
  },
  {
   "cell_type": "markdown",
   "id": "a8f7c1d6-a523-4d8e-be4d-adc43cc6f64e",
   "metadata": {},
   "source": [
    "## correspondence between airports and cities"
   ]
  },
  {
   "cell_type": "code",
   "execution_count": 385,
   "id": "aa4be56f-0863-4e9c-abb4-dbadf45fe4e4",
   "metadata": {},
   "outputs": [],
   "source": [
    "df_airports_cities = df_dot[[\"ORIGIN\", \"ORIGIN_CITY_NAME\"]].drop_duplicates().rename(columns={\"ORIGIN\": \"airport\", \"ORIGIN_CITY_NAME\": \"city\"})"
   ]
  },
  {
   "cell_type": "code",
   "execution_count": 386,
   "id": "ceb74c65-2f7c-4935-9aff-d967de0db124",
   "metadata": {},
   "outputs": [
    {
     "data": {
      "text/plain": [
       "(1973, 2)"
      ]
     },
     "execution_count": 386,
     "metadata": {},
     "output_type": "execute_result"
    }
   ],
   "source": [
    "df_airports_cities.shape"
   ]
  },
  {
   "cell_type": "code",
   "execution_count": 387,
   "id": "e197cd50-a514-4bad-8fbf-bd6a5d9faadb",
   "metadata": {},
   "outputs": [
    {
     "data": {
      "text/html": [
       "<div>\n",
       "<style scoped>\n",
       "    .dataframe tbody tr th:only-of-type {\n",
       "        vertical-align: middle;\n",
       "    }\n",
       "\n",
       "    .dataframe tbody tr th {\n",
       "        vertical-align: top;\n",
       "    }\n",
       "\n",
       "    .dataframe thead th {\n",
       "        text-align: right;\n",
       "    }\n",
       "</style>\n",
       "<table border=\"1\" class=\"dataframe\">\n",
       "  <thead>\n",
       "    <tr style=\"text-align: right;\">\n",
       "      <th></th>\n",
       "      <th>airport</th>\n",
       "      <th>city</th>\n",
       "      <th>population</th>\n",
       "      <th>_merge</th>\n",
       "    </tr>\n",
       "  </thead>\n",
       "  <tbody>\n",
       "    <tr>\n",
       "      <th>3</th>\n",
       "      <td>AET</td>\n",
       "      <td>Allakaket, AK</td>\n",
       "      <td>NaN</td>\n",
       "      <td>left_only</td>\n",
       "    </tr>\n",
       "    <tr>\n",
       "      <th>4</th>\n",
       "      <td>AKN</td>\n",
       "      <td>King Salmon, AK</td>\n",
       "      <td>NaN</td>\n",
       "      <td>left_only</td>\n",
       "    </tr>\n",
       "    <tr>\n",
       "      <th>9</th>\n",
       "      <td>ANI</td>\n",
       "      <td>Aniak, AK</td>\n",
       "      <td>NaN</td>\n",
       "      <td>left_only</td>\n",
       "    </tr>\n",
       "    <tr>\n",
       "      <th>10</th>\n",
       "      <td>ATK</td>\n",
       "      <td>Atqasuk, AK</td>\n",
       "      <td>NaN</td>\n",
       "      <td>left_only</td>\n",
       "    </tr>\n",
       "    <tr>\n",
       "      <th>11</th>\n",
       "      <td>BET</td>\n",
       "      <td>Bethel, AK</td>\n",
       "      <td>NaN</td>\n",
       "      <td>left_only</td>\n",
       "    </tr>\n",
       "    <tr>\n",
       "      <th>15</th>\n",
       "      <td>BRW</td>\n",
       "      <td>Barrow, AK</td>\n",
       "      <td>NaN</td>\n",
       "      <td>left_only</td>\n",
       "    </tr>\n",
       "    <tr>\n",
       "      <th>16</th>\n",
       "      <td>CNO</td>\n",
       "      <td>Chino, CA</td>\n",
       "      <td>NaN</td>\n",
       "      <td>left_only</td>\n",
       "    </tr>\n",
       "    <tr>\n",
       "      <th>20</th>\n",
       "      <td>DLG</td>\n",
       "      <td>Dillingham, AK</td>\n",
       "      <td>NaN</td>\n",
       "      <td>left_only</td>\n",
       "    </tr>\n",
       "    <tr>\n",
       "      <th>21</th>\n",
       "      <td>DUT</td>\n",
       "      <td>Unalaska, AK</td>\n",
       "      <td>NaN</td>\n",
       "      <td>left_only</td>\n",
       "    </tr>\n",
       "    <tr>\n",
       "      <th>24</th>\n",
       "      <td>EMK</td>\n",
       "      <td>Emmonak, AK</td>\n",
       "      <td>NaN</td>\n",
       "      <td>left_only</td>\n",
       "    </tr>\n",
       "  </tbody>\n",
       "</table>\n",
       "</div>"
      ],
      "text/plain": [
       "   airport             city  population     _merge\n",
       "3      AET    Allakaket, AK         NaN  left_only\n",
       "4      AKN  King Salmon, AK         NaN  left_only\n",
       "9      ANI        Aniak, AK         NaN  left_only\n",
       "10     ATK      Atqasuk, AK         NaN  left_only\n",
       "11     BET       Bethel, AK         NaN  left_only\n",
       "15     BRW       Barrow, AK         NaN  left_only\n",
       "16     CNO        Chino, CA         NaN  left_only\n",
       "20     DLG   Dillingham, AK         NaN  left_only\n",
       "21     DUT     Unalaska, AK         NaN  left_only\n",
       "24     EMK      Emmonak, AK         NaN  left_only"
      ]
     },
     "execution_count": 387,
     "metadata": {},
     "output_type": "execute_result"
    }
   ],
   "source": [
    "df_airports_cities.merge(pd.concat((df_population, df_manual_population)), how='outer', on='city', indicator=True).query(\"_merge == 'left_only'\").head(10)"
   ]
  },
  {
   "cell_type": "markdown",
   "id": "3d6f6ad0-743e-48ac-9341-5f2eaaf0fb47",
   "metadata": {},
   "source": [
    "## how many city markets we have in DOT dataset"
   ]
  },
  {
   "cell_type": "code",
   "execution_count": 388,
   "id": "67f3fd6e-5d9a-4bc3-a922-c079f06b1b45",
   "metadata": {},
   "outputs": [
    {
     "data": {
      "text/plain": [
       "(68170, 2)"
      ]
     },
     "execution_count": 388,
     "metadata": {},
     "output_type": "execute_result"
    }
   ],
   "source": [
    "df_dot[[\"ORIGIN_CITY_NAME\", \"DEST_CITY_NAME\"]].drop_duplicates().shape"
   ]
  },
  {
   "cell_type": "markdown",
   "id": "ace64c9c-2bd1-4798-8bff-2500d07a5b68",
   "metadata": {},
   "source": [
    "# how many city markets we will have after joining origin and destination cities with our population data"
   ]
  },
  {
   "cell_type": "code",
   "execution_count": 389,
   "id": "fe411f5b-f5a4-48f5-a45d-6fb1c1db1dfd",
   "metadata": {},
   "outputs": [
    {
     "data": {
      "text/html": [
       "<div>\n",
       "<style scoped>\n",
       "    .dataframe tbody tr th:only-of-type {\n",
       "        vertical-align: middle;\n",
       "    }\n",
       "\n",
       "    .dataframe tbody tr th {\n",
       "        vertical-align: top;\n",
       "    }\n",
       "\n",
       "    .dataframe thead th {\n",
       "        text-align: right;\n",
       "    }\n",
       "</style>\n",
       "<table border=\"1\" class=\"dataframe\">\n",
       "  <thead>\n",
       "    <tr style=\"text-align: right;\">\n",
       "      <th></th>\n",
       "      <th>SEATS</th>\n",
       "      <th>PASSENGERS</th>\n",
       "      <th>UNIQUE_CARRIER</th>\n",
       "      <th>UNIQUE_CARRIER_NAME</th>\n",
       "      <th>ORIGIN_AIRPORT_ID</th>\n",
       "      <th>ORIGIN</th>\n",
       "      <th>ORIGIN_CITY_NAME</th>\n",
       "      <th>DEST_AIRPORT_ID</th>\n",
       "      <th>DEST</th>\n",
       "      <th>DEST_CITY_NAME</th>\n",
       "      <th>AIRCRAFT_TYPE</th>\n",
       "      <th>YEAR</th>\n",
       "      <th>MONTH</th>\n",
       "    </tr>\n",
       "  </thead>\n",
       "  <tbody>\n",
       "    <tr>\n",
       "      <th>0</th>\n",
       "      <td>0.0</td>\n",
       "      <td>0.0</td>\n",
       "      <td>WN</td>\n",
       "      <td>Southwest Airlines Co.</td>\n",
       "      <td>15016</td>\n",
       "      <td>STL</td>\n",
       "      <td>St. Louis, MO</td>\n",
       "      <td>14492</td>\n",
       "      <td>RDU</td>\n",
       "      <td>Raleigh/Durham, NC</td>\n",
       "      <td>614</td>\n",
       "      <td>2019</td>\n",
       "      <td>6</td>\n",
       "    </tr>\n",
       "    <tr>\n",
       "      <th>1</th>\n",
       "      <td>0.0</td>\n",
       "      <td>0.0</td>\n",
       "      <td>5V</td>\n",
       "      <td>Tatonduk Outfitters Limited d/b/a Everts Air A...</td>\n",
       "      <td>10184</td>\n",
       "      <td>AET</td>\n",
       "      <td>Allakaket, AK</td>\n",
       "      <td>11630</td>\n",
       "      <td>FAI</td>\n",
       "      <td>Fairbanks, AK</td>\n",
       "      <td>150</td>\n",
       "      <td>2019</td>\n",
       "      <td>8</td>\n",
       "    </tr>\n",
       "  </tbody>\n",
       "</table>\n",
       "</div>"
      ],
      "text/plain": [
       "   SEATS  PASSENGERS UNIQUE_CARRIER  \\\n",
       "0    0.0         0.0             WN   \n",
       "1    0.0         0.0             5V   \n",
       "\n",
       "                                 UNIQUE_CARRIER_NAME  ORIGIN_AIRPORT_ID  \\\n",
       "0                             Southwest Airlines Co.              15016   \n",
       "1  Tatonduk Outfitters Limited d/b/a Everts Air A...              10184   \n",
       "\n",
       "  ORIGIN ORIGIN_CITY_NAME  DEST_AIRPORT_ID DEST      DEST_CITY_NAME  \\\n",
       "0    STL    St. Louis, MO            14492  RDU  Raleigh/Durham, NC   \n",
       "1    AET    Allakaket, AK            11630  FAI       Fairbanks, AK   \n",
       "\n",
       "   AIRCRAFT_TYPE  YEAR  MONTH  \n",
       "0            614  2019      6  \n",
       "1            150  2019      8  "
      ]
     },
     "execution_count": 389,
     "metadata": {},
     "output_type": "execute_result"
    }
   ],
   "source": [
    "df_dot.head(2)"
   ]
  },
  {
   "cell_type": "code",
   "execution_count": 390,
   "id": "cd4a78b9-c733-4a69-8379-06127ad2351d",
   "metadata": {},
   "outputs": [],
   "source": [
    "df_dot_from = df_dot.merge(df_population, left_on=\"ORIGIN_CITY_NAME\", right_on=\"city\").rename(columns={\"population\": \"population_from\"})\n",
    "df_dot_from_to = df_dot_from.merge(df_population, left_on=\"DEST_CITY_NAME\", right_on=\"city\").rename(columns={\"population\": \"population_to\"})"
   ]
  },
  {
   "cell_type": "code",
   "execution_count": 391,
   "id": "0b8384d6-fe04-4f89-8128-d5c66f8f866e",
   "metadata": {},
   "outputs": [
    {
     "data": {
      "text/html": [
       "<div>\n",
       "<style scoped>\n",
       "    .dataframe tbody tr th:only-of-type {\n",
       "        vertical-align: middle;\n",
       "    }\n",
       "\n",
       "    .dataframe tbody tr th {\n",
       "        vertical-align: top;\n",
       "    }\n",
       "\n",
       "    .dataframe thead th {\n",
       "        text-align: right;\n",
       "    }\n",
       "</style>\n",
       "<table border=\"1\" class=\"dataframe\">\n",
       "  <thead>\n",
       "    <tr style=\"text-align: right;\">\n",
       "      <th></th>\n",
       "      <th>SEATS</th>\n",
       "      <th>PASSENGERS</th>\n",
       "      <th>UNIQUE_CARRIER</th>\n",
       "      <th>UNIQUE_CARRIER_NAME</th>\n",
       "      <th>ORIGIN_AIRPORT_ID</th>\n",
       "      <th>ORIGIN</th>\n",
       "      <th>ORIGIN_CITY_NAME</th>\n",
       "      <th>DEST_AIRPORT_ID</th>\n",
       "      <th>DEST</th>\n",
       "      <th>DEST_CITY_NAME</th>\n",
       "      <th>AIRCRAFT_TYPE</th>\n",
       "      <th>YEAR</th>\n",
       "      <th>MONTH</th>\n",
       "      <th>city_x</th>\n",
       "      <th>population_from</th>\n",
       "      <th>city_y</th>\n",
       "      <th>population_to</th>\n",
       "    </tr>\n",
       "  </thead>\n",
       "  <tbody>\n",
       "    <tr>\n",
       "      <th>0</th>\n",
       "      <td>0.0</td>\n",
       "      <td>0.0</td>\n",
       "      <td>YV</td>\n",
       "      <td>Mesa Airlines Inc.</td>\n",
       "      <td>15016</td>\n",
       "      <td>STL</td>\n",
       "      <td>St. Louis, MO</td>\n",
       "      <td>13198</td>\n",
       "      <td>MCI</td>\n",
       "      <td>Kansas City, MO</td>\n",
       "      <td>673</td>\n",
       "      <td>2019</td>\n",
       "      <td>5</td>\n",
       "      <td>St. Louis, MO</td>\n",
       "      <td>301578.0</td>\n",
       "      <td>Kansas City, MO</td>\n",
       "      <td>508090.0</td>\n",
       "    </tr>\n",
       "    <tr>\n",
       "      <th>1</th>\n",
       "      <td>0.0</td>\n",
       "      <td>0.0</td>\n",
       "      <td>5X</td>\n",
       "      <td>United Parcel Service</td>\n",
       "      <td>15016</td>\n",
       "      <td>STL</td>\n",
       "      <td>St. Louis, MO</td>\n",
       "      <td>13198</td>\n",
       "      <td>MCI</td>\n",
       "      <td>Kansas City, MO</td>\n",
       "      <td>622</td>\n",
       "      <td>2019</td>\n",
       "      <td>1</td>\n",
       "      <td>St. Louis, MO</td>\n",
       "      <td>301578.0</td>\n",
       "      <td>Kansas City, MO</td>\n",
       "      <td>508090.0</td>\n",
       "    </tr>\n",
       "  </tbody>\n",
       "</table>\n",
       "</div>"
      ],
      "text/plain": [
       "   SEATS  PASSENGERS UNIQUE_CARRIER    UNIQUE_CARRIER_NAME  ORIGIN_AIRPORT_ID  \\\n",
       "0    0.0         0.0             YV     Mesa Airlines Inc.              15016   \n",
       "1    0.0         0.0             5X  United Parcel Service              15016   \n",
       "\n",
       "  ORIGIN ORIGIN_CITY_NAME  DEST_AIRPORT_ID DEST   DEST_CITY_NAME  \\\n",
       "0    STL    St. Louis, MO            13198  MCI  Kansas City, MO   \n",
       "1    STL    St. Louis, MO            13198  MCI  Kansas City, MO   \n",
       "\n",
       "   AIRCRAFT_TYPE  YEAR  MONTH         city_x  population_from  \\\n",
       "0            673  2019      5  St. Louis, MO         301578.0   \n",
       "1            622  2019      1  St. Louis, MO         301578.0   \n",
       "\n",
       "            city_y  population_to  \n",
       "0  Kansas City, MO       508090.0  \n",
       "1  Kansas City, MO       508090.0  "
      ]
     },
     "execution_count": 391,
     "metadata": {},
     "output_type": "execute_result"
    }
   ],
   "source": [
    "df_dot_from_to.head(2)"
   ]
  },
  {
   "cell_type": "code",
   "execution_count": 392,
   "id": "bb75aea0-f24f-4721-b569-9327c5097c34",
   "metadata": {},
   "outputs": [
    {
     "data": {
      "text/plain": [
       "(1974925, 17)"
      ]
     },
     "execution_count": 392,
     "metadata": {},
     "output_type": "execute_result"
    }
   ],
   "source": [
    "df_dot_from_to.shape"
   ]
  },
  {
   "cell_type": "code",
   "execution_count": 393,
   "id": "c149c4f3-8f6c-43c7-bedc-2466fe550a5f",
   "metadata": {},
   "outputs": [
    {
     "data": {
      "text/plain": [
       "(3986656, 13)"
      ]
     },
     "execution_count": 393,
     "metadata": {},
     "output_type": "execute_result"
    }
   ],
   "source": [
    "df_dot.shape"
   ]
  },
  {
   "cell_type": "code",
   "execution_count": 394,
   "id": "15f35299-923c-4be4-b4ab-14a8085a143d",
   "metadata": {},
   "outputs": [
    {
     "data": {
      "text/plain": [
       "(13283, 2)"
      ]
     },
     "execution_count": 394,
     "metadata": {},
     "output_type": "execute_result"
    }
   ],
   "source": [
    "df_dot_from_to[[\"ORIGIN_CITY_NAME\", \"DEST_CITY_NAME\"]].drop_duplicates().shape"
   ]
  },
  {
   "cell_type": "markdown",
   "id": "23123c4e-0a05-4fee-9c00-26a42a741c64",
   "metadata": {},
   "source": [
    "# Simple things to do"
   ]
  },
  {
   "cell_type": "markdown",
   "id": "7a384d0b-514d-40de-9e22-2305a54ea854",
   "metadata": {},
   "source": [
    "* rank markets by the seasonality force\n",
    "* plot a graph with different types of seasonality\n",
    "* prepare simple factors\n",
    "  * (city, city) -> distance\n",
    "  * (city, city) -> population\n",
    "* predict load factor  "
   ]
  },
  {
   "cell_type": "markdown",
   "id": "bc19d0a3-39da-446d-a51f-dfa596fcfa38",
   "metadata": {},
   "source": [
    "# Rank markets by seasonality force"
   ]
  },
  {
   "cell_type": "markdown",
   "id": "ee9a6217-db40-45c8-ba36-254018e9fccc",
   "metadata": {},
   "source": [
    "## filter out zero passengers and zero seats"
   ]
  },
  {
   "cell_type": "code",
   "execution_count": 409,
   "id": "302370a4-578f-4872-8b49-6c2623375b6f",
   "metadata": {},
   "outputs": [],
   "source": [
    "df_dot_nonzero = df_dot_from_to.query(\"PASSENGERS > 0 and SEATS > 0\").rename(\n",
    "    columns={\"PASSENGERS\": \"passengers\", \"ORIGIN_CITY_NAME\": \"origin\", \"DEST_CITY_NAME\": \"destination\", \"YEAR\": \"year\", \n",
    "             \"MONTH\": \"month\", \"population_from\": \"origin_population\", \"population_to\": \"destination_population\", \n",
    "             \"ORIGIN_AIRPORT_ID\": \"origin_airport_id\", \"DEST_AIRPORT_ID\": \"destination_airport_id\",\n",
    "             \"SEATS\": \"seats\",\n",
    "            }\n",
    ")[[\"year\", \"month\", \"origin\", \"destination\", \"origin_airport_id\", \"destination_airport_id\", \n",
    "   \"origin_population\", \"destination_population\", \"passengers\", \"seats\"]]"
   ]
  },
  {
   "cell_type": "code",
   "execution_count": 410,
   "id": "700be45e-6b0e-4dee-9099-17e537e33f2f",
   "metadata": {},
   "outputs": [
    {
     "data": {
      "text/html": [
       "<div>\n",
       "<style scoped>\n",
       "    .dataframe tbody tr th:only-of-type {\n",
       "        vertical-align: middle;\n",
       "    }\n",
       "\n",
       "    .dataframe tbody tr th {\n",
       "        vertical-align: top;\n",
       "    }\n",
       "\n",
       "    .dataframe thead th {\n",
       "        text-align: right;\n",
       "    }\n",
       "</style>\n",
       "<table border=\"1\" class=\"dataframe\">\n",
       "  <thead>\n",
       "    <tr style=\"text-align: right;\">\n",
       "      <th></th>\n",
       "      <th>2</th>\n",
       "      <th>3</th>\n",
       "      <th>4</th>\n",
       "      <th>5</th>\n",
       "      <th>6</th>\n",
       "      <th>7</th>\n",
       "      <th>8</th>\n",
       "      <th>9</th>\n",
       "      <th>10</th>\n",
       "      <th>11</th>\n",
       "    </tr>\n",
       "  </thead>\n",
       "  <tbody>\n",
       "    <tr>\n",
       "      <th>year</th>\n",
       "      <td>2019</td>\n",
       "      <td>2019</td>\n",
       "      <td>2019</td>\n",
       "      <td>2019</td>\n",
       "      <td>2019</td>\n",
       "      <td>2019</td>\n",
       "      <td>2019</td>\n",
       "      <td>2019</td>\n",
       "      <td>2019</td>\n",
       "      <td>2019</td>\n",
       "    </tr>\n",
       "    <tr>\n",
       "      <th>month</th>\n",
       "      <td>10</td>\n",
       "      <td>1</td>\n",
       "      <td>8</td>\n",
       "      <td>6</td>\n",
       "      <td>1</td>\n",
       "      <td>8</td>\n",
       "      <td>1</td>\n",
       "      <td>2</td>\n",
       "      <td>5</td>\n",
       "      <td>6</td>\n",
       "    </tr>\n",
       "    <tr>\n",
       "      <th>origin</th>\n",
       "      <td>St. Louis, MO</td>\n",
       "      <td>St. Louis, MO</td>\n",
       "      <td>St. Louis, MO</td>\n",
       "      <td>St. Louis, MO</td>\n",
       "      <td>St. Louis, MO</td>\n",
       "      <td>St. Louis, MO</td>\n",
       "      <td>St. Louis, MO</td>\n",
       "      <td>St. Louis, MO</td>\n",
       "      <td>St. Louis, MO</td>\n",
       "      <td>St. Louis, MO</td>\n",
       "    </tr>\n",
       "    <tr>\n",
       "      <th>destination</th>\n",
       "      <td>Kansas City, MO</td>\n",
       "      <td>Kansas City, MO</td>\n",
       "      <td>Kansas City, MO</td>\n",
       "      <td>Kansas City, MO</td>\n",
       "      <td>Kansas City, MO</td>\n",
       "      <td>Kansas City, MO</td>\n",
       "      <td>Kansas City, MO</td>\n",
       "      <td>Kansas City, MO</td>\n",
       "      <td>Kansas City, MO</td>\n",
       "      <td>Kansas City, MO</td>\n",
       "    </tr>\n",
       "    <tr>\n",
       "      <th>origin_airport_id</th>\n",
       "      <td>15016</td>\n",
       "      <td>15016</td>\n",
       "      <td>11123</td>\n",
       "      <td>15016</td>\n",
       "      <td>15016</td>\n",
       "      <td>15016</td>\n",
       "      <td>15016</td>\n",
       "      <td>15016</td>\n",
       "      <td>15016</td>\n",
       "      <td>15016</td>\n",
       "    </tr>\n",
       "    <tr>\n",
       "      <th>destination_airport_id</th>\n",
       "      <td>13198</td>\n",
       "      <td>13198</td>\n",
       "      <td>13341</td>\n",
       "      <td>13198</td>\n",
       "      <td>13198</td>\n",
       "      <td>13198</td>\n",
       "      <td>13198</td>\n",
       "      <td>13198</td>\n",
       "      <td>13198</td>\n",
       "      <td>13198</td>\n",
       "    </tr>\n",
       "    <tr>\n",
       "      <th>origin_population</th>\n",
       "      <td>301578.0</td>\n",
       "      <td>301578.0</td>\n",
       "      <td>301578.0</td>\n",
       "      <td>301578.0</td>\n",
       "      <td>301578.0</td>\n",
       "      <td>301578.0</td>\n",
       "      <td>301578.0</td>\n",
       "      <td>301578.0</td>\n",
       "      <td>301578.0</td>\n",
       "      <td>301578.0</td>\n",
       "    </tr>\n",
       "    <tr>\n",
       "      <th>destination_population</th>\n",
       "      <td>508090.0</td>\n",
       "      <td>508090.0</td>\n",
       "      <td>508090.0</td>\n",
       "      <td>508090.0</td>\n",
       "      <td>508090.0</td>\n",
       "      <td>508090.0</td>\n",
       "      <td>508090.0</td>\n",
       "      <td>508090.0</td>\n",
       "      <td>508090.0</td>\n",
       "      <td>508090.0</td>\n",
       "    </tr>\n",
       "    <tr>\n",
       "      <th>passengers</th>\n",
       "      <td>46.0</td>\n",
       "      <td>39.0</td>\n",
       "      <td>39.0</td>\n",
       "      <td>71.0</td>\n",
       "      <td>54.0</td>\n",
       "      <td>65.0</td>\n",
       "      <td>72.0</td>\n",
       "      <td>58.0</td>\n",
       "      <td>116.0</td>\n",
       "      <td>152.0</td>\n",
       "    </tr>\n",
       "    <tr>\n",
       "      <th>seats</th>\n",
       "      <td>50.0</td>\n",
       "      <td>70.0</td>\n",
       "      <td>72.0</td>\n",
       "      <td>76.0</td>\n",
       "      <td>76.0</td>\n",
       "      <td>76.0</td>\n",
       "      <td>99.0</td>\n",
       "      <td>110.0</td>\n",
       "      <td>128.0</td>\n",
       "      <td>157.0</td>\n",
       "    </tr>\n",
       "  </tbody>\n",
       "</table>\n",
       "</div>"
      ],
      "text/plain": [
       "                                     2                3                4   \\\n",
       "year                               2019             2019             2019   \n",
       "month                                10                1                8   \n",
       "origin                    St. Louis, MO    St. Louis, MO    St. Louis, MO   \n",
       "destination             Kansas City, MO  Kansas City, MO  Kansas City, MO   \n",
       "origin_airport_id                 15016            15016            11123   \n",
       "destination_airport_id            13198            13198            13341   \n",
       "origin_population              301578.0         301578.0         301578.0   \n",
       "destination_population         508090.0         508090.0         508090.0   \n",
       "passengers                         46.0             39.0             39.0   \n",
       "seats                              50.0             70.0             72.0   \n",
       "\n",
       "                                     5                6                7   \\\n",
       "year                               2019             2019             2019   \n",
       "month                                 6                1                8   \n",
       "origin                    St. Louis, MO    St. Louis, MO    St. Louis, MO   \n",
       "destination             Kansas City, MO  Kansas City, MO  Kansas City, MO   \n",
       "origin_airport_id                 15016            15016            15016   \n",
       "destination_airport_id            13198            13198            13198   \n",
       "origin_population              301578.0         301578.0         301578.0   \n",
       "destination_population         508090.0         508090.0         508090.0   \n",
       "passengers                         71.0             54.0             65.0   \n",
       "seats                              76.0             76.0             76.0   \n",
       "\n",
       "                                     8                9                10  \\\n",
       "year                               2019             2019             2019   \n",
       "month                                 1                2                5   \n",
       "origin                    St. Louis, MO    St. Louis, MO    St. Louis, MO   \n",
       "destination             Kansas City, MO  Kansas City, MO  Kansas City, MO   \n",
       "origin_airport_id                 15016            15016            15016   \n",
       "destination_airport_id            13198            13198            13198   \n",
       "origin_population              301578.0         301578.0         301578.0   \n",
       "destination_population         508090.0         508090.0         508090.0   \n",
       "passengers                         72.0             58.0            116.0   \n",
       "seats                              99.0            110.0            128.0   \n",
       "\n",
       "                                     11  \n",
       "year                               2019  \n",
       "month                                 6  \n",
       "origin                    St. Louis, MO  \n",
       "destination             Kansas City, MO  \n",
       "origin_airport_id                 15016  \n",
       "destination_airport_id            13198  \n",
       "origin_population              301578.0  \n",
       "destination_population         508090.0  \n",
       "passengers                        152.0  \n",
       "seats                             157.0  "
      ]
     },
     "execution_count": 410,
     "metadata": {},
     "output_type": "execute_result"
    }
   ],
   "source": [
    "df_dot_nonzero.head(10).T"
   ]
  },
  {
   "cell_type": "markdown",
   "id": "53f6a053-7397-4fdf-af2f-a303b7e6eb56",
   "metadata": {},
   "source": [
    "## Distance between cities"
   ]
  },
  {
   "cell_type": "code",
   "execution_count": 273,
   "id": "b7ab1207-941f-44cf-9e15-d6db78c5ee40",
   "metadata": {},
   "outputs": [],
   "source": [
    "df_city_airports_distance = df_dot_nonzero[[\"origin\", \"destination\", \"origin_airport_id\", \"destination_airport_id\", \"distance\"]]"
   ]
  },
  {
   "cell_type": "code",
   "execution_count": 274,
   "id": "273e8c45-a40f-4c9c-bf6f-26f858130e7a",
   "metadata": {},
   "outputs": [
    {
     "data": {
      "text/plain": [
       "(1956206, 5)"
      ]
     },
     "execution_count": 274,
     "metadata": {},
     "output_type": "execute_result"
    }
   ],
   "source": [
    "df_city_airports_distance.shape"
   ]
  },
  {
   "cell_type": "code",
   "execution_count": 275,
   "id": "5b67c4d5-64a9-4002-bebe-52e5a4034dda",
   "metadata": {},
   "outputs": [
    {
     "data": {
      "text/plain": [
       "(16638, 5)"
      ]
     },
     "execution_count": 275,
     "metadata": {},
     "output_type": "execute_result"
    }
   ],
   "source": [
    "df_city_airports_distance_un = df_city_airports_distance.drop_duplicates()\n",
    "df_city_airports_distance_un.shape"
   ]
  },
  {
   "cell_type": "markdown",
   "id": "7de411db-4ea8-4fe1-87d9-138b01687c88",
   "metadata": {},
   "source": [
    "### Do we have unique key [\"origin\", \"destination\", \"origin_airport_id\", \"destination_airport_id\"] ?"
   ]
  },
  {
   "cell_type": "code",
   "execution_count": 277,
   "id": "93cfcd9d-45a3-4e4e-a126-3ccef402d6a4",
   "metadata": {},
   "outputs": [
    {
     "data": {
      "text/plain": [
       "(14782, 4)"
      ]
     },
     "execution_count": 277,
     "metadata": {},
     "output_type": "execute_result"
    }
   ],
   "source": [
    "df_city_airports_distance_un[[\"origin\", \"destination\", \"origin_airport_id\", \"destination_airport_id\"]].drop_duplicates().shape"
   ]
  },
  {
   "cell_type": "markdown",
   "id": "94d60d7d-4cf9-4a5f-b090-9ec489c88bfa",
   "metadata": {},
   "source": [
    "### No, we don't. It's weird. So, we have some pairs \"origin_airport_id\", \"destination_airport_id\" with non-equal distances. Let's try to find them."
   ]
  },
  {
   "cell_type": "code",
   "execution_count": 292,
   "id": "a955b05e-23b3-4a73-9ef9-ff306eb2acb0",
   "metadata": {},
   "outputs": [],
   "source": [
    "df_std_airports = (df_city_airports_distance[[\"origin_airport_id\", \"destination_airport_id\", \"distance\"]]\n",
    "                   .groupby([\"origin_airport_id\", \"destination_airport_id\"])\n",
    "                   .std()\n",
    "                   .rename(columns={\"distance\": \"std_distance\"})\n",
    "                  )"
   ]
  },
  {
   "cell_type": "code",
   "execution_count": 293,
   "id": "8c4b8fcd-60d9-40c9-a1bb-fff8562b47f6",
   "metadata": {},
   "outputs": [
    {
     "data": {
      "text/html": [
       "<div>\n",
       "<style scoped>\n",
       "    .dataframe tbody tr th:only-of-type {\n",
       "        vertical-align: middle;\n",
       "    }\n",
       "\n",
       "    .dataframe tbody tr th {\n",
       "        vertical-align: top;\n",
       "    }\n",
       "\n",
       "    .dataframe thead th {\n",
       "        text-align: right;\n",
       "    }\n",
       "</style>\n",
       "<table border=\"1\" class=\"dataframe\">\n",
       "  <thead>\n",
       "    <tr style=\"text-align: right;\">\n",
       "      <th></th>\n",
       "      <th></th>\n",
       "      <th>std_distance</th>\n",
       "    </tr>\n",
       "    <tr>\n",
       "      <th>origin_airport_id</th>\n",
       "      <th>destination_airport_id</th>\n",
       "      <th></th>\n",
       "    </tr>\n",
       "  </thead>\n",
       "  <tbody>\n",
       "    <tr>\n",
       "      <th rowspan=\"2\" valign=\"top\">10136</th>\n",
       "      <th>10140</th>\n",
       "      <td>NaN</td>\n",
       "    </tr>\n",
       "    <tr>\n",
       "      <th>10155</th>\n",
       "      <td>0.0</td>\n",
       "    </tr>\n",
       "  </tbody>\n",
       "</table>\n",
       "</div>"
      ],
      "text/plain": [
       "                                          std_distance\n",
       "origin_airport_id destination_airport_id              \n",
       "10136             10140                            NaN\n",
       "                  10155                            0.0"
      ]
     },
     "execution_count": 293,
     "metadata": {},
     "output_type": "execute_result"
    }
   ],
   "source": [
    "df_std_airports.head(2)"
   ]
  },
  {
   "cell_type": "markdown",
   "id": "42a1da60-be94-4703-8e8b-7944b7d70788",
   "metadata": {},
   "source": [
    "### Just great. We have some nan in our table. Lets figure out how we got them."
   ]
  },
  {
   "cell_type": "code",
   "execution_count": 294,
   "id": "4d1506e4-b5f5-4c58-8e27-c443c8f13e78",
   "metadata": {},
   "outputs": [],
   "source": [
    "df_nan = df_dot_nonzero.isna()"
   ]
  },
  {
   "cell_type": "code",
   "execution_count": 295,
   "id": "f4b9284e-f926-43d7-acb4-a4bca396e3df",
   "metadata": {},
   "outputs": [
    {
     "data": {
      "text/html": [
       "<div>\n",
       "<style scoped>\n",
       "    .dataframe tbody tr th:only-of-type {\n",
       "        vertical-align: middle;\n",
       "    }\n",
       "\n",
       "    .dataframe tbody tr th {\n",
       "        vertical-align: top;\n",
       "    }\n",
       "\n",
       "    .dataframe thead th {\n",
       "        text-align: right;\n",
       "    }\n",
       "</style>\n",
       "<table border=\"1\" class=\"dataframe\">\n",
       "  <thead>\n",
       "    <tr style=\"text-align: right;\">\n",
       "      <th></th>\n",
       "      <th>year</th>\n",
       "      <th>month</th>\n",
       "      <th>origin</th>\n",
       "      <th>destination</th>\n",
       "      <th>origin_airport_id</th>\n",
       "      <th>destination_airport_id</th>\n",
       "      <th>origin_population</th>\n",
       "      <th>destination_population</th>\n",
       "      <th>passengers</th>\n",
       "      <th>distance</th>\n",
       "    </tr>\n",
       "  </thead>\n",
       "  <tbody>\n",
       "    <tr>\n",
       "      <th>31</th>\n",
       "      <td>False</td>\n",
       "      <td>False</td>\n",
       "      <td>False</td>\n",
       "      <td>False</td>\n",
       "      <td>False</td>\n",
       "      <td>False</td>\n",
       "      <td>False</td>\n",
       "      <td>False</td>\n",
       "      <td>False</td>\n",
       "      <td>False</td>\n",
       "    </tr>\n",
       "    <tr>\n",
       "      <th>32</th>\n",
       "      <td>False</td>\n",
       "      <td>False</td>\n",
       "      <td>False</td>\n",
       "      <td>False</td>\n",
       "      <td>False</td>\n",
       "      <td>False</td>\n",
       "      <td>False</td>\n",
       "      <td>False</td>\n",
       "      <td>False</td>\n",
       "      <td>False</td>\n",
       "    </tr>\n",
       "  </tbody>\n",
       "</table>\n",
       "</div>"
      ],
      "text/plain": [
       "     year  month  origin  destination  origin_airport_id  \\\n",
       "31  False  False   False        False              False   \n",
       "32  False  False   False        False              False   \n",
       "\n",
       "    destination_airport_id  origin_population  destination_population  \\\n",
       "31                   False              False                   False   \n",
       "32                   False              False                   False   \n",
       "\n",
       "    passengers  distance  \n",
       "31       False     False  \n",
       "32       False     False  "
      ]
     },
     "execution_count": 295,
     "metadata": {},
     "output_type": "execute_result"
    }
   ],
   "source": [
    "df_nan.head(2)"
   ]
  },
  {
   "cell_type": "code",
   "execution_count": 296,
   "id": "b81e82dc-37ec-4c87-869f-bc26c51eee2b",
   "metadata": {},
   "outputs": [
    {
     "data": {
      "text/plain": [
       "year                      0\n",
       "month                     0\n",
       "origin                    0\n",
       "destination               0\n",
       "origin_airport_id         0\n",
       "destination_airport_id    0\n",
       "origin_population         0\n",
       "destination_population    0\n",
       "passengers                0\n",
       "distance                  0\n",
       "dtype: int64"
      ]
     },
     "execution_count": 296,
     "metadata": {},
     "output_type": "execute_result"
    }
   ],
   "source": [
    "df_nan.sum()"
   ]
  },
  {
   "cell_type": "markdown",
   "id": "0ec23b50-2e68-4cce-bc99-ed96772d723b",
   "metadata": {},
   "source": [
    "### There is no nan in table. Nan is for groups with one record only. We can safely filter them out "
   ]
  },
  {
   "cell_type": "code",
   "execution_count": 297,
   "id": "f4360b4a-9dcb-4752-951a-6a1ba0706296",
   "metadata": {},
   "outputs": [
    {
     "data": {
      "text/plain": [
       "(14782, 1)"
      ]
     },
     "execution_count": 297,
     "metadata": {},
     "output_type": "execute_result"
    }
   ],
   "source": [
    "df_std_airports.shape"
   ]
  },
  {
   "cell_type": "code",
   "execution_count": 298,
   "id": "787efaab-7631-4bbb-b8b6-4b599a433caf",
   "metadata": {},
   "outputs": [],
   "source": [
    "df_std_airports.dropna(inplace=True)"
   ]
  },
  {
   "cell_type": "code",
   "execution_count": 299,
   "id": "d8b11f09-d2a4-4ddd-8b00-5ff68552c219",
   "metadata": {},
   "outputs": [
    {
     "data": {
      "text/plain": [
       "(10863, 1)"
      ]
     },
     "execution_count": 299,
     "metadata": {},
     "output_type": "execute_result"
    }
   ],
   "source": [
    "df_std_airports.shape"
   ]
  },
  {
   "cell_type": "code",
   "execution_count": 300,
   "id": "c957f993-c80d-4e45-865e-eb9e410f6f66",
   "metadata": {},
   "outputs": [
    {
     "data": {
      "text/html": [
       "<div>\n",
       "<style scoped>\n",
       "    .dataframe tbody tr th:only-of-type {\n",
       "        vertical-align: middle;\n",
       "    }\n",
       "\n",
       "    .dataframe tbody tr th {\n",
       "        vertical-align: top;\n",
       "    }\n",
       "\n",
       "    .dataframe thead th {\n",
       "        text-align: right;\n",
       "    }\n",
       "</style>\n",
       "<table border=\"1\" class=\"dataframe\">\n",
       "  <thead>\n",
       "    <tr style=\"text-align: right;\">\n",
       "      <th></th>\n",
       "      <th></th>\n",
       "      <th>std_distance</th>\n",
       "    </tr>\n",
       "    <tr>\n",
       "      <th>origin_airport_id</th>\n",
       "      <th>destination_airport_id</th>\n",
       "      <th></th>\n",
       "    </tr>\n",
       "  </thead>\n",
       "  <tbody>\n",
       "    <tr>\n",
       "      <th rowspan=\"2\" valign=\"top\">10136</th>\n",
       "      <th>10155</th>\n",
       "      <td>0.000000</td>\n",
       "    </tr>\n",
       "    <tr>\n",
       "      <th>10279</th>\n",
       "      <td>0.403113</td>\n",
       "    </tr>\n",
       "  </tbody>\n",
       "</table>\n",
       "</div>"
      ],
      "text/plain": [
       "                                          std_distance\n",
       "origin_airport_id destination_airport_id              \n",
       "10136             10155                       0.000000\n",
       "                  10279                       0.403113"
      ]
     },
     "execution_count": 300,
     "metadata": {},
     "output_type": "execute_result"
    }
   ],
   "source": [
    "df_std_airports.head(2)"
   ]
  },
  {
   "cell_type": "code",
   "execution_count": 302,
   "id": "ed9ba235-39ff-4842-9ad3-cb685077a5af",
   "metadata": {},
   "outputs": [
    {
     "data": {
      "text/plain": [
       "<AxesSubplot:>"
      ]
     },
     "execution_count": 302,
     "metadata": {},
     "output_type": "execute_result"
    },
    {
     "data": {
      "image/png": "[encoded data removed]",
      "text/plain": [
       "<Figure size 432x288 with 1 Axes>"
      ]
     },
     "metadata": {
      "needs_background": "light"
     },
     "output_type": "display_data"
    }
   ],
   "source": [
    "df_std_airports[\"std_distance\"].hist(bins=100)"
   ]
  },
  {
   "cell_type": "code",
   "execution_count": 305,
   "id": "ac256f50-9c96-49e2-b62a-f6c5ed3b2480",
   "metadata": {},
   "outputs": [
    {
     "data": {
      "image/png": "[encoded data removed]",
      "text/plain": [
       "<Figure size 432x288 with 1 Axes>"
      ]
     },
     "metadata": {
      "needs_background": "light"
     },
     "output_type": "display_data"
    }
   ],
   "source": [
    "df_std_airports[\"std_distance\"].hist(bins=100)\n",
    "plt.yscale(\"log\")"
   ]
  },
  {
   "cell_type": "markdown",
   "id": "aacc776a-f9f2-4d6e-bd78-628196eedee8",
   "metadata": {},
   "source": [
    "## I'm not quite happy with this result because I expected just the same distance between two airports, but 0.4 km looks like negligible deviation"
   ]
  },
  {
   "cell_type": "markdown",
   "id": "d449c598-d1ed-4972-918a-3620aa0c3271",
   "metadata": {},
   "source": [
    "## Factor: Mean distance between two cities"
   ]
  },
  {
   "cell_type": "code",
   "execution_count": 308,
   "id": "59d97ed6-dbd0-4bd7-8b28-a2d2bdc6be25",
   "metadata": {},
   "outputs": [],
   "source": [
    "df_city_distance = (df_city_airports_distance[[\"origin\", \"destination\", \"distance\"]]\n",
    " .groupby([\"origin\", \"destination\"], as_index=False)[\"distance\"].mean()\n",
    ")"
   ]
  },
  {
   "cell_type": "code",
   "execution_count": 309,
   "id": "4be4a8fe-0f50-46b6-9b77-74d282c6f5c9",
   "metadata": {},
   "outputs": [
    {
     "data": {
      "text/html": [
       "<div>\n",
       "<style scoped>\n",
       "    .dataframe tbody tr th:only-of-type {\n",
       "        vertical-align: middle;\n",
       "    }\n",
       "\n",
       "    .dataframe tbody tr th {\n",
       "        vertical-align: top;\n",
       "    }\n",
       "\n",
       "    .dataframe thead th {\n",
       "        text-align: right;\n",
       "    }\n",
       "</style>\n",
       "<table border=\"1\" class=\"dataframe\">\n",
       "  <thead>\n",
       "    <tr style=\"text-align: right;\">\n",
       "      <th></th>\n",
       "      <th>0</th>\n",
       "      <th>1</th>\n",
       "      <th>2</th>\n",
       "      <th>3</th>\n",
       "      <th>4</th>\n",
       "      <th>5</th>\n",
       "      <th>6</th>\n",
       "      <th>7</th>\n",
       "      <th>8</th>\n",
       "      <th>9</th>\n",
       "    </tr>\n",
       "  </thead>\n",
       "  <tbody>\n",
       "    <tr>\n",
       "      <th>origin</th>\n",
       "      <td>Abilene, TX</td>\n",
       "      <td>Abilene, TX</td>\n",
       "      <td>Abilene, TX</td>\n",
       "      <td>Abilene, TX</td>\n",
       "      <td>Abilene, TX</td>\n",
       "      <td>Abilene, TX</td>\n",
       "      <td>Abilene, TX</td>\n",
       "      <td>Abilene, TX</td>\n",
       "      <td>Abilene, TX</td>\n",
       "      <td>Abilene, TX</td>\n",
       "    </tr>\n",
       "    <tr>\n",
       "      <th>destination</th>\n",
       "      <td>Albuquerque, NM</td>\n",
       "      <td>Amarillo, TX</td>\n",
       "      <td>Atlanta, GA</td>\n",
       "      <td>Austin, TX</td>\n",
       "      <td>Birmingham, AL</td>\n",
       "      <td>Brownsville, TX</td>\n",
       "      <td>Burbank, CA</td>\n",
       "      <td>Colorado Springs, CO</td>\n",
       "      <td>Columbus, GA</td>\n",
       "      <td>Corpus Christi, TX</td>\n",
       "    </tr>\n",
       "    <tr>\n",
       "      <th>distance</th>\n",
       "      <td>438.0</td>\n",
       "      <td>226.1875</td>\n",
       "      <td>889.0</td>\n",
       "      <td>194.0</td>\n",
       "      <td>755.0</td>\n",
       "      <td>468.0</td>\n",
       "      <td>1086.0</td>\n",
       "      <td>523.0</td>\n",
       "      <td>861.0</td>\n",
       "      <td>345.0</td>\n",
       "    </tr>\n",
       "  </tbody>\n",
       "</table>\n",
       "</div>"
      ],
      "text/plain": [
       "                           0             1            2            3  \\\n",
       "origin           Abilene, TX   Abilene, TX  Abilene, TX  Abilene, TX   \n",
       "destination  Albuquerque, NM  Amarillo, TX  Atlanta, GA   Austin, TX   \n",
       "distance               438.0      226.1875        889.0        194.0   \n",
       "\n",
       "                          4                5            6  \\\n",
       "origin          Abilene, TX      Abilene, TX  Abilene, TX   \n",
       "destination  Birmingham, AL  Brownsville, TX  Burbank, CA   \n",
       "distance              755.0            468.0       1086.0   \n",
       "\n",
       "                                7             8                   9  \n",
       "origin                Abilene, TX   Abilene, TX         Abilene, TX  \n",
       "destination  Colorado Springs, CO  Columbus, GA  Corpus Christi, TX  \n",
       "distance                    523.0         861.0               345.0  "
      ]
     },
     "execution_count": 309,
     "metadata": {},
     "output_type": "execute_result"
    }
   ],
   "source": [
    "df_city_distance.head(10).T"
   ]
  },
  {
   "cell_type": "code",
   "execution_count": 310,
   "id": "8d1d90c5-4daa-40a0-8886-c5a74af755a9",
   "metadata": {},
   "outputs": [
    {
     "data": {
      "text/plain": [
       "(11558, 3)"
      ]
     },
     "execution_count": 310,
     "metadata": {},
     "output_type": "execute_result"
    }
   ],
   "source": [
    "df_city_distance.shape"
   ]
  },
  {
   "cell_type": "code",
   "execution_count": 311,
   "id": "519416f0-19df-4397-9b4f-cf30d111e7e7",
   "metadata": {},
   "outputs": [
    {
     "data": {
      "text/plain": [
       "(173,)"
      ]
     },
     "execution_count": 311,
     "metadata": {},
     "output_type": "execute_result"
    }
   ],
   "source": [
    "df_city_distance[\"origin\"].drop_duplicates().shape"
   ]
  },
  {
   "cell_type": "code",
   "execution_count": 312,
   "id": "1e8f5855-70ef-47dc-bd7d-5ebd94f13670",
   "metadata": {},
   "outputs": [
    {
     "data": {
      "text/plain": [
       "(171,)"
      ]
     },
     "execution_count": 312,
     "metadata": {},
     "output_type": "execute_result"
    }
   ],
   "source": [
    "df_city_distance[\"destination\"].drop_duplicates().shape"
   ]
  },
  {
   "cell_type": "code",
   "execution_count": 400,
   "id": "840e4aa8-a705-416c-8c8a-817f006359f4",
   "metadata": {},
   "outputs": [],
   "source": [
    "df_city_distance.to_parquet(\"/home/tass/database/app_in_the_air/demand_predictions/dot_raw/city_distances\")"
   ]
  },
  {
   "cell_type": "markdown",
   "id": "1094ea6b-0a80-4091-9c4a-db03a40390c4",
   "metadata": {},
   "source": [
    "### Results: 173 cities, 11558 city markets"
   ]
  },
  {
   "cell_type": "markdown",
   "id": "a97fa554-276c-4fbf-b77d-286771bedd9f",
   "metadata": {},
   "source": [
    "## Join city distances"
   ]
  },
  {
   "cell_type": "code",
   "execution_count": 411,
   "id": "10dde88f-0ef3-4a3e-9a02-463df20da6c7",
   "metadata": {},
   "outputs": [],
   "source": [
    "df_dot_with_distances = df_dot_nonzero.merge(df_city_distance, on=[\"origin\", \"destination\"])"
   ]
  },
  {
   "cell_type": "code",
   "execution_count": 412,
   "id": "71cd40e9-598e-4149-91d8-556cbad26fae",
   "metadata": {},
   "outputs": [
    {
     "data": {
      "text/html": [
       "<div>\n",
       "<style scoped>\n",
       "    .dataframe tbody tr th:only-of-type {\n",
       "        vertical-align: middle;\n",
       "    }\n",
       "\n",
       "    .dataframe tbody tr th {\n",
       "        vertical-align: top;\n",
       "    }\n",
       "\n",
       "    .dataframe thead th {\n",
       "        text-align: right;\n",
       "    }\n",
       "</style>\n",
       "<table border=\"1\" class=\"dataframe\">\n",
       "  <thead>\n",
       "    <tr style=\"text-align: right;\">\n",
       "      <th></th>\n",
       "      <th>year</th>\n",
       "      <th>month</th>\n",
       "      <th>origin</th>\n",
       "      <th>destination</th>\n",
       "      <th>origin_airport_id</th>\n",
       "      <th>destination_airport_id</th>\n",
       "      <th>origin_population</th>\n",
       "      <th>destination_population</th>\n",
       "      <th>passengers</th>\n",
       "      <th>seats</th>\n",
       "      <th>distance</th>\n",
       "    </tr>\n",
       "  </thead>\n",
       "  <tbody>\n",
       "    <tr>\n",
       "      <th>0</th>\n",
       "      <td>2019</td>\n",
       "      <td>10</td>\n",
       "      <td>St. Louis, MO</td>\n",
       "      <td>Kansas City, MO</td>\n",
       "      <td>15016</td>\n",
       "      <td>13198</td>\n",
       "      <td>301578.0</td>\n",
       "      <td>508090.0</td>\n",
       "      <td>46.0</td>\n",
       "      <td>50.0</td>\n",
       "      <td>236.799639</td>\n",
       "    </tr>\n",
       "    <tr>\n",
       "      <th>1</th>\n",
       "      <td>2019</td>\n",
       "      <td>1</td>\n",
       "      <td>St. Louis, MO</td>\n",
       "      <td>Kansas City, MO</td>\n",
       "      <td>15016</td>\n",
       "      <td>13198</td>\n",
       "      <td>301578.0</td>\n",
       "      <td>508090.0</td>\n",
       "      <td>39.0</td>\n",
       "      <td>70.0</td>\n",
       "      <td>236.799639</td>\n",
       "    </tr>\n",
       "  </tbody>\n",
       "</table>\n",
       "</div>"
      ],
      "text/plain": [
       "   year  month         origin      destination  origin_airport_id  \\\n",
       "0  2019     10  St. Louis, MO  Kansas City, MO              15016   \n",
       "1  2019      1  St. Louis, MO  Kansas City, MO              15016   \n",
       "\n",
       "   destination_airport_id  origin_population  destination_population  \\\n",
       "0                   13198           301578.0                508090.0   \n",
       "1                   13198           301578.0                508090.0   \n",
       "\n",
       "   passengers  seats    distance  \n",
       "0        46.0   50.0  236.799639  \n",
       "1        39.0   70.0  236.799639  "
      ]
     },
     "execution_count": 412,
     "metadata": {},
     "output_type": "execute_result"
    }
   ],
   "source": [
    "df_dot_with_distances.head(2)"
   ]
  },
  {
   "cell_type": "code",
   "execution_count": 413,
   "id": "240ccfa5-2335-45e5-bef3-4fc012294c0e",
   "metadata": {},
   "outputs": [
    {
     "data": {
      "text/plain": [
       "(1694552, 11)"
      ]
     },
     "execution_count": 413,
     "metadata": {},
     "output_type": "execute_result"
    }
   ],
   "source": [
    "df_dot_with_distances.shape"
   ]
  },
  {
   "cell_type": "markdown",
   "id": "2c1e4b82-c54a-4ce4-b7a0-696bff927966",
   "metadata": {},
   "source": [
    "## Factor: origin and destination population"
   ]
  },
  {
   "cell_type": "code",
   "execution_count": 414,
   "id": "5d9e7765-d4bf-4cb8-9e13-9279d6eb1eb2",
   "metadata": {},
   "outputs": [
    {
     "data": {
      "text/html": [
       "<div>\n",
       "<style scoped>\n",
       "    .dataframe tbody tr th:only-of-type {\n",
       "        vertical-align: middle;\n",
       "    }\n",
       "\n",
       "    .dataframe tbody tr th {\n",
       "        vertical-align: top;\n",
       "    }\n",
       "\n",
       "    .dataframe thead th {\n",
       "        text-align: right;\n",
       "    }\n",
       "</style>\n",
       "<table border=\"1\" class=\"dataframe\">\n",
       "  <thead>\n",
       "    <tr style=\"text-align: right;\">\n",
       "      <th></th>\n",
       "      <th>0</th>\n",
       "      <th>1</th>\n",
       "    </tr>\n",
       "  </thead>\n",
       "  <tbody>\n",
       "    <tr>\n",
       "      <th>year</th>\n",
       "      <td>2019</td>\n",
       "      <td>2019</td>\n",
       "    </tr>\n",
       "    <tr>\n",
       "      <th>month</th>\n",
       "      <td>10</td>\n",
       "      <td>1</td>\n",
       "    </tr>\n",
       "    <tr>\n",
       "      <th>origin</th>\n",
       "      <td>St. Louis, MO</td>\n",
       "      <td>St. Louis, MO</td>\n",
       "    </tr>\n",
       "    <tr>\n",
       "      <th>destination</th>\n",
       "      <td>Kansas City, MO</td>\n",
       "      <td>Kansas City, MO</td>\n",
       "    </tr>\n",
       "    <tr>\n",
       "      <th>origin_airport_id</th>\n",
       "      <td>15016</td>\n",
       "      <td>15016</td>\n",
       "    </tr>\n",
       "    <tr>\n",
       "      <th>destination_airport_id</th>\n",
       "      <td>13198</td>\n",
       "      <td>13198</td>\n",
       "    </tr>\n",
       "    <tr>\n",
       "      <th>origin_population</th>\n",
       "      <td>301578.0</td>\n",
       "      <td>301578.0</td>\n",
       "    </tr>\n",
       "    <tr>\n",
       "      <th>destination_population</th>\n",
       "      <td>508090.0</td>\n",
       "      <td>508090.0</td>\n",
       "    </tr>\n",
       "    <tr>\n",
       "      <th>passengers</th>\n",
       "      <td>46.0</td>\n",
       "      <td>39.0</td>\n",
       "    </tr>\n",
       "    <tr>\n",
       "      <th>seats</th>\n",
       "      <td>50.0</td>\n",
       "      <td>70.0</td>\n",
       "    </tr>\n",
       "    <tr>\n",
       "      <th>distance</th>\n",
       "      <td>236.799639</td>\n",
       "      <td>236.799639</td>\n",
       "    </tr>\n",
       "  </tbody>\n",
       "</table>\n",
       "</div>"
      ],
      "text/plain": [
       "                                      0                1\n",
       "year                               2019             2019\n",
       "month                                10                1\n",
       "origin                    St. Louis, MO    St. Louis, MO\n",
       "destination             Kansas City, MO  Kansas City, MO\n",
       "origin_airport_id                 15016            15016\n",
       "destination_airport_id            13198            13198\n",
       "origin_population              301578.0         301578.0\n",
       "destination_population         508090.0         508090.0\n",
       "passengers                         46.0             39.0\n",
       "seats                              50.0             70.0\n",
       "distance                     236.799639       236.799639"
      ]
     },
     "execution_count": 414,
     "metadata": {},
     "output_type": "execute_result"
    }
   ],
   "source": [
    "df_dot_with_distances.head(2).T"
   ]
  },
  {
   "cell_type": "markdown",
   "id": "f6befd79-e13c-4b35-9676-7fb2dcde12c9",
   "metadata": {},
   "source": [
    "### We already have, no need to recalculate."
   ]
  },
  {
   "cell_type": "markdown",
   "id": "c51da9a9-72e1-4ae0-ac64-2b16ac001ccd",
   "metadata": {},
   "source": [
    "# Predict load factor for a market"
   ]
  },
  {
   "cell_type": "markdown",
   "id": "74ed6c91-27d7-4585-af65-883070a8b9db",
   "metadata": {},
   "source": [
    "## The idea"
   ]
  },
  {
   "cell_type": "markdown",
   "id": "d5921c8f-2947-444a-81d6-9ca74f3d477e",
   "metadata": {},
   "source": [
    "### We have load factor of passengers/seats. Hypothesis is that there is a correlation between geographical parameters of markets and the load factor of a market"
   ]
  },
  {
   "cell_type": "markdown",
   "id": "4649c870-9708-477d-b1bb-32d2f3dd38a4",
   "metadata": {},
   "source": [
    "## Average load factor for 2019"
   ]
  },
  {
   "cell_type": "code",
   "execution_count": 416,
   "id": "2d8e6a3c-aca9-4651-8451-1dbbaa8ff58e",
   "metadata": {},
   "outputs": [],
   "source": [
    "df_group_seats_passengers = df_dot_with_distances.query(\"year == 2019\")[[\"origin\", \"destination\", \"passengers\", \"seats\"]].groupby([\"origin\", \"destination\"], as_index=False).sum()"
   ]
  },
  {
   "cell_type": "code",
   "execution_count": 417,
   "id": "c1e2107a-ebb9-4573-af2d-c38183ec1fe9",
   "metadata": {},
   "outputs": [],
   "source": [
    "df_group_seats_passengers = df_group_seats_passengers.assign(load_factor=df_group_seats_passengers[\"passengers\"] / df_group_seats_passengers[\"seats\"])"
   ]
  },
  {
   "cell_type": "code",
   "execution_count": 422,
   "id": "c38a6e13-d8ed-410b-b451-96943a671cb2",
   "metadata": {},
   "outputs": [
    {
     "data": {
      "text/plain": [
       "<AxesSubplot:ylabel='Frequency'>"
      ]
     },
     "execution_count": 422,
     "metadata": {},
     "output_type": "execute_result"
    },
    {
     "data": {
      "image/png": "[encoded data removed]",
      "text/plain": [
       "<Figure size 432x288 with 1 Axes>"
      ]
     },
     "metadata": {
      "needs_background": "light"
     },
     "output_type": "display_data"
    }
   ],
   "source": [
    "df_group_seats_passengers.plot(y=\"load_factor\", kind=\"hist\", bins=100)"
   ]
  },
  {
   "cell_type": "code",
   "execution_count": 423,
   "id": "ac7b79ce-8bc7-4114-b66f-85f17cd9e959",
   "metadata": {},
   "outputs": [
    {
     "data": {
      "text/html": [
       "<div>\n",
       "<style scoped>\n",
       "    .dataframe tbody tr th:only-of-type {\n",
       "        vertical-align: middle;\n",
       "    }\n",
       "\n",
       "    .dataframe tbody tr th {\n",
       "        vertical-align: top;\n",
       "    }\n",
       "\n",
       "    .dataframe thead th {\n",
       "        text-align: right;\n",
       "    }\n",
       "</style>\n",
       "<table border=\"1\" class=\"dataframe\">\n",
       "  <thead>\n",
       "    <tr style=\"text-align: right;\">\n",
       "      <th></th>\n",
       "      <th>0</th>\n",
       "      <th>1</th>\n",
       "    </tr>\n",
       "  </thead>\n",
       "  <tbody>\n",
       "    <tr>\n",
       "      <th>origin</th>\n",
       "      <td>Abilene, TX</td>\n",
       "      <td>Abilene, TX</td>\n",
       "    </tr>\n",
       "    <tr>\n",
       "      <th>destination</th>\n",
       "      <td>Austin, TX</td>\n",
       "      <td>Dallas, TX</td>\n",
       "    </tr>\n",
       "    <tr>\n",
       "      <th>passengers</th>\n",
       "      <td>168.0</td>\n",
       "      <td>49.0</td>\n",
       "    </tr>\n",
       "    <tr>\n",
       "      <th>seats</th>\n",
       "      <td>310.0</td>\n",
       "      <td>143.0</td>\n",
       "    </tr>\n",
       "    <tr>\n",
       "      <th>load_factor</th>\n",
       "      <td>0.541935</td>\n",
       "      <td>0.342657</td>\n",
       "    </tr>\n",
       "  </tbody>\n",
       "</table>\n",
       "</div>"
      ],
      "text/plain": [
       "                       0            1\n",
       "origin       Abilene, TX  Abilene, TX\n",
       "destination   Austin, TX   Dallas, TX\n",
       "passengers         168.0         49.0\n",
       "seats              310.0        143.0\n",
       "load_factor     0.541935     0.342657"
      ]
     },
     "execution_count": 423,
     "metadata": {},
     "output_type": "execute_result"
    }
   ],
   "source": [
    "df_group_seats_passengers.head(2).T"
   ]
  },
  {
   "cell_type": "code",
   "execution_count": 424,
   "id": "d59ce87c-ad9b-44d2-81a9-0cfe25e95bea",
   "metadata": {},
   "outputs": [
    {
     "data": {
      "text/html": [
       "<div>\n",
       "<style scoped>\n",
       "    .dataframe tbody tr th:only-of-type {\n",
       "        vertical-align: middle;\n",
       "    }\n",
       "\n",
       "    .dataframe tbody tr th {\n",
       "        vertical-align: top;\n",
       "    }\n",
       "\n",
       "    .dataframe thead th {\n",
       "        text-align: right;\n",
       "    }\n",
       "</style>\n",
       "<table border=\"1\" class=\"dataframe\">\n",
       "  <thead>\n",
       "    <tr style=\"text-align: right;\">\n",
       "      <th></th>\n",
       "      <th>62313</th>\n",
       "      <th>62314</th>\n",
       "    </tr>\n",
       "  </thead>\n",
       "  <tbody>\n",
       "    <tr>\n",
       "      <th>city</th>\n",
       "      <td>Abilene, TX</td>\n",
       "      <td>Akron, OH</td>\n",
       "    </tr>\n",
       "    <tr>\n",
       "      <th>population</th>\n",
       "      <td>125182.0</td>\n",
       "      <td>190469.0</td>\n",
       "    </tr>\n",
       "  </tbody>\n",
       "</table>\n",
       "</div>"
      ],
      "text/plain": [
       "                  62313      62314\n",
       "city        Abilene, TX  Akron, OH\n",
       "population     125182.0   190469.0"
      ]
     },
     "execution_count": 424,
     "metadata": {},
     "output_type": "execute_result"
    }
   ],
   "source": [
    "df_population.head(2).T"
   ]
  },
  {
   "cell_type": "code",
   "execution_count": 442,
   "id": "efac913a-0d34-4bf8-ae31-94603cb1f8d4",
   "metadata": {},
   "outputs": [],
   "source": [
    "df_dataset = (df_group_seats_passengers              \n",
    "              .merge(df_population, left_on=\"origin\", right_on=\"city\").rename(columns={\"population\": \"population_origin\"})\n",
    "              .merge(df_population, left_on=\"destination\", right_on=\"city\").rename(columns={\"population\": \"population_destination\"}) \n",
    "              .drop(columns=[\"city_x\", \"city_y\"])\n",
    "              .merge(df_city_distance, on=[\"origin\", \"destination\"])\n",
    "             )"
   ]
  },
  {
   "cell_type": "code",
   "execution_count": 443,
   "id": "2772ff63-b159-4526-8194-d24bf8738a72",
   "metadata": {},
   "outputs": [
    {
     "data": {
      "text/html": [
       "<div>\n",
       "<style scoped>\n",
       "    .dataframe tbody tr th:only-of-type {\n",
       "        vertical-align: middle;\n",
       "    }\n",
       "\n",
       "    .dataframe tbody tr th {\n",
       "        vertical-align: top;\n",
       "    }\n",
       "\n",
       "    .dataframe thead th {\n",
       "        text-align: right;\n",
       "    }\n",
       "</style>\n",
       "<table border=\"1\" class=\"dataframe\">\n",
       "  <thead>\n",
       "    <tr style=\"text-align: right;\">\n",
       "      <th></th>\n",
       "      <th>0</th>\n",
       "      <th>1</th>\n",
       "    </tr>\n",
       "  </thead>\n",
       "  <tbody>\n",
       "    <tr>\n",
       "      <th>origin</th>\n",
       "      <td>Abilene, TX</td>\n",
       "      <td>Akron, OH</td>\n",
       "    </tr>\n",
       "    <tr>\n",
       "      <th>destination</th>\n",
       "      <td>Austin, TX</td>\n",
       "      <td>Austin, TX</td>\n",
       "    </tr>\n",
       "    <tr>\n",
       "      <th>passengers</th>\n",
       "      <td>168.0</td>\n",
       "      <td>121.0</td>\n",
       "    </tr>\n",
       "    <tr>\n",
       "      <th>seats</th>\n",
       "      <td>310.0</td>\n",
       "      <td>126.0</td>\n",
       "    </tr>\n",
       "    <tr>\n",
       "      <th>load_factor</th>\n",
       "      <td>0.541935</td>\n",
       "      <td>0.960317</td>\n",
       "    </tr>\n",
       "    <tr>\n",
       "      <th>population_origin</th>\n",
       "      <td>125182.0</td>\n",
       "      <td>190469.0</td>\n",
       "    </tr>\n",
       "    <tr>\n",
       "      <th>population_destination</th>\n",
       "      <td>961855.0</td>\n",
       "      <td>961855.0</td>\n",
       "    </tr>\n",
       "    <tr>\n",
       "      <th>distance</th>\n",
       "      <td>194.0</td>\n",
       "      <td>1172.0</td>\n",
       "    </tr>\n",
       "  </tbody>\n",
       "</table>\n",
       "</div>"
      ],
      "text/plain": [
       "                                  0           1\n",
       "origin                  Abilene, TX   Akron, OH\n",
       "destination              Austin, TX  Austin, TX\n",
       "passengers                    168.0       121.0\n",
       "seats                         310.0       126.0\n",
       "load_factor                0.541935    0.960317\n",
       "population_origin          125182.0    190469.0\n",
       "population_destination     961855.0    961855.0\n",
       "distance                      194.0      1172.0"
      ]
     },
     "execution_count": 443,
     "metadata": {},
     "output_type": "execute_result"
    }
   ],
   "source": [
    "df_dataset.head(2).T"
   ]
  },
  {
   "cell_type": "code",
   "execution_count": 444,
   "id": "25e5fbaf-bac1-4792-8f7e-cc3a6ab7b6e7",
   "metadata": {},
   "outputs": [
    {
     "data": {
      "text/plain": [
       "(5714, 8)"
      ]
     },
     "execution_count": 444,
     "metadata": {},
     "output_type": "execute_result"
    }
   ],
   "source": [
    "df_dataset.shape"
   ]
  },
  {
   "cell_type": "code",
   "execution_count": 446,
   "id": "edfbaa72-5c4a-46cf-a5ad-d133f1d08021",
   "metadata": {},
   "outputs": [],
   "source": [
    "df_dataset.set_index([\"origin\", \"destination\"], inplace=True)"
   ]
  },
  {
   "cell_type": "code",
   "execution_count": 447,
   "id": "4c8fc923-79b4-4151-9add-ced821b6a43d",
   "metadata": {},
   "outputs": [
    {
     "data": {
      "text/html": [
       "<div>\n",
       "<style scoped>\n",
       "    .dataframe tbody tr th:only-of-type {\n",
       "        vertical-align: middle;\n",
       "    }\n",
       "\n",
       "    .dataframe tbody tr th {\n",
       "        vertical-align: top;\n",
       "    }\n",
       "\n",
       "    .dataframe thead th {\n",
       "        text-align: right;\n",
       "    }\n",
       "</style>\n",
       "<table border=\"1\" class=\"dataframe\">\n",
       "  <thead>\n",
       "    <tr style=\"text-align: right;\">\n",
       "      <th></th>\n",
       "      <th></th>\n",
       "      <th>passengers</th>\n",
       "      <th>seats</th>\n",
       "      <th>load_factor</th>\n",
       "      <th>population_origin</th>\n",
       "      <th>population_destination</th>\n",
       "      <th>distance</th>\n",
       "    </tr>\n",
       "    <tr>\n",
       "      <th>origin</th>\n",
       "      <th>destination</th>\n",
       "      <th></th>\n",
       "      <th></th>\n",
       "      <th></th>\n",
       "      <th></th>\n",
       "      <th></th>\n",
       "      <th></th>\n",
       "    </tr>\n",
       "  </thead>\n",
       "  <tbody>\n",
       "    <tr>\n",
       "      <th>Abilene, TX</th>\n",
       "      <th>Austin, TX</th>\n",
       "      <td>168.0</td>\n",
       "      <td>310.0</td>\n",
       "      <td>0.541935</td>\n",
       "      <td>125182.0</td>\n",
       "      <td>961855.0</td>\n",
       "      <td>194.0</td>\n",
       "    </tr>\n",
       "    <tr>\n",
       "      <th>Akron, OH</th>\n",
       "      <th>Austin, TX</th>\n",
       "      <td>121.0</td>\n",
       "      <td>126.0</td>\n",
       "      <td>0.960317</td>\n",
       "      <td>190469.0</td>\n",
       "      <td>961855.0</td>\n",
       "      <td>1172.0</td>\n",
       "    </tr>\n",
       "  </tbody>\n",
       "</table>\n",
       "</div>"
      ],
      "text/plain": [
       "                         passengers  seats  load_factor  population_origin  \\\n",
       "origin      destination                                                      \n",
       "Abilene, TX Austin, TX        168.0  310.0     0.541935           125182.0   \n",
       "Akron, OH   Austin, TX        121.0  126.0     0.960317           190469.0   \n",
       "\n",
       "                         population_destination  distance  \n",
       "origin      destination                                    \n",
       "Abilene, TX Austin, TX                 961855.0     194.0  \n",
       "Akron, OH   Austin, TX                 961855.0    1172.0  "
      ]
     },
     "execution_count": 447,
     "metadata": {},
     "output_type": "execute_result"
    }
   ],
   "source": [
    "df_dataset.head(2)"
   ]
  },
  {
   "cell_type": "code",
   "execution_count": 449,
   "id": "8391d318-89a8-446d-9c97-adfc4eb6bf9f",
   "metadata": {},
   "outputs": [],
   "source": [
    "df_to_learn = df_dataset[[\"population_origin\", \"population_destination\", \"distance\", \"load_factor\"]]"
   ]
  },
  {
   "cell_type": "code",
   "execution_count": 450,
   "id": "460ed8ab-e365-48d6-879a-7234df1e0fc3",
   "metadata": {},
   "outputs": [
    {
     "data": {
      "text/html": [
       "<div>\n",
       "<style scoped>\n",
       "    .dataframe tbody tr th:only-of-type {\n",
       "        vertical-align: middle;\n",
       "    }\n",
       "\n",
       "    .dataframe tbody tr th {\n",
       "        vertical-align: top;\n",
       "    }\n",
       "\n",
       "    .dataframe thead th {\n",
       "        text-align: right;\n",
       "    }\n",
       "</style>\n",
       "<table border=\"1\" class=\"dataframe\">\n",
       "  <thead>\n",
       "    <tr style=\"text-align: right;\">\n",
       "      <th></th>\n",
       "      <th></th>\n",
       "      <th>population_origin</th>\n",
       "      <th>population_destination</th>\n",
       "      <th>distance</th>\n",
       "      <th>load_factor</th>\n",
       "    </tr>\n",
       "    <tr>\n",
       "      <th>origin</th>\n",
       "      <th>destination</th>\n",
       "      <th></th>\n",
       "      <th></th>\n",
       "      <th></th>\n",
       "      <th></th>\n",
       "    </tr>\n",
       "  </thead>\n",
       "  <tbody>\n",
       "    <tr>\n",
       "      <th>Abilene, TX</th>\n",
       "      <th>Austin, TX</th>\n",
       "      <td>125182.0</td>\n",
       "      <td>961855.0</td>\n",
       "      <td>194.0</td>\n",
       "      <td>0.541935</td>\n",
       "    </tr>\n",
       "    <tr>\n",
       "      <th>Akron, OH</th>\n",
       "      <th>Austin, TX</th>\n",
       "      <td>190469.0</td>\n",
       "      <td>961855.0</td>\n",
       "      <td>1172.0</td>\n",
       "      <td>0.960317</td>\n",
       "    </tr>\n",
       "  </tbody>\n",
       "</table>\n",
       "</div>"
      ],
      "text/plain": [
       "                         population_origin  population_destination  distance  \\\n",
       "origin      destination                                                        \n",
       "Abilene, TX Austin, TX            125182.0                961855.0     194.0   \n",
       "Akron, OH   Austin, TX            190469.0                961855.0    1172.0   \n",
       "\n",
       "                         load_factor  \n",
       "origin      destination               \n",
       "Abilene, TX Austin, TX      0.541935  \n",
       "Akron, OH   Austin, TX      0.960317  "
      ]
     },
     "execution_count": 450,
     "metadata": {},
     "output_type": "execute_result"
    }
   ],
   "source": [
    "df_to_learn.head(2)"
   ]
  },
  {
   "cell_type": "code",
   "execution_count": 452,
   "id": "fed57fac-7dd9-4e5a-96df-892dac992482",
   "metadata": {},
   "outputs": [],
   "source": [
    "x_train, x_test, y_train, y_test = train_test_split(df_to_learn[[\"population_origin\", \"population_destination\", \"distance\"]], df_to_learn[[\"load_factor\"]])"
   ]
  },
  {
   "cell_type": "code",
   "execution_count": 454,
   "id": "e7be557e-50b1-4310-a16d-449ee78bc158",
   "metadata": {},
   "outputs": [
    {
     "data": {
      "text/html": [
       "<div>\n",
       "<style scoped>\n",
       "    .dataframe tbody tr th:only-of-type {\n",
       "        vertical-align: middle;\n",
       "    }\n",
       "\n",
       "    .dataframe tbody tr th {\n",
       "        vertical-align: top;\n",
       "    }\n",
       "\n",
       "    .dataframe thead th {\n",
       "        text-align: right;\n",
       "    }\n",
       "</style>\n",
       "<table border=\"1\" class=\"dataframe\">\n",
       "  <thead>\n",
       "    <tr style=\"text-align: right;\">\n",
       "      <th></th>\n",
       "      <th></th>\n",
       "      <th>population_origin</th>\n",
       "      <th>population_destination</th>\n",
       "      <th>distance</th>\n",
       "    </tr>\n",
       "    <tr>\n",
       "      <th>origin</th>\n",
       "      <th>destination</th>\n",
       "      <th></th>\n",
       "      <th></th>\n",
       "      <th></th>\n",
       "    </tr>\n",
       "  </thead>\n",
       "  <tbody>\n",
       "    <tr>\n",
       "      <th>Columbia, SC</th>\n",
       "      <th>Knoxville, TN</th>\n",
       "      <td>136632.0</td>\n",
       "      <td>190740.0</td>\n",
       "      <td>208.0</td>\n",
       "    </tr>\n",
       "    <tr>\n",
       "      <th>Minneapolis, MN</th>\n",
       "      <th>Milwaukee, WI</th>\n",
       "      <td>429954.0</td>\n",
       "      <td>577222.0</td>\n",
       "      <td>297.0</td>\n",
       "    </tr>\n",
       "  </tbody>\n",
       "</table>\n",
       "</div>"
      ],
      "text/plain": [
       "                               population_origin  population_destination  \\\n",
       "origin          destination                                                \n",
       "Columbia, SC    Knoxville, TN           136632.0                190740.0   \n",
       "Minneapolis, MN Milwaukee, WI           429954.0                577222.0   \n",
       "\n",
       "                               distance  \n",
       "origin          destination              \n",
       "Columbia, SC    Knoxville, TN     208.0  \n",
       "Minneapolis, MN Milwaukee, WI     297.0  "
      ]
     },
     "execution_count": 454,
     "metadata": {},
     "output_type": "execute_result"
    }
   ],
   "source": [
    "x_train.head(2)"
   ]
  },
  {
   "cell_type": "code",
   "execution_count": 455,
   "id": "75eef0a9-cc7e-49bf-b356-f3b59a60524d",
   "metadata": {},
   "outputs": [
    {
     "data": {
      "text/plain": [
       "((4285, 3), (1429, 3), (4285, 1), (1429, 1))"
      ]
     },
     "execution_count": 455,
     "metadata": {},
     "output_type": "execute_result"
    }
   ],
   "source": [
    "x_train.shape, x_test.shape, y_train.shape, y_test.shape"
   ]
  },
  {
   "cell_type": "code",
   "execution_count": 465,
   "id": "503eae33-83a5-4836-9e39-33f425de580e",
   "metadata": {
    "collapsed": true,
    "jupyter": {
     "outputs_hidden": true
    },
    "tags": []
   },
   "outputs": [
    {
     "data": {
      "text/plain": [
       "\u001b[0;31mInit signature:\u001b[0m\n",
       " \u001b[0mCatBoostRegressor\u001b[0m\u001b[0;34m(\u001b[0m\u001b[0;34m\u001b[0m\n",
       "\u001b[0;34m\u001b[0m    \u001b[0miterations\u001b[0m\u001b[0;34m=\u001b[0m\u001b[0;32mNone\u001b[0m\u001b[0;34m,\u001b[0m\u001b[0;34m\u001b[0m\n",
       "\u001b[0;34m\u001b[0m    \u001b[0mlearning_rate\u001b[0m\u001b[0;34m=\u001b[0m\u001b[0;32mNone\u001b[0m\u001b[0;34m,\u001b[0m\u001b[0;34m\u001b[0m\n",
       "\u001b[0;34m\u001b[0m    \u001b[0mdepth\u001b[0m\u001b[0;34m=\u001b[0m\u001b[0;32mNone\u001b[0m\u001b[0;34m,\u001b[0m\u001b[0;34m\u001b[0m\n",
       "\u001b[0;34m\u001b[0m    \u001b[0ml2_leaf_reg\u001b[0m\u001b[0;34m=\u001b[0m\u001b[0;32mNone\u001b[0m\u001b[0;34m,\u001b[0m\u001b[0;34m\u001b[0m\n",
       "\u001b[0;34m\u001b[0m    \u001b[0mmodel_size_reg\u001b[0m\u001b[0;34m=\u001b[0m\u001b[0;32mNone\u001b[0m\u001b[0;34m,\u001b[0m\u001b[0;34m\u001b[0m\n",
       "\u001b[0;34m\u001b[0m    \u001b[0mrsm\u001b[0m\u001b[0;34m=\u001b[0m\u001b[0;32mNone\u001b[0m\u001b[0;34m,\u001b[0m\u001b[0;34m\u001b[0m\n",
       "\u001b[0;34m\u001b[0m    \u001b[0mloss_function\u001b[0m\u001b[0;34m=\u001b[0m\u001b[0;34m'RMSE'\u001b[0m\u001b[0;34m,\u001b[0m\u001b[0;34m\u001b[0m\n",
       "\u001b[0;34m\u001b[0m    \u001b[0mborder_count\u001b[0m\u001b[0;34m=\u001b[0m\u001b[0;32mNone\u001b[0m\u001b[0;34m,\u001b[0m\u001b[0;34m\u001b[0m\n",
       "\u001b[0;34m\u001b[0m    \u001b[0mfeature_border_type\u001b[0m\u001b[0;34m=\u001b[0m\u001b[0;32mNone\u001b[0m\u001b[0;34m,\u001b[0m\u001b[0;34m\u001b[0m\n",
       "\u001b[0;34m\u001b[0m    \u001b[0mper_float_feature_quantization\u001b[0m\u001b[0;34m=\u001b[0m\u001b[0;32mNone\u001b[0m\u001b[0;34m,\u001b[0m\u001b[0;34m\u001b[0m\n",
       "\u001b[0;34m\u001b[0m    \u001b[0minput_borders\u001b[0m\u001b[0;34m=\u001b[0m\u001b[0;32mNone\u001b[0m\u001b[0;34m,\u001b[0m\u001b[0;34m\u001b[0m\n",
       "\u001b[0;34m\u001b[0m    \u001b[0moutput_borders\u001b[0m\u001b[0;34m=\u001b[0m\u001b[0;32mNone\u001b[0m\u001b[0;34m,\u001b[0m\u001b[0;34m\u001b[0m\n",
       "\u001b[0;34m\u001b[0m    \u001b[0mfold_permutation_block\u001b[0m\u001b[0;34m=\u001b[0m\u001b[0;32mNone\u001b[0m\u001b[0;34m,\u001b[0m\u001b[0;34m\u001b[0m\n",
       "\u001b[0;34m\u001b[0m    \u001b[0mod_pval\u001b[0m\u001b[0;34m=\u001b[0m\u001b[0;32mNone\u001b[0m\u001b[0;34m,\u001b[0m\u001b[0;34m\u001b[0m\n",
       "\u001b[0;34m\u001b[0m    \u001b[0mod_wait\u001b[0m\u001b[0;34m=\u001b[0m\u001b[0;32mNone\u001b[0m\u001b[0;34m,\u001b[0m\u001b[0;34m\u001b[0m\n",
       "\u001b[0;34m\u001b[0m    \u001b[0mod_type\u001b[0m\u001b[0;34m=\u001b[0m\u001b[0;32mNone\u001b[0m\u001b[0;34m,\u001b[0m\u001b[0;34m\u001b[0m\n",
       "\u001b[0;34m\u001b[0m    \u001b[0mnan_mode\u001b[0m\u001b[0;34m=\u001b[0m\u001b[0;32mNone\u001b[0m\u001b[0;34m,\u001b[0m\u001b[0;34m\u001b[0m\n",
       "\u001b[0;34m\u001b[0m    \u001b[0mcounter_calc_method\u001b[0m\u001b[0;34m=\u001b[0m\u001b[0;32mNone\u001b[0m\u001b[0;34m,\u001b[0m\u001b[0;34m\u001b[0m\n",
       "\u001b[0;34m\u001b[0m    \u001b[0mleaf_estimation_iterations\u001b[0m\u001b[0;34m=\u001b[0m\u001b[0;32mNone\u001b[0m\u001b[0;34m,\u001b[0m\u001b[0;34m\u001b[0m\n",
       "\u001b[0;34m\u001b[0m    \u001b[0mleaf_estimation_method\u001b[0m\u001b[0;34m=\u001b[0m\u001b[0;32mNone\u001b[0m\u001b[0;34m,\u001b[0m\u001b[0;34m\u001b[0m\n",
       "\u001b[0;34m\u001b[0m    \u001b[0mthread_count\u001b[0m\u001b[0;34m=\u001b[0m\u001b[0;32mNone\u001b[0m\u001b[0;34m,\u001b[0m\u001b[0;34m\u001b[0m\n",
       "\u001b[0;34m\u001b[0m    \u001b[0mrandom_seed\u001b[0m\u001b[0;34m=\u001b[0m\u001b[0;32mNone\u001b[0m\u001b[0;34m,\u001b[0m\u001b[0;34m\u001b[0m\n",
       "\u001b[0;34m\u001b[0m    \u001b[0muse_best_model\u001b[0m\u001b[0;34m=\u001b[0m\u001b[0;32mNone\u001b[0m\u001b[0;34m,\u001b[0m\u001b[0;34m\u001b[0m\n",
       "\u001b[0;34m\u001b[0m    \u001b[0mbest_model_min_trees\u001b[0m\u001b[0;34m=\u001b[0m\u001b[0;32mNone\u001b[0m\u001b[0;34m,\u001b[0m\u001b[0;34m\u001b[0m\n",
       "\u001b[0;34m\u001b[0m    \u001b[0mverbose\u001b[0m\u001b[0;34m=\u001b[0m\u001b[0;32mNone\u001b[0m\u001b[0;34m,\u001b[0m\u001b[0;34m\u001b[0m\n",
       "\u001b[0;34m\u001b[0m    \u001b[0msilent\u001b[0m\u001b[0;34m=\u001b[0m\u001b[0;32mNone\u001b[0m\u001b[0;34m,\u001b[0m\u001b[0;34m\u001b[0m\n",
       "\u001b[0;34m\u001b[0m    \u001b[0mlogging_level\u001b[0m\u001b[0;34m=\u001b[0m\u001b[0;32mNone\u001b[0m\u001b[0;34m,\u001b[0m\u001b[0;34m\u001b[0m\n",
       "\u001b[0;34m\u001b[0m    \u001b[0mmetric_period\u001b[0m\u001b[0;34m=\u001b[0m\u001b[0;32mNone\u001b[0m\u001b[0;34m,\u001b[0m\u001b[0;34m\u001b[0m\n",
       "\u001b[0;34m\u001b[0m    \u001b[0mctr_leaf_count_limit\u001b[0m\u001b[0;34m=\u001b[0m\u001b[0;32mNone\u001b[0m\u001b[0;34m,\u001b[0m\u001b[0;34m\u001b[0m\n",
       "\u001b[0;34m\u001b[0m    \u001b[0mstore_all_simple_ctr\u001b[0m\u001b[0;34m=\u001b[0m\u001b[0;32mNone\u001b[0m\u001b[0;34m,\u001b[0m\u001b[0;34m\u001b[0m\n",
       "\u001b[0;34m\u001b[0m    \u001b[0mmax_ctr_complexity\u001b[0m\u001b[0;34m=\u001b[0m\u001b[0;32mNone\u001b[0m\u001b[0;34m,\u001b[0m\u001b[0;34m\u001b[0m\n",
       "\u001b[0;34m\u001b[0m    \u001b[0mhas_time\u001b[0m\u001b[0;34m=\u001b[0m\u001b[0;32mNone\u001b[0m\u001b[0;34m,\u001b[0m\u001b[0;34m\u001b[0m\n",
       "\u001b[0;34m\u001b[0m    \u001b[0mallow_const_label\u001b[0m\u001b[0;34m=\u001b[0m\u001b[0;32mNone\u001b[0m\u001b[0;34m,\u001b[0m\u001b[0;34m\u001b[0m\n",
       "\u001b[0;34m\u001b[0m    \u001b[0mtarget_border\u001b[0m\u001b[0;34m=\u001b[0m\u001b[0;32mNone\u001b[0m\u001b[0;34m,\u001b[0m\u001b[0;34m\u001b[0m\n",
       "\u001b[0;34m\u001b[0m    \u001b[0mone_hot_max_size\u001b[0m\u001b[0;34m=\u001b[0m\u001b[0;32mNone\u001b[0m\u001b[0;34m,\u001b[0m\u001b[0;34m\u001b[0m\n",
       "\u001b[0;34m\u001b[0m    \u001b[0mrandom_strength\u001b[0m\u001b[0;34m=\u001b[0m\u001b[0;32mNone\u001b[0m\u001b[0;34m,\u001b[0m\u001b[0;34m\u001b[0m\n",
       "\u001b[0;34m\u001b[0m    \u001b[0mname\u001b[0m\u001b[0;34m=\u001b[0m\u001b[0;32mNone\u001b[0m\u001b[0;34m,\u001b[0m\u001b[0;34m\u001b[0m\n",
       "\u001b[0;34m\u001b[0m    \u001b[0mignored_features\u001b[0m\u001b[0;34m=\u001b[0m\u001b[0;32mNone\u001b[0m\u001b[0;34m,\u001b[0m\u001b[0;34m\u001b[0m\n",
       "\u001b[0;34m\u001b[0m    \u001b[0mtrain_dir\u001b[0m\u001b[0;34m=\u001b[0m\u001b[0;32mNone\u001b[0m\u001b[0;34m,\u001b[0m\u001b[0;34m\u001b[0m\n",
       "\u001b[0;34m\u001b[0m    \u001b[0mcustom_metric\u001b[0m\u001b[0;34m=\u001b[0m\u001b[0;32mNone\u001b[0m\u001b[0;34m,\u001b[0m\u001b[0;34m\u001b[0m\n",
       "\u001b[0;34m\u001b[0m    \u001b[0meval_metric\u001b[0m\u001b[0;34m=\u001b[0m\u001b[0;32mNone\u001b[0m\u001b[0;34m,\u001b[0m\u001b[0;34m\u001b[0m\n",
       "\u001b[0;34m\u001b[0m    \u001b[0mbagging_temperature\u001b[0m\u001b[0;34m=\u001b[0m\u001b[0;32mNone\u001b[0m\u001b[0;34m,\u001b[0m\u001b[0;34m\u001b[0m\n",
       "\u001b[0;34m\u001b[0m    \u001b[0msave_snapshot\u001b[0m\u001b[0;34m=\u001b[0m\u001b[0;32mNone\u001b[0m\u001b[0;34m,\u001b[0m\u001b[0;34m\u001b[0m\n",
       "\u001b[0;34m\u001b[0m    \u001b[0msnapshot_file\u001b[0m\u001b[0;34m=\u001b[0m\u001b[0;32mNone\u001b[0m\u001b[0;34m,\u001b[0m\u001b[0;34m\u001b[0m\n",
       "\u001b[0;34m\u001b[0m    \u001b[0msnapshot_interval\u001b[0m\u001b[0;34m=\u001b[0m\u001b[0;32mNone\u001b[0m\u001b[0;34m,\u001b[0m\u001b[0;34m\u001b[0m\n",
       "\u001b[0;34m\u001b[0m    \u001b[0mfold_len_multiplier\u001b[0m\u001b[0;34m=\u001b[0m\u001b[0;32mNone\u001b[0m\u001b[0;34m,\u001b[0m\u001b[0;34m\u001b[0m\n",
       "\u001b[0;34m\u001b[0m    \u001b[0mused_ram_limit\u001b[0m\u001b[0;34m=\u001b[0m\u001b[0;32mNone\u001b[0m\u001b[0;34m,\u001b[0m\u001b[0;34m\u001b[0m\n",
       "\u001b[0;34m\u001b[0m    \u001b[0mgpu_ram_part\u001b[0m\u001b[0;34m=\u001b[0m\u001b[0;32mNone\u001b[0m\u001b[0;34m,\u001b[0m\u001b[0;34m\u001b[0m\n",
       "\u001b[0;34m\u001b[0m    \u001b[0mpinned_memory_size\u001b[0m\u001b[0;34m=\u001b[0m\u001b[0;32mNone\u001b[0m\u001b[0;34m,\u001b[0m\u001b[0;34m\u001b[0m\n",
       "\u001b[0;34m\u001b[0m    \u001b[0mallow_writing_files\u001b[0m\u001b[0;34m=\u001b[0m\u001b[0;32mNone\u001b[0m\u001b[0;34m,\u001b[0m\u001b[0;34m\u001b[0m\n",
       "\u001b[0;34m\u001b[0m    \u001b[0mfinal_ctr_computation_mode\u001b[0m\u001b[0;34m=\u001b[0m\u001b[0;32mNone\u001b[0m\u001b[0;34m,\u001b[0m\u001b[0;34m\u001b[0m\n",
       "\u001b[0;34m\u001b[0m    \u001b[0mapprox_on_full_history\u001b[0m\u001b[0;34m=\u001b[0m\u001b[0;32mNone\u001b[0m\u001b[0;34m,\u001b[0m\u001b[0;34m\u001b[0m\n",
       "\u001b[0;34m\u001b[0m    \u001b[0mboosting_type\u001b[0m\u001b[0;34m=\u001b[0m\u001b[0;32mNone\u001b[0m\u001b[0;34m,\u001b[0m\u001b[0;34m\u001b[0m\n",
       "\u001b[0;34m\u001b[0m    \u001b[0msimple_ctr\u001b[0m\u001b[0;34m=\u001b[0m\u001b[0;32mNone\u001b[0m\u001b[0;34m,\u001b[0m\u001b[0;34m\u001b[0m\n",
       "\u001b[0;34m\u001b[0m    \u001b[0mcombinations_ctr\u001b[0m\u001b[0;34m=\u001b[0m\u001b[0;32mNone\u001b[0m\u001b[0;34m,\u001b[0m\u001b[0;34m\u001b[0m\n",
       "\u001b[0;34m\u001b[0m    \u001b[0mper_feature_ctr\u001b[0m\u001b[0;34m=\u001b[0m\u001b[0;32mNone\u001b[0m\u001b[0;34m,\u001b[0m\u001b[0;34m\u001b[0m\n",
       "\u001b[0;34m\u001b[0m    \u001b[0mctr_description\u001b[0m\u001b[0;34m=\u001b[0m\u001b[0;32mNone\u001b[0m\u001b[0;34m,\u001b[0m\u001b[0;34m\u001b[0m\n",
       "\u001b[0;34m\u001b[0m    \u001b[0mctr_target_border_count\u001b[0m\u001b[0;34m=\u001b[0m\u001b[0;32mNone\u001b[0m\u001b[0;34m,\u001b[0m\u001b[0;34m\u001b[0m\n",
       "\u001b[0;34m\u001b[0m    \u001b[0mtask_type\u001b[0m\u001b[0;34m=\u001b[0m\u001b[0;32mNone\u001b[0m\u001b[0;34m,\u001b[0m\u001b[0;34m\u001b[0m\n",
       "\u001b[0;34m\u001b[0m    \u001b[0mdevice_config\u001b[0m\u001b[0;34m=\u001b[0m\u001b[0;32mNone\u001b[0m\u001b[0;34m,\u001b[0m\u001b[0;34m\u001b[0m\n",
       "\u001b[0;34m\u001b[0m    \u001b[0mdevices\u001b[0m\u001b[0;34m=\u001b[0m\u001b[0;32mNone\u001b[0m\u001b[0;34m,\u001b[0m\u001b[0;34m\u001b[0m\n",
       "\u001b[0;34m\u001b[0m    \u001b[0mbootstrap_type\u001b[0m\u001b[0;34m=\u001b[0m\u001b[0;32mNone\u001b[0m\u001b[0;34m,\u001b[0m\u001b[0;34m\u001b[0m\n",
       "\u001b[0;34m\u001b[0m    \u001b[0msubsample\u001b[0m\u001b[0;34m=\u001b[0m\u001b[0;32mNone\u001b[0m\u001b[0;34m,\u001b[0m\u001b[0;34m\u001b[0m\n",
       "\u001b[0;34m\u001b[0m    \u001b[0mmvs_reg\u001b[0m\u001b[0;34m=\u001b[0m\u001b[0;32mNone\u001b[0m\u001b[0;34m,\u001b[0m\u001b[0;34m\u001b[0m\n",
       "\u001b[0;34m\u001b[0m    \u001b[0msampling_frequency\u001b[0m\u001b[0;34m=\u001b[0m\u001b[0;32mNone\u001b[0m\u001b[0;34m,\u001b[0m\u001b[0;34m\u001b[0m\n",
       "\u001b[0;34m\u001b[0m    \u001b[0msampling_unit\u001b[0m\u001b[0;34m=\u001b[0m\u001b[0;32mNone\u001b[0m\u001b[0;34m,\u001b[0m\u001b[0;34m\u001b[0m\n",
       "\u001b[0;34m\u001b[0m    \u001b[0mdev_score_calc_obj_block_size\u001b[0m\u001b[0;34m=\u001b[0m\u001b[0;32mNone\u001b[0m\u001b[0;34m,\u001b[0m\u001b[0;34m\u001b[0m\n",
       "\u001b[0;34m\u001b[0m    \u001b[0mdev_efb_max_buckets\u001b[0m\u001b[0;34m=\u001b[0m\u001b[0;32mNone\u001b[0m\u001b[0;34m,\u001b[0m\u001b[0;34m\u001b[0m\n",
       "\u001b[0;34m\u001b[0m    \u001b[0msparse_features_conflict_fraction\u001b[0m\u001b[0;34m=\u001b[0m\u001b[0;32mNone\u001b[0m\u001b[0;34m,\u001b[0m\u001b[0;34m\u001b[0m\n",
       "\u001b[0;34m\u001b[0m    \u001b[0mmax_depth\u001b[0m\u001b[0;34m=\u001b[0m\u001b[0;32mNone\u001b[0m\u001b[0;34m,\u001b[0m\u001b[0;34m\u001b[0m\n",
       "\u001b[0;34m\u001b[0m    \u001b[0mn_estimators\u001b[0m\u001b[0;34m=\u001b[0m\u001b[0;32mNone\u001b[0m\u001b[0;34m,\u001b[0m\u001b[0;34m\u001b[0m\n",
       "\u001b[0;34m\u001b[0m    \u001b[0mnum_boost_round\u001b[0m\u001b[0;34m=\u001b[0m\u001b[0;32mNone\u001b[0m\u001b[0;34m,\u001b[0m\u001b[0;34m\u001b[0m\n",
       "\u001b[0;34m\u001b[0m    \u001b[0mnum_trees\u001b[0m\u001b[0;34m=\u001b[0m\u001b[0;32mNone\u001b[0m\u001b[0;34m,\u001b[0m\u001b[0;34m\u001b[0m\n",
       "\u001b[0;34m\u001b[0m    \u001b[0mcolsample_bylevel\u001b[0m\u001b[0;34m=\u001b[0m\u001b[0;32mNone\u001b[0m\u001b[0;34m,\u001b[0m\u001b[0;34m\u001b[0m\n",
       "\u001b[0;34m\u001b[0m    \u001b[0mrandom_state\u001b[0m\u001b[0;34m=\u001b[0m\u001b[0;32mNone\u001b[0m\u001b[0;34m,\u001b[0m\u001b[0;34m\u001b[0m\n",
       "\u001b[0;34m\u001b[0m    \u001b[0mreg_lambda\u001b[0m\u001b[0;34m=\u001b[0m\u001b[0;32mNone\u001b[0m\u001b[0;34m,\u001b[0m\u001b[0;34m\u001b[0m\n",
       "\u001b[0;34m\u001b[0m    \u001b[0mobjective\u001b[0m\u001b[0;34m=\u001b[0m\u001b[0;32mNone\u001b[0m\u001b[0;34m,\u001b[0m\u001b[0;34m\u001b[0m\n",
       "\u001b[0;34m\u001b[0m    \u001b[0meta\u001b[0m\u001b[0;34m=\u001b[0m\u001b[0;32mNone\u001b[0m\u001b[0;34m,\u001b[0m\u001b[0;34m\u001b[0m\n",
       "\u001b[0;34m\u001b[0m    \u001b[0mmax_bin\u001b[0m\u001b[0;34m=\u001b[0m\u001b[0;32mNone\u001b[0m\u001b[0;34m,\u001b[0m\u001b[0;34m\u001b[0m\n",
       "\u001b[0;34m\u001b[0m    \u001b[0mgpu_cat_features_storage\u001b[0m\u001b[0;34m=\u001b[0m\u001b[0;32mNone\u001b[0m\u001b[0;34m,\u001b[0m\u001b[0;34m\u001b[0m\n",
       "\u001b[0;34m\u001b[0m    \u001b[0mdata_partition\u001b[0m\u001b[0;34m=\u001b[0m\u001b[0;32mNone\u001b[0m\u001b[0;34m,\u001b[0m\u001b[0;34m\u001b[0m\n",
       "\u001b[0;34m\u001b[0m    \u001b[0mmetadata\u001b[0m\u001b[0;34m=\u001b[0m\u001b[0;32mNone\u001b[0m\u001b[0;34m,\u001b[0m\u001b[0;34m\u001b[0m\n",
       "\u001b[0;34m\u001b[0m    \u001b[0mearly_stopping_rounds\u001b[0m\u001b[0;34m=\u001b[0m\u001b[0;32mNone\u001b[0m\u001b[0;34m,\u001b[0m\u001b[0;34m\u001b[0m\n",
       "\u001b[0;34m\u001b[0m    \u001b[0mcat_features\u001b[0m\u001b[0;34m=\u001b[0m\u001b[0;32mNone\u001b[0m\u001b[0;34m,\u001b[0m\u001b[0;34m\u001b[0m\n",
       "\u001b[0;34m\u001b[0m    \u001b[0mgrow_policy\u001b[0m\u001b[0;34m=\u001b[0m\u001b[0;32mNone\u001b[0m\u001b[0;34m,\u001b[0m\u001b[0;34m\u001b[0m\n",
       "\u001b[0;34m\u001b[0m    \u001b[0mmin_data_in_leaf\u001b[0m\u001b[0;34m=\u001b[0m\u001b[0;32mNone\u001b[0m\u001b[0;34m,\u001b[0m\u001b[0;34m\u001b[0m\n",
       "\u001b[0;34m\u001b[0m    \u001b[0mmin_child_samples\u001b[0m\u001b[0;34m=\u001b[0m\u001b[0;32mNone\u001b[0m\u001b[0;34m,\u001b[0m\u001b[0;34m\u001b[0m\n",
       "\u001b[0;34m\u001b[0m    \u001b[0mmax_leaves\u001b[0m\u001b[0;34m=\u001b[0m\u001b[0;32mNone\u001b[0m\u001b[0;34m,\u001b[0m\u001b[0;34m\u001b[0m\n",
       "\u001b[0;34m\u001b[0m    \u001b[0mnum_leaves\u001b[0m\u001b[0;34m=\u001b[0m\u001b[0;32mNone\u001b[0m\u001b[0;34m,\u001b[0m\u001b[0;34m\u001b[0m\n",
       "\u001b[0;34m\u001b[0m    \u001b[0mscore_function\u001b[0m\u001b[0;34m=\u001b[0m\u001b[0;32mNone\u001b[0m\u001b[0;34m,\u001b[0m\u001b[0;34m\u001b[0m\n",
       "\u001b[0;34m\u001b[0m    \u001b[0mleaf_estimation_backtracking\u001b[0m\u001b[0;34m=\u001b[0m\u001b[0;32mNone\u001b[0m\u001b[0;34m,\u001b[0m\u001b[0;34m\u001b[0m\n",
       "\u001b[0;34m\u001b[0m    \u001b[0mctr_history_unit\u001b[0m\u001b[0;34m=\u001b[0m\u001b[0;32mNone\u001b[0m\u001b[0;34m,\u001b[0m\u001b[0;34m\u001b[0m\n",
       "\u001b[0;34m\u001b[0m    \u001b[0mmonotone_constraints\u001b[0m\u001b[0;34m=\u001b[0m\u001b[0;32mNone\u001b[0m\u001b[0;34m,\u001b[0m\u001b[0;34m\u001b[0m\n",
       "\u001b[0;34m\u001b[0m    \u001b[0mfeature_weights\u001b[0m\u001b[0;34m=\u001b[0m\u001b[0;32mNone\u001b[0m\u001b[0;34m,\u001b[0m\u001b[0;34m\u001b[0m\n",
       "\u001b[0;34m\u001b[0m    \u001b[0mpenalties_coefficient\u001b[0m\u001b[0;34m=\u001b[0m\u001b[0;32mNone\u001b[0m\u001b[0;34m,\u001b[0m\u001b[0;34m\u001b[0m\n",
       "\u001b[0;34m\u001b[0m    \u001b[0mfirst_feature_use_penalties\u001b[0m\u001b[0;34m=\u001b[0m\u001b[0;32mNone\u001b[0m\u001b[0;34m,\u001b[0m\u001b[0;34m\u001b[0m\n",
       "\u001b[0;34m\u001b[0m    \u001b[0mper_object_feature_penalties\u001b[0m\u001b[0;34m=\u001b[0m\u001b[0;32mNone\u001b[0m\u001b[0;34m,\u001b[0m\u001b[0;34m\u001b[0m\n",
       "\u001b[0;34m\u001b[0m    \u001b[0mmodel_shrink_rate\u001b[0m\u001b[0;34m=\u001b[0m\u001b[0;32mNone\u001b[0m\u001b[0;34m,\u001b[0m\u001b[0;34m\u001b[0m\n",
       "\u001b[0;34m\u001b[0m    \u001b[0mmodel_shrink_mode\u001b[0m\u001b[0;34m=\u001b[0m\u001b[0;32mNone\u001b[0m\u001b[0;34m,\u001b[0m\u001b[0;34m\u001b[0m\n",
       "\u001b[0;34m\u001b[0m    \u001b[0mlangevin\u001b[0m\u001b[0;34m=\u001b[0m\u001b[0;32mNone\u001b[0m\u001b[0;34m,\u001b[0m\u001b[0;34m\u001b[0m\n",
       "\u001b[0;34m\u001b[0m    \u001b[0mdiffusion_temperature\u001b[0m\u001b[0;34m=\u001b[0m\u001b[0;32mNone\u001b[0m\u001b[0;34m,\u001b[0m\u001b[0;34m\u001b[0m\n",
       "\u001b[0;34m\u001b[0m    \u001b[0mposterior_sampling\u001b[0m\u001b[0;34m=\u001b[0m\u001b[0;32mNone\u001b[0m\u001b[0;34m,\u001b[0m\u001b[0;34m\u001b[0m\n",
       "\u001b[0;34m\u001b[0m    \u001b[0mboost_from_average\u001b[0m\u001b[0;34m=\u001b[0m\u001b[0;32mNone\u001b[0m\u001b[0;34m,\u001b[0m\u001b[0;34m\u001b[0m\n",
       "\u001b[0;34m\u001b[0m\u001b[0;34m)\u001b[0m\u001b[0;34m\u001b[0m\u001b[0;34m\u001b[0m\u001b[0m\n",
       "\u001b[0;31mDocstring:\u001b[0m     \n",
       "Implementation of the scikit-learn API for CatBoost regression.\n",
       "\n",
       "Parameters\n",
       "----------\n",
       "Like in CatBoostClassifier, except loss_function, classes_count, class_names and class_weights\n",
       "\n",
       "loss_function : string, [default='RMSE']\n",
       "    'RMSE'\n",
       "    'MAE'\n",
       "    'Quantile:alpha=value'\n",
       "    'LogLinQuantile:alpha=value'\n",
       "    'Poisson'\n",
       "    'MAPE'\n",
       "    'Lq:q=value'\n",
       "    'SurvivalAft:dist=value;scale=value'\n",
       "\u001b[0;31mInit docstring:\u001b[0m\n",
       "Initialize the CatBoost.\n",
       "\n",
       "Parameters\n",
       "----------\n",
       "params : dict\n",
       "    Parameters for CatBoost.\n",
       "    If  None, all params are set to their defaults.\n",
       "    If  dict, overriding parameters present in dict.\n",
       "\u001b[0;31mFile:\u001b[0m           /mnt/envs/env38/lib/python3.8/site-packages/catboost/core.py\n",
       "\u001b[0;31mType:\u001b[0m           type\n",
       "\u001b[0;31mSubclasses:\u001b[0m     \n"
      ]
     },
     "metadata": {},
     "output_type": "display_data"
    }
   ],
   "source": [
    "? CatBoostRegressor"
   ]
  },
  {
   "cell_type": "code",
   "execution_count": 498,
   "id": "ea96e741-f1c6-4e60-a27f-78b5d684a2cd",
   "metadata": {},
   "outputs": [],
   "source": [
    "clf = CatBoostRegressor(iterations=10000)"
   ]
  },
  {
   "cell_type": "code",
   "execution_count": 500,
   "id": "9d9f2547-b3c9-483b-b025-1f35db3e70d2",
   "metadata": {},
   "outputs": [
    {
     "data": {
      "application/vnd.jupyter.widget-view+json": {
       "model_id": "7f2640441dad4ccaa055d6ad68b386d2",
       "version_major": 2,
       "version_minor": 0
      },
      "text/plain": [
       "MetricVisualizer(layout=Layout(align_self='stretch', height='500px'))"
      ]
     },
     "metadata": {},
     "output_type": "display_data"
    },
    {
     "name": "stdout",
     "output_type": "stream",
     "text": [
      "Learning rate set to 0.008788\n",
      "0:\tlearn: 0.1757169\ttest: 0.1807547\tbest: 0.1807547 (0)\ttotal: 2.04ms\tremaining: 20.4s\n",
      "1000:\tlearn: 0.1615922\ttest: 0.1742510\tbest: 0.1742510 (1000)\ttotal: 1.08s\tremaining: 9.7s\n",
      "2000:\tlearn: 0.1522644\ttest: 0.1721704\tbest: 0.1721704 (2000)\ttotal: 2.13s\tremaining: 8.53s\n",
      "3000:\tlearn: 0.1450636\ttest: 0.1710976\tbest: 0.1710976 (3000)\ttotal: 3.17s\tremaining: 7.39s\n",
      "4000:\tlearn: 0.1390236\ttest: 0.1704585\tbest: 0.1704585 (4000)\ttotal: 4.27s\tremaining: 6.4s\n",
      "5000:\tlearn: 0.1335664\ttest: 0.1703218\tbest: 0.1703218 (5000)\ttotal: 5.35s\tremaining: 5.34s\n",
      "6000:\tlearn: 0.1287860\ttest: 0.1703503\tbest: 0.1703218 (5000)\ttotal: 6.39s\tremaining: 4.26s\n",
      "7000:\tlearn: 0.1243578\ttest: 0.1705330\tbest: 0.1703218 (5000)\ttotal: 7.41s\tremaining: 3.17s\n",
      "8000:\tlearn: 0.1203349\ttest: 0.1706928\tbest: 0.1703218 (5000)\ttotal: 8.41s\tremaining: 2.1s\n",
      "9000:\tlearn: 0.1167337\ttest: 0.1709419\tbest: 0.1703218 (5000)\ttotal: 9.42s\tremaining: 1.04s\n",
      "9999:\tlearn: 0.1134316\ttest: 0.1711457\tbest: 0.1703218 (5000)\ttotal: 10.4s\tremaining: 0us\n",
      "\n",
      "bestTest = 0.1703217986\n",
      "bestIteration = 5000\n",
      "\n"
     ]
    },
    {
     "data": {
      "text/plain": [
       "<catboost.core.CatBoostRegressor at 0x7fcb2f1a0ac0>"
      ]
     },
     "execution_count": 500,
     "metadata": {},
     "output_type": "execute_result"
    }
   ],
   "source": [
    "clf.fit(X=x_train, y=y_train, eval_set=(x_test, y_test), metric_period=1000, plot=True, use_best_model=False)"
   ]
  },
  {
   "cell_type": "code",
   "execution_count": 507,
   "id": "c62750ff-76a5-4c52-996f-6602e2a5ceaa",
   "metadata": {},
   "outputs": [
    {
     "data": {
      "text/plain": [
       "<AxesSubplot:>"
      ]
     },
     "execution_count": 507,
     "metadata": {},
     "output_type": "execute_result"
    },
    {
     "data": {
      "image/png": "[encoded data removed]",
      "text/plain": [
       "<Figure size 432x288 with 1 Axes>"
      ]
     },
     "metadata": {
      "needs_background": "light"
     },
     "output_type": "display_data"
    }
   ],
   "source": [
    "ax = pd.DataFrame(clf.eval_metrics(Pool(x_train, y_train), metrics=[\"RMSE\"])).rename(columns={\"RMSE\": \"RMSE_train\"}).plot()\n",
    "pd.DataFrame(clf.eval_metrics(Pool(x_test, y_test), metrics=[\"RMSE\"])).rename(columns={\"RMSE\": \"RMSE_test\"}).plot(ax=ax)"
   ]
  },
  {
   "cell_type": "code",
   "execution_count": 508,
   "id": "d98d7c3b-6f8f-4762-9d1d-fe3b5321ceaa",
   "metadata": {},
   "outputs": [
    {
     "data": {
      "text/plain": [
       "<AxesSubplot:>"
      ]
     },
     "execution_count": 508,
     "metadata": {},
     "output_type": "execute_result"
    },
    {
     "data": {
      "image/png": "[encoded data removed]",
      "text/plain": [
       "<Figure size 432x288 with 1 Axes>"
      ]
     },
     "metadata": {
      "needs_background": "light"
     },
     "output_type": "display_data"
    }
   ],
   "source": [
    "ax = pd.DataFrame(clf.eval_metrics(Pool(x_train, y_train), metrics=[\"MAPE\"])).rename(columns={\"MAPE\": \"MAPE_train\"}).plot()\n",
    "pd.DataFrame(clf.eval_metrics(Pool(x_test, y_test), metrics=[\"MAPE\"])).rename(columns={\"MAPE\": \"MAPE_test\"}).plot(ax=ax)"
   ]
  },
  {
   "cell_type": "code",
   "execution_count": 514,
   "id": "5292cf4e-b405-4b78-9178-aea602458da5",
   "metadata": {},
   "outputs": [
    {
     "data": {
      "text/plain": [
       "array([36.92949973, 35.39822524, 27.67227503])"
      ]
     },
     "execution_count": 514,
     "metadata": {},
     "output_type": "execute_result"
    }
   ],
   "source": [
    "clf.get_feature_importance(Pool(x_train, y_train, feature_names=list(x_train.columns)))"
   ]
  },
  {
   "cell_type": "code",
   "execution_count": 515,
   "id": "febb538b-5b96-4fe7-913f-f3979df36d5e",
   "metadata": {},
   "outputs": [
    {
     "data": {
      "text/html": [
       "<div>\n",
       "<style scoped>\n",
       "    .dataframe tbody tr th:only-of-type {\n",
       "        vertical-align: middle;\n",
       "    }\n",
       "\n",
       "    .dataframe tbody tr th {\n",
       "        vertical-align: top;\n",
       "    }\n",
       "\n",
       "    .dataframe thead th {\n",
       "        text-align: right;\n",
       "    }\n",
       "</style>\n",
       "<table border=\"1\" class=\"dataframe\">\n",
       "  <thead>\n",
       "    <tr style=\"text-align: right;\">\n",
       "      <th></th>\n",
       "      <th></th>\n",
       "      <th>population_origin</th>\n",
       "      <th>population_destination</th>\n",
       "      <th>distance</th>\n",
       "    </tr>\n",
       "    <tr>\n",
       "      <th>origin</th>\n",
       "      <th>destination</th>\n",
       "      <th></th>\n",
       "      <th></th>\n",
       "      <th></th>\n",
       "    </tr>\n",
       "  </thead>\n",
       "  <tbody>\n",
       "    <tr>\n",
       "      <th>Columbia, SC</th>\n",
       "      <th>Knoxville, TN</th>\n",
       "      <td>136632.0</td>\n",
       "      <td>190740.0</td>\n",
       "      <td>208.0</td>\n",
       "    </tr>\n",
       "    <tr>\n",
       "      <th>Minneapolis, MN</th>\n",
       "      <th>Milwaukee, WI</th>\n",
       "      <td>429954.0</td>\n",
       "      <td>577222.0</td>\n",
       "      <td>297.0</td>\n",
       "    </tr>\n",
       "  </tbody>\n",
       "</table>\n",
       "</div>"
      ],
      "text/plain": [
       "                               population_origin  population_destination  \\\n",
       "origin          destination                                                \n",
       "Columbia, SC    Knoxville, TN           136632.0                190740.0   \n",
       "Minneapolis, MN Milwaukee, WI           429954.0                577222.0   \n",
       "\n",
       "                               distance  \n",
       "origin          destination              \n",
       "Columbia, SC    Knoxville, TN     208.0  \n",
       "Minneapolis, MN Milwaukee, WI     297.0  "
      ]
     },
     "execution_count": 515,
     "metadata": {},
     "output_type": "execute_result"
    }
   ],
   "source": [
    "x_train.head(2)"
   ]
  },
  {
   "cell_type": "markdown",
   "id": "f4de98a6-f6b6-414b-9f4b-542c521a8bf4",
   "metadata": {},
   "source": [
    "## Predict low 5%"
   ]
  },
  {
   "cell_type": "code",
   "execution_count": null,
   "id": "e93cc1c8-f68a-4db4-a42c-79f0585b86a8",
   "metadata": {},
   "outputs": [],
   "source": []
  }
 ],
 "metadata": {
  "kernelspec": {
   "display_name": "Python 3 (ipykernel)",
   "language": "python",
   "name": "python3"
  },
  "language_info": {
   "codemirror_mode": {
    "name": "ipython",
    "version": 3
   },
   "file_extension": ".py",
   "mimetype": "text/x-python",
   "name": "python",
   "nbconvert_exporter": "python",
   "pygments_lexer": "ipython3",
   "version": "3.8.13"
  }
 },
 "nbformat": 4,
 "nbformat_minor": 5
}
