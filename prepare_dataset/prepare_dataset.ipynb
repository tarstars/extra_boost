{
 "cells": [
  {
   "cell_type": "markdown",
   "id": "6e7e5b98-d0f0-4756-bae8-a855b7f361bd",
   "metadata": {},
   "source": [
    "# Includes"
   ]
  },
  {
   "cell_type": "code",
   "execution_count": 6,
   "id": "b734bfea-04c9-48e9-9ab0-c9968a5781f1",
   "metadata": {},
   "outputs": [],
   "source": [
    "from glob import glob\n",
    "\n",
    "import pandas as pd"
   ]
  },
  {
   "cell_type": "markdown",
   "id": "2d3be1ae-85f3-4258-821a-7bd8456a13b8",
   "metadata": {},
   "source": [
    "# Load raw dot files"
   ]
  },
  {
   "cell_type": "code",
   "execution_count": 8,
   "id": "1d893e6a-c188-4054-bae1-1532a7a4aca3",
   "metadata": {},
   "outputs": [],
   "source": [
    "df_dot = pd.concat(pd.read_csv(filename) for filename in glob(\"/home/tass/database/app_in_the_air/demand_predictions/dot_raw/dot_seats_distance_*.zip\"))"
   ]
  },
  {
   "cell_type": "code",
   "execution_count": 9,
   "id": "5a347974-a662-452d-a70b-00f1e65fd2e0",
   "metadata": {},
   "outputs": [
    {
     "data": {
      "text/html": [
       "<div>\n",
       "<style scoped>\n",
       "    .dataframe tbody tr th:only-of-type {\n",
       "        vertical-align: middle;\n",
       "    }\n",
       "\n",
       "    .dataframe tbody tr th {\n",
       "        vertical-align: top;\n",
       "    }\n",
       "\n",
       "    .dataframe thead th {\n",
       "        text-align: right;\n",
       "    }\n",
       "</style>\n",
       "<table border=\"1\" class=\"dataframe\">\n",
       "  <thead>\n",
       "    <tr style=\"text-align: right;\">\n",
       "      <th></th>\n",
       "      <th>0</th>\n",
       "      <th>1</th>\n",
       "    </tr>\n",
       "  </thead>\n",
       "  <tbody>\n",
       "    <tr>\n",
       "      <th>SEATS</th>\n",
       "      <td>0.0</td>\n",
       "      <td>0.0</td>\n",
       "    </tr>\n",
       "    <tr>\n",
       "      <th>PASSENGERS</th>\n",
       "      <td>0.0</td>\n",
       "      <td>0.0</td>\n",
       "    </tr>\n",
       "    <tr>\n",
       "      <th>DISTANCE</th>\n",
       "      <td>3417.0</td>\n",
       "      <td>3110.0</td>\n",
       "    </tr>\n",
       "    <tr>\n",
       "      <th>UNIQUE_CARRIER</th>\n",
       "      <td>KAQ</td>\n",
       "      <td>KAQ</td>\n",
       "    </tr>\n",
       "    <tr>\n",
       "      <th>UNIQUE_CARRIER_NAME</th>\n",
       "      <td>Kalitta Air LLC</td>\n",
       "      <td>Kalitta Air LLC</td>\n",
       "    </tr>\n",
       "    <tr>\n",
       "      <th>ORIGIN_AIRPORT_ID</th>\n",
       "      <td>10299</td>\n",
       "      <td>10299</td>\n",
       "    </tr>\n",
       "    <tr>\n",
       "      <th>ORIGIN</th>\n",
       "      <td>ANC</td>\n",
       "      <td>ANC</td>\n",
       "    </tr>\n",
       "    <tr>\n",
       "      <th>ORIGIN_CITY_NAME</th>\n",
       "      <td>Anchorage, AK</td>\n",
       "      <td>Anchorage, AK</td>\n",
       "    </tr>\n",
       "    <tr>\n",
       "      <th>DEST_AIRPORT_ID</th>\n",
       "      <td>10397</td>\n",
       "      <td>11193</td>\n",
       "    </tr>\n",
       "    <tr>\n",
       "      <th>DEST</th>\n",
       "      <td>ATL</td>\n",
       "      <td>CVG</td>\n",
       "    </tr>\n",
       "    <tr>\n",
       "      <th>DEST_CITY_NAME</th>\n",
       "      <td>Atlanta, GA</td>\n",
       "      <td>Cincinnati, OH</td>\n",
       "    </tr>\n",
       "    <tr>\n",
       "      <th>AIRCRAFT_TYPE</th>\n",
       "      <td>817</td>\n",
       "      <td>817</td>\n",
       "    </tr>\n",
       "    <tr>\n",
       "      <th>YEAR</th>\n",
       "      <td>2015</td>\n",
       "      <td>2015</td>\n",
       "    </tr>\n",
       "    <tr>\n",
       "      <th>MONTH</th>\n",
       "      <td>2</td>\n",
       "      <td>2</td>\n",
       "    </tr>\n",
       "  </tbody>\n",
       "</table>\n",
       "</div>"
      ],
      "text/plain": [
       "                                   0                1\n",
       "SEATS                            0.0              0.0\n",
       "PASSENGERS                       0.0              0.0\n",
       "DISTANCE                      3417.0           3110.0\n",
       "UNIQUE_CARRIER                   KAQ              KAQ\n",
       "UNIQUE_CARRIER_NAME  Kalitta Air LLC  Kalitta Air LLC\n",
       "ORIGIN_AIRPORT_ID              10299            10299\n",
       "ORIGIN                           ANC              ANC\n",
       "ORIGIN_CITY_NAME       Anchorage, AK    Anchorage, AK\n",
       "DEST_AIRPORT_ID                10397            11193\n",
       "DEST                             ATL              CVG\n",
       "DEST_CITY_NAME           Atlanta, GA   Cincinnati, OH\n",
       "AIRCRAFT_TYPE                    817              817\n",
       "YEAR                            2015             2015\n",
       "MONTH                              2                2"
      ]
     },
     "execution_count": 9,
     "metadata": {},
     "output_type": "execute_result"
    }
   ],
   "source": [
    "df_dot.head(2).T"
   ]
  },
  {
   "cell_type": "markdown",
   "id": "b7a0c2fe-d5ec-43ea-96c2-8a64711b22bd",
   "metadata": {},
   "source": [
    "# Load demographic data"
   ]
  },
  {
   "cell_type": "code",
   "execution_count": 10,
   "id": "6622737b-0157-4438-a070-a9127b6827a4",
   "metadata": {},
   "outputs": [
    {
     "name": "stderr",
     "output_type": "stream",
     "text": [
      "/mnt/envs/env38/lib/python3.8/site-packages/IPython/core/interactiveshell.py:3457: DtypeWarning: Columns (1) have mixed types.Specify dtype option on import or set low_memory=False.\n",
      "  exec(code_obj, self.user_global_ns, self.user_ns)\n"
     ]
    }
   ],
   "source": [
    "df_population = pd.read_csv(\"/home/tass/database/app_in_the_air/demand_predictions/dot_raw/UNdata_Export_20220412_221849008.csv\")"
   ]
  },
  {
   "cell_type": "code",
   "execution_count": 11,
   "id": "47149d2f-bd44-473f-b7ca-7df6e1a53faa",
   "metadata": {},
   "outputs": [],
   "source": [
    "# Generate static features"
   ]
  },
  {
   "cell_type": "markdown",
   "id": "908a30ff-68cc-442f-aef5-756f4d0a9dbe",
   "metadata": {},
   "source": [
    "* static features:\n",
    "  * distance between cities\n",
    "  * demographics data: city population in 2020   "
   ]
  },
  {
   "cell_type": "markdown",
   "id": "3fef2614-4902-49ba-a9d8-9b713d0cfe52",
   "metadata": {},
   "source": [
    "# TODO: add description of data, their licenses"
   ]
  },
  {
   "cell_type": "code",
   "execution_count": null,
   "id": "8e021e03-cfff-466c-b811-30b8d3f14856",
   "metadata": {},
   "outputs": [],
   "source": []
  }
 ],
 "metadata": {
  "kernelspec": {
   "display_name": "Python 3 (ipykernel)",
   "language": "python",
   "name": "python3"
  },
  "language_info": {
   "codemirror_mode": {
    "name": "ipython",
    "version": 3
   },
   "file_extension": ".py",
   "mimetype": "text/x-python",
   "name": "python",
   "nbconvert_exporter": "python",
   "pygments_lexer": "ipython3",
   "version": "3.8.13"
  }
 },
 "nbformat": 4,
 "nbformat_minor": 5
}
